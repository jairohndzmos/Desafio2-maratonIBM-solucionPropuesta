{
  "nbformat": 4,
  "nbformat_minor": 0,
  "metadata": {
    "kernelspec": {
      "name": "python3",
      "display_name": "Python 3.6",
      "language": "python"
    },
    "language_info": {
      "name": "python",
      "version": "3.6.9",
      "mimetype": "text/x-python",
      "codemirror_mode": {
        "name": "ipython",
        "version": 3
      },
      "pygments_lexer": "ipython3",
      "nbconvert_exporter": "python",
      "file_extension": ".py"
    },
    "colab": {
      "name": "parte-1.ipynb",
      "provenance": []
    },
    "accelerator": "GPU"
  },
  "cells": [
    {
      "cell_type": "markdown",
      "metadata": {
        "collapsed": true,
        "id": "fhHO1I-pt4OI",
        "colab_type": "text"
      },
      "source": [
        "# MARATÓN BEHIND THE CODE 2020\n",
        "\n",
        "## DESAFÍO 2: PARTE 1"
      ]
    },
    {
      "cell_type": "markdown",
      "metadata": {
        "id": "fg7PWEzFt4OK",
        "colab_type": "text"
      },
      "source": [
        "### Introducción"
      ]
    },
    {
      "cell_type": "markdown",
      "metadata": {
        "id": "Jna8U2RRt4OL",
        "colab_type": "text"
      },
      "source": [
        "En proyectos de ciencia de datos destinados a construir modelos de *aprendizaje automático*, o aprendizaje estadístico, es muy inusual que los datos iniciales ya estén en el formato ideal para la construcción de modelos. Se requieren varios pasos intermedios de preprocesamiento de datos, como la codificación de variables categóricas, normalización de variables numéricas, tratamiento de datos faltantes, etc. La biblioteca **scikit-learn**, una de las bibliotecas de código abierto más populares para *aprendizaje automático* en el mundo, ya tiene varias funciones integradas para realizar las transformaciones de datos más utilizadas. Sin embargo, en un flujo común de un modelo de aprendizaje automático, es necesario aplicar estas transformaciones al menos dos veces: la primera vez para \"entrenar\" el modelo, y luego nuevamente cuando se envían nuevos datos como entrada para ser clasificados por este modelo.\n",
        "\n",
        "Para facilitar el trabajo con este tipo de flujos, scikit-learn también cuenta con una herramienta llamada **Pipeline**, que no es más que una lista ordenada de transformaciones que se deben aplicar a los datos. Para ayudar en el desarrollo y la gestión de todo el ciclo de vida de estas aplicaciones, además del uso de Pipelines, los equipos de científicos de datos pueden utilizar en conjunto **Watson Machine Learning**, que tiene docenas de herramientas para entrenar , gestionar, alojar y evaluar modelos basados ​​en el aprendizaje automático. Además, Watson Machine Learning es capaz de encapsular pipelines y modelos en una API lista para usar e integrarse con otras aplicaciones.\n",
        "\n",
        "Durante el desafío 2, aprenderás como crear un **Pipeline** para un modelo de clasificación y alojarlo como una API con la ayuda de Watson Machine Learning. Una vez alojado, puedes integrar el modelo creado con otras aplicaciones, como asistentes virtuales y más. En este notebook, se presentará un ejemplo funcional de creación de un modelo y un pipeline en scikit-learn (¡que puedes usar como plantilla para tu solución!)."
      ]
    },
    {
      "cell_type": "markdown",
      "metadata": {
        "id": "aSUYFUIgt4OM",
        "colab_type": "text"
      },
      "source": [
        "### Trabajando con Pipelines del scikit-learn"
      ]
    },
    {
      "cell_type": "code",
      "metadata": {
        "id": "ZjTcZhbTt4ON",
        "colab_type": "code",
        "colab": {
          "base_uri": "https://localhost:8080/",
          "height": 224
        },
        "outputId": "9ce0790b-1fc4-4338-f097-f5d366b81937"
      },
      "source": [
        "# Primero, realizamos la instalación de scikit-learn versión 0.20.0 en el Kernel de este notebook:\n",
        "!pip install scikit-learn==0.22.0 --upgrade"
      ],
      "execution_count": null,
      "outputs": [
        {
          "output_type": "stream",
          "text": [
            "Collecting scikit-learn==0.22.0\n",
            "\u001b[?25l  Downloading https://files.pythonhosted.org/packages/2e/d0/860c4f6a7027e00acff373d9f5327f4ae3ed5872234b3cbdd7bcb52e5eff/scikit_learn-0.22-cp36-cp36m-manylinux1_x86_64.whl (7.0MB)\n",
            "\u001b[K     |████████████████████████████████| 7.0MB 2.7MB/s \n",
            "\u001b[?25hRequirement already satisfied, skipping upgrade: joblib>=0.11 in /usr/local/lib/python3.6/dist-packages (from scikit-learn==0.22.0) (0.16.0)\n",
            "Requirement already satisfied, skipping upgrade: scipy>=0.17.0 in /usr/local/lib/python3.6/dist-packages (from scikit-learn==0.22.0) (1.4.1)\n",
            "Requirement already satisfied, skipping upgrade: numpy>=1.11.0 in /usr/local/lib/python3.6/dist-packages (from scikit-learn==0.22.0) (1.18.5)\n",
            "Installing collected packages: scikit-learn\n",
            "  Found existing installation: scikit-learn 0.22.2.post1\n",
            "    Uninstalling scikit-learn-0.22.2.post1:\n",
            "      Successfully uninstalled scikit-learn-0.22.2.post1\n",
            "Successfully installed scikit-learn-0.22\n"
          ],
          "name": "stdout"
        }
      ]
    },
    {
      "cell_type": "code",
      "metadata": {
        "id": "D1FliMtGt4OU",
        "colab_type": "code",
        "colab": {
          "base_uri": "https://localhost:8080/",
          "height": 258
        },
        "outputId": "302ac9d2-b98a-4220-b3a3-1d55ca363a17"
      },
      "source": [
        "#JAIRO HERNANDEZ\n",
        "!pip install -U scikit-learn"
      ],
      "execution_count": null,
      "outputs": [
        {
          "output_type": "stream",
          "text": [
            "Collecting scikit-learn\n",
            "\u001b[?25l  Downloading https://files.pythonhosted.org/packages/5c/a1/273def87037a7fb010512bbc5901c31cfddfca8080bc63b42b26e3cc55b3/scikit_learn-0.23.2-cp36-cp36m-manylinux1_x86_64.whl (6.8MB)\n",
            "\u001b[K     |████████████████████████████████| 6.8MB 2.7MB/s \n",
            "\u001b[?25hRequirement already satisfied, skipping upgrade: joblib>=0.11 in /usr/local/lib/python3.6/dist-packages (from scikit-learn) (0.16.0)\n",
            "Requirement already satisfied, skipping upgrade: scipy>=0.19.1 in /usr/local/lib/python3.6/dist-packages (from scikit-learn) (1.4.1)\n",
            "Requirement already satisfied, skipping upgrade: numpy>=1.13.3 in /usr/local/lib/python3.6/dist-packages (from scikit-learn) (1.18.5)\n",
            "Collecting threadpoolctl>=2.0.0\n",
            "  Downloading https://files.pythonhosted.org/packages/f7/12/ec3f2e203afa394a149911729357aa48affc59c20e2c1c8297a60f33f133/threadpoolctl-2.1.0-py3-none-any.whl\n",
            "Installing collected packages: threadpoolctl, scikit-learn\n",
            "  Found existing installation: scikit-learn 0.22\n",
            "    Uninstalling scikit-learn-0.22:\n",
            "      Successfully uninstalled scikit-learn-0.22\n",
            "Successfully installed scikit-learn-0.23.2 threadpoolctl-2.1.0\n"
          ],
          "name": "stdout"
        }
      ]
    },
    {
      "cell_type": "code",
      "metadata": {
        "id": "jagz2pm4t4OY",
        "colab_type": "code",
        "colab": {}
      },
      "source": [
        "# A continuación importaremos varias bibliotecas que se utilizarán:\n",
        "\n",
        "# Biblioteca para trabajar con JSON\n",
        "import json\n",
        "\n",
        "# Biblioteca para realizar solicitudes HTTP\n",
        "import requests\n",
        "\n",
        "# Biblioteca para exploración y análisis de datos\n",
        "import pandas as pd\n",
        "\n",
        "# Biblioteca con métodos numéricos y representaciones matriciales\n",
        "import numpy as np\n",
        "\n",
        "# Biblioteca para construir un modelo basado en la técnica Gradient Boosting\n",
        "import xgboost as xgb\n",
        "\n",
        "# Paquetes scikit-learn para preprocesamiento de datos\n",
        "# \"SimpleImputer\" es una transformación para completar los valores faltantes en conjuntos de datos\n",
        "from sklearn.impute import SimpleImputer\n",
        "\n",
        "# Paquetes de scikit-learn para entrenamiento de modelos y construcción de pipelines\n",
        "# Método para separar el conjunto de datos en muestras de testes y entrenamiento\n",
        "from sklearn.model_selection import train_test_split\n",
        "# Método para crear modelos basados en árboles de decisión\n",
        "from sklearn.tree import DecisionTreeClassifier\n",
        "# Clase para crear una pipeline de machine-learning\n",
        "from sklearn.pipeline import Pipeline\n",
        "\n",
        "# Paquetes scikit-learn para evaluación de modelos\n",
        "# Métodos para la validación cruzada del modelo creado\n",
        "from sklearn.model_selection import KFold, cross_validate"
      ],
      "execution_count": null,
      "outputs": []
    },
    {
      "cell_type": "markdown",
      "metadata": {
        "id": "FCqUllt3t4Od",
        "colab_type": "text"
      },
      "source": [
        "### Importar  un .csv a tu proyecto en IBM Cloud Pak for Data al Kernel de este notebook"
      ]
    },
    {
      "cell_type": "markdown",
      "metadata": {
        "id": "94mNp4nft4Od",
        "colab_type": "text"
      },
      "source": [
        "Primero, importaremos el conjunto de datos proporcionado para el desafío, que ya está incluido en este proyecto.\n",
        "\n",
        "Puedes importar datos desde un archivo .csv directamente al Kernel del portátil como un Pandas DataFrame, que se usa ampliamente para manipular datos en Python.\n",
        "\n",
        "Para realizar la importación, simplemente selecciona la siguiente celda y siga las instrucciones en la imagen a continuación:\n",
        "\n",
        "![alt text](https://i.imgur.com/K1DwL9I.png \"importing-csv-as-df\")\n",
        "\n",
        "Después de seleccionar la opción **\"Insertar en el código\"**, la celda de abajo se llenará con el código necesario para importar y leer los datos en el archivo .csv como un Pandas DataFrame."
      ]
    },
    {
      "cell_type": "code",
      "metadata": {
        "id": "puprwK6Ht4Oe",
        "colab_type": "code",
        "colab": {
          "base_uri": "https://localhost:8080/",
          "height": 34
        },
        "outputId": "f36ab357-0f1c-412f-871a-cbbbe3f50ae8"
      },
      "source": [
        "from google.colab import drive\n",
        "drive.mount('/content/drive')"
      ],
      "execution_count": null,
      "outputs": [
        {
          "output_type": "stream",
          "text": [
            "Drive already mounted at /content/drive; to attempt to forcibly remount, call drive.mount(\"/content/drive\", force_remount=True).\n"
          ],
          "name": "stdout"
        }
      ]
    },
    {
      "cell_type": "code",
      "metadata": {
        "id": "h-hlMDgoudiL",
        "colab_type": "code",
        "colab": {
          "base_uri": "https://localhost:8080/",
          "height": 309
        },
        "outputId": "3ead8f04-5d70-42b4-c311-c12664e11659"
      },
      "source": [
        "import pandas as pd\n",
        "df_data_1 = pd.read_csv('/content/drive/My Drive/Colab Notebooks/dataset-tortuga-desafio-2.csv')\n",
        "df_data_1.head()"
      ],
      "execution_count": null,
      "outputs": [
        {
          "output_type": "execute_result",
          "data": {
            "text/html": [
              "<div>\n",
              "<style scoped>\n",
              "    .dataframe tbody tr th:only-of-type {\n",
              "        vertical-align: middle;\n",
              "    }\n",
              "\n",
              "    .dataframe tbody tr th {\n",
              "        vertical-align: top;\n",
              "    }\n",
              "\n",
              "    .dataframe thead th {\n",
              "        text-align: right;\n",
              "    }\n",
              "</style>\n",
              "<table border=\"1\" class=\"dataframe\">\n",
              "  <thead>\n",
              "    <tr style=\"text-align: right;\">\n",
              "      <th></th>\n",
              "      <th>Unnamed: 0</th>\n",
              "      <th>NAME</th>\n",
              "      <th>USER_ID</th>\n",
              "      <th>HOURS_DATASCIENCE</th>\n",
              "      <th>HOURS_BACKEND</th>\n",
              "      <th>HOURS_FRONTEND</th>\n",
              "      <th>NUM_COURSES_BEGINNER_DATASCIENCE</th>\n",
              "      <th>NUM_COURSES_BEGINNER_BACKEND</th>\n",
              "      <th>NUM_COURSES_BEGINNER_FRONTEND</th>\n",
              "      <th>NUM_COURSES_ADVANCED_DATASCIENCE</th>\n",
              "      <th>NUM_COURSES_ADVANCED_BACKEND</th>\n",
              "      <th>NUM_COURSES_ADVANCED_FRONTEND</th>\n",
              "      <th>AVG_SCORE_DATASCIENCE</th>\n",
              "      <th>AVG_SCORE_BACKEND</th>\n",
              "      <th>AVG_SCORE_FRONTEND</th>\n",
              "      <th>PROFILE</th>\n",
              "    </tr>\n",
              "  </thead>\n",
              "  <tbody>\n",
              "    <tr>\n",
              "      <th>0</th>\n",
              "      <td>28</td>\n",
              "      <td>Stormy Muto</td>\n",
              "      <td>58283940</td>\n",
              "      <td>7.0</td>\n",
              "      <td>39.0</td>\n",
              "      <td>29.0</td>\n",
              "      <td>2.0</td>\n",
              "      <td>4.0</td>\n",
              "      <td>0.0</td>\n",
              "      <td>2.0</td>\n",
              "      <td>5.0</td>\n",
              "      <td>0.0</td>\n",
              "      <td>84.0</td>\n",
              "      <td>74.0</td>\n",
              "      <td>NaN</td>\n",
              "      <td>beginner_front_end</td>\n",
              "    </tr>\n",
              "    <tr>\n",
              "      <th>1</th>\n",
              "      <td>81</td>\n",
              "      <td>Carlos Ferro</td>\n",
              "      <td>1357218</td>\n",
              "      <td>32.0</td>\n",
              "      <td>0.0</td>\n",
              "      <td>44.0</td>\n",
              "      <td>2.0</td>\n",
              "      <td>0.0</td>\n",
              "      <td>0.0</td>\n",
              "      <td>0.0</td>\n",
              "      <td>5.0</td>\n",
              "      <td>0.0</td>\n",
              "      <td>67.0</td>\n",
              "      <td>45.0</td>\n",
              "      <td>NaN</td>\n",
              "      <td>beginner_front_end</td>\n",
              "    </tr>\n",
              "    <tr>\n",
              "      <th>2</th>\n",
              "      <td>89</td>\n",
              "      <td>Robby Constantini</td>\n",
              "      <td>63212105</td>\n",
              "      <td>45.0</td>\n",
              "      <td>0.0</td>\n",
              "      <td>59.0</td>\n",
              "      <td>0.0</td>\n",
              "      <td>5.0</td>\n",
              "      <td>4.0</td>\n",
              "      <td>0.0</td>\n",
              "      <td>4.0</td>\n",
              "      <td>1.0</td>\n",
              "      <td>NaN</td>\n",
              "      <td>54.0</td>\n",
              "      <td>47.0</td>\n",
              "      <td>advanced_front_end</td>\n",
              "    </tr>\n",
              "    <tr>\n",
              "      <th>3</th>\n",
              "      <td>138</td>\n",
              "      <td>Paul Mckenny</td>\n",
              "      <td>23239851</td>\n",
              "      <td>36.0</td>\n",
              "      <td>19.0</td>\n",
              "      <td>28.0</td>\n",
              "      <td>0.0</td>\n",
              "      <td>5.0</td>\n",
              "      <td>7.0</td>\n",
              "      <td>0.0</td>\n",
              "      <td>5.0</td>\n",
              "      <td>3.0</td>\n",
              "      <td>NaN</td>\n",
              "      <td>71.0</td>\n",
              "      <td>89.0</td>\n",
              "      <td>beginner_data_science</td>\n",
              "    </tr>\n",
              "    <tr>\n",
              "      <th>4</th>\n",
              "      <td>143</td>\n",
              "      <td>Jean Webb</td>\n",
              "      <td>72234478</td>\n",
              "      <td>61.0</td>\n",
              "      <td>78.0</td>\n",
              "      <td>38.0</td>\n",
              "      <td>6.0</td>\n",
              "      <td>11.0</td>\n",
              "      <td>0.0</td>\n",
              "      <td>4.0</td>\n",
              "      <td>3.0</td>\n",
              "      <td>0.0</td>\n",
              "      <td>66.0</td>\n",
              "      <td>85.0</td>\n",
              "      <td>NaN</td>\n",
              "      <td>advanced_front_end</td>\n",
              "    </tr>\n",
              "  </tbody>\n",
              "</table>\n",
              "</div>"
            ],
            "text/plain": [
              "   Unnamed: 0               NAME  ...  AVG_SCORE_FRONTEND                PROFILE\n",
              "0          28        Stormy Muto  ...                 NaN     beginner_front_end\n",
              "1          81       Carlos Ferro  ...                 NaN     beginner_front_end\n",
              "2          89  Robby Constantini  ...                47.0     advanced_front_end\n",
              "3         138       Paul Mckenny  ...                89.0  beginner_data_science\n",
              "4         143          Jean Webb  ...                 NaN     advanced_front_end\n",
              "\n",
              "[5 rows x 16 columns]"
            ]
          },
          "metadata": {
            "tags": []
          },
          "execution_count": 153
        }
      ]
    },
    {
      "cell_type": "code",
      "metadata": {
        "id": "lL--0jUavKlb",
        "colab_type": "code",
        "colab": {
          "base_uri": "https://localhost:8080/",
          "height": 34
        },
        "outputId": "af0de5b4-bcb1-411b-cf08-0ee32aa818e7"
      },
      "source": [
        "%tensorflow_version 2.x\n",
        "import tensorflow as tf\n",
        "device_name = tf.test.gpu_device_name()\n",
        "if device_name != '/device:GPU:0':\n",
        "  raise SystemError('GPU device not found')\n",
        "print('Found GPU at: {}'.format(device_name))"
      ],
      "execution_count": null,
      "outputs": [
        {
          "output_type": "stream",
          "text": [
            "Found GPU at: /device:GPU:0\n"
          ],
          "name": "stdout"
        }
      ]
    },
    {
      "cell_type": "markdown",
      "metadata": {
        "id": "1Zcz3n2xt4Oj",
        "colab_type": "text"
      },
      "source": [
        "Tenemos 16 columnas presentes en el set de datos proporcionado, 15 de las cuales son variables features (datos de entrada) y una de ellas es una variable target (que queremos que nuestro modelo va a predecir).\n",
        "\n",
        "Las variables features son:\n",
        "\n",
        "    Unnamed: 0                          - Esta columna no tiene nombre y debe ser eliminada del dataset\n",
        "    NAME                                - Nombre del estudiante\n",
        "    USER_ID                             - Número de identificación del estudiante\n",
        "    HOURS_DATASCIENCE                   - Número de horas de estudio en Data Science\n",
        "    HOURS_BACKEND                       - Número de horas de estudio en Web (Back-End)\n",
        "    HOURS_FRONTEND                      - Número de horas de estudio en Web (Front-End)\n",
        "    NUM_COURSES_BEGINNER_DATASCIENCE    - Número de cursos de nivel principiante en Data Science completados por el estudiante\n",
        "    NUM_COURSES_BEGINNER_BACKEND        - Número de cursos de nivel principiante en Web (Back-End) completados por el estudiante\n",
        "    NUM_COURSES_BEGINNER_FRONTEND       - Número de cursos de nivel principiante en Web (Front-End) completados por el estudiante\n",
        "    NUM_COURSES_ADVANCED_DATASCIENCE    - Número de cursos de nivel avanzado en Data Science completados por el estudiante\n",
        "    NUM_COURSES_ADVANCED_BACKEND        - Número de cursos de nivel avanzado en Web (Back-End) completados por el estudiante\n",
        "    NUM_COURSES_ADVANCED_FRONTEND       - Número de cursos de nivel avanzado en Web (Front-End) completados por el estudiante\n",
        "    AVG_SCORE_DATASCIENCE               - Promedio acumulado en cursos de Data Science completados por el estudiante\n",
        "    AVG_SCORE_BACKEND                   - Promedio acumulado en cursos de Web (Back-End) completados por el estudiante\n",
        "    AVG_SCORE_FRONTEND                  - Promedio acumulado en cursos de Web (Front-End) completados por el estudiante\n",
        "    \n",
        "La variable target es:\n",
        "\n",
        "    PROFILE                             - Perfil de carrera del estudiante (puede ser uno de 6)\n",
        "    \n",
        "        - beginner_front_end\n",
        "        - advanced_front_end\n",
        "        - beginner_back_end\n",
        "        - advanced_back_end\n",
        "        - beginner_data_science\n",
        "        - advanced_data_science\n",
        "        \n",
        "Con un modelo capaz de clasificar a un alumno en una de estas categorías, podemos recomendar contenidos a los alumnos de forma personalizada según las necesidades de cada alumno."
      ]
    },
    {
      "cell_type": "markdown",
      "metadata": {
        "id": "lY9dDjACt4Ok",
        "colab_type": "text"
      },
      "source": [
        "### Explorando los datos proporcionados\n",
        "\n",
        "Podemos continuar la exploración de los datos proporcionados con la función ``info()``:"
      ]
    },
    {
      "cell_type": "code",
      "metadata": {
        "id": "YkxjAIDlt4Ok",
        "colab_type": "code",
        "colab": {
          "base_uri": "https://localhost:8080/",
          "height": 408
        },
        "outputId": "dd50d32e-e1c1-4729-f522-414ebc0a8cae"
      },
      "source": [
        "df_data_1.info()"
      ],
      "execution_count": null,
      "outputs": [
        {
          "output_type": "stream",
          "text": [
            "<class 'pandas.core.frame.DataFrame'>\n",
            "RangeIndex: 20000 entries, 0 to 19999\n",
            "Data columns (total 16 columns):\n",
            " #   Column                            Non-Null Count  Dtype  \n",
            "---  ------                            --------------  -----  \n",
            " 0   Unnamed: 0                        20000 non-null  int64  \n",
            " 1   NAME                              20000 non-null  object \n",
            " 2   USER_ID                           20000 non-null  int64  \n",
            " 3   HOURS_DATASCIENCE                 19986 non-null  float64\n",
            " 4   HOURS_BACKEND                     19947 non-null  float64\n",
            " 5   HOURS_FRONTEND                    19984 non-null  float64\n",
            " 6   NUM_COURSES_BEGINNER_DATASCIENCE  19974 non-null  float64\n",
            " 7   NUM_COURSES_BEGINNER_BACKEND      19982 non-null  float64\n",
            " 8   NUM_COURSES_BEGINNER_FRONTEND     19961 non-null  float64\n",
            " 9   NUM_COURSES_ADVANCED_DATASCIENCE  19998 non-null  float64\n",
            " 10  NUM_COURSES_ADVANCED_BACKEND      19992 non-null  float64\n",
            " 11  NUM_COURSES_ADVANCED_FRONTEND     19963 non-null  float64\n",
            " 12  AVG_SCORE_DATASCIENCE             19780 non-null  float64\n",
            " 13  AVG_SCORE_BACKEND                 19916 non-null  float64\n",
            " 14  AVG_SCORE_FRONTEND                19832 non-null  float64\n",
            " 15  PROFILE                           20000 non-null  object \n",
            "dtypes: float64(12), int64(2), object(2)\n",
            "memory usage: 2.4+ MB\n"
          ],
          "name": "stdout"
        }
      ]
    },
    {
      "cell_type": "markdown",
      "metadata": {
        "id": "YxMDPDJ6t4Op",
        "colab_type": "text"
      },
      "source": [
        "### Visualización (visualizations)\n",
        "\n",
        "Para ver el conjunto de datos suministrado, podemos usar las bibliotecas ``matplotlib`` y ``seaborn``:"
      ]
    },
    {
      "cell_type": "code",
      "metadata": {
        "id": "ptHdRvV7t4Oq",
        "colab_type": "code",
        "colab": {
          "base_uri": "https://localhost:8080/",
          "height": 71
        },
        "outputId": "a98152ec-2bdf-4c29-b733-8062841fe881"
      },
      "source": [
        "import matplotlib.pyplot as plt\n",
        "import seaborn as sns\n",
        "%matplotlib inline"
      ],
      "execution_count": null,
      "outputs": [
        {
          "output_type": "stream",
          "text": [
            "/usr/local/lib/python3.6/dist-packages/statsmodels/tools/_testing.py:19: FutureWarning: pandas.util.testing is deprecated. Use the functions in the public API at pandas.testing instead.\n",
            "  import pandas.util.testing as tm\n"
          ],
          "name": "stderr"
        }
      ]
    },
    {
      "cell_type": "code",
      "metadata": {
        "id": "lBsbQvhXt4Ov",
        "colab_type": "code",
        "colab": {
          "base_uri": "https://localhost:8080/",
          "height": 235
        },
        "outputId": "e842db36-ec9d-4b4d-bd96-382969e6f469"
      },
      "source": [
        "fig, axes = plt.subplots(nrows=1, ncols=3, figsize=(28, 4))\n",
        "\n",
        "sns.distplot(df_data_1['HOURS_DATASCIENCE'].dropna(), ax=axes[0])\n",
        "sns.distplot(df_data_1['HOURS_BACKEND'].dropna(), ax=axes[1])\n",
        "sns.distplot(df_data_1['HOURS_FRONTEND'].dropna(), ax=axes[2])"
      ],
      "execution_count": null,
      "outputs": [
        {
          "output_type": "execute_result",
          "data": {
            "text/plain": [
              "<matplotlib.axes._subplots.AxesSubplot at 0x7fc980515ef0>"
            ]
          },
          "metadata": {
            "tags": []
          },
          "execution_count": 8
        },
        {
          "output_type": "display_data",
          "data": {
            "image/png": "[encoded data removed]",
            "text/plain": [
              "<Figure size 2016x288 with 3 Axes>"
            ]
          },
          "metadata": {
            "tags": [],
            "needs_background": "light"
          }
        }
      ]
    },
    {
      "cell_type": "code",
      "metadata": {
        "id": "KaF6nHgPt4Oz",
        "colab_type": "code",
        "colab": {
          "base_uri": "https://localhost:8080/",
          "height": 239
        },
        "outputId": "d4499b4a-89b9-4165-8234-33fe6ad6cc3b"
      },
      "source": [
        "fig, axes = plt.subplots(nrows=2, ncols=3, figsize=(28, 4))\n",
        "\n",
        "sns.distplot(df_data_1['NUM_COURSES_BEGINNER_DATASCIENCE'].dropna(), ax=axes[0][0])\n",
        "sns.distplot(df_data_1['NUM_COURSES_BEGINNER_BACKEND'].dropna(), ax=axes[0][1])\n",
        "sns.distplot(df_data_1['NUM_COURSES_BEGINNER_FRONTEND'].dropna(), ax=axes[0][2])\n",
        "sns.distplot(df_data_1['NUM_COURSES_ADVANCED_DATASCIENCE'].dropna(), ax=axes[1][0])\n",
        "sns.distplot(df_data_1['NUM_COURSES_ADVANCED_BACKEND'].dropna(), ax=axes[1][1])\n",
        "sns.distplot(df_data_1['NUM_COURSES_ADVANCED_FRONTEND'].dropna(), ax=axes[1][2])"
      ],
      "execution_count": null,
      "outputs": [
        {
          "output_type": "execute_result",
          "data": {
            "text/plain": [
              "<matplotlib.axes._subplots.AxesSubplot at 0x7fc925f8a710>"
            ]
          },
          "metadata": {
            "tags": []
          },
          "execution_count": 9
        },
        {
          "output_type": "display_data",
          "data": {
            "image/png": "[encoded data removed]",
            "text/plain": [
              "<Figure size 2016x288 with 6 Axes>"
            ]
          },
          "metadata": {
            "tags": [],
            "needs_background": "light"
          }
        }
      ]
    },
    {
      "cell_type": "code",
      "metadata": {
        "id": "pYKXHiPht4O3",
        "colab_type": "code",
        "colab": {
          "base_uri": "https://localhost:8080/",
          "height": 236
        },
        "outputId": "fefddad4-a284-4623-cf8e-e92883103cf1"
      },
      "source": [
        "fig, axes = plt.subplots(nrows=1, ncols=3, figsize=(28, 4))\n",
        "\n",
        "sns.distplot(df_data_1['AVG_SCORE_DATASCIENCE'].dropna(), ax=axes[0])\n",
        "sns.distplot(df_data_1['AVG_SCORE_BACKEND'].dropna(), ax=axes[1])\n",
        "sns.distplot(df_data_1['AVG_SCORE_FRONTEND'].dropna(), ax=axes[2])"
      ],
      "execution_count": null,
      "outputs": [
        {
          "output_type": "execute_result",
          "data": {
            "text/plain": [
              "<matplotlib.axes._subplots.AxesSubplot at 0x7fc925b08780>"
            ]
          },
          "metadata": {
            "tags": []
          },
          "execution_count": 10
        },
        {
          "output_type": "display_data",
          "data": {
            "image/png": "[encoded data removed]",
            "text/plain": [
              "<Figure size 2016x288 with 3 Axes>"
            ]
          },
          "metadata": {
            "tags": [],
            "needs_background": "light"
          }
        }
      ]
    },
    {
      "cell_type": "code",
      "metadata": {
        "id": "QbO3kJPMt4O7",
        "colab_type": "code",
        "colab": {
          "base_uri": "https://localhost:8080/",
          "height": 237
        },
        "outputId": "f65f6057-584d-48bb-bb0f-649409ee7ac8"
      },
      "source": [
        "fig, axes = plt.subplots(nrows=1, ncols=2, figsize=(28, 4))\n",
        "\n",
        "sns.countplot(ax=axes[0], x='PROFILE', data=df_data_1)"
      ],
      "execution_count": null,
      "outputs": [
        {
          "output_type": "execute_result",
          "data": {
            "text/plain": [
              "<matplotlib.axes._subplots.AxesSubplot at 0x7fc925ac8e80>"
            ]
          },
          "metadata": {
            "tags": []
          },
          "execution_count": 11
        },
        {
          "output_type": "display_data",
          "data": {
            "image/png": "[encoded data removed]",
            "text/plain": [
              "<Figure size 2016x288 with 2 Axes>"
            ]
          },
          "metadata": {
            "tags": [],
            "needs_background": "light"
          }
        }
      ]
    },
    {
      "cell_type": "markdown",
      "metadata": {
        "id": "5zjWzfTNt4O_",
        "colab_type": "text"
      },
      "source": [
        "### Preprocesamiento de datos"
      ]
    },
    {
      "cell_type": "markdown",
      "metadata": {
        "id": "ixMwCtRCt4PA",
        "colab_type": "text"
      },
      "source": [
        "Para el preprocesamiento de los datos, se presentarán en este notebook dos transformaciones básicas, demostrando la construcción de un Pipeline con un modelo funcional. Este Pipeline funcional provisto debe ser mejorado por el participante para que el modelo final alcance la mayor precisión posible, garantizando una mayor puntuación en el desafío. Esta mejora solo se puede realizar en el preprocesamiento de los datos, en la elección de un algoritmo para el entrenamiento de diferentes modelos, o incluso en la alteración del **framework** utilizado (sin embargo, solo se entregará un ejemplo de integración de Watson Machine Learning con *scikit-learn*).\n",
        "\n",
        "La primera transformación (paso en nuestro Pipeline) será la exclusión de la columna \"NOMBRE\" de nuestro conjunto de datos, que además de no ser una variable numérica, tampoco es una variable relacionada con el desempeño de los estudiantes en las disciplinas. Hay funciones listas para usar en *scikit-learn* para realizar esta transformación, sin embargo, nuestro ejemplo demostrará cómo crear una transformación personalizada desde cero en scikit-learn. Si lo desea, el participante puede usar este ejemplo para crear otras transformaciones y agregarlas al Pipeline final :)"
      ]
    },
    {
      "cell_type": "code",
      "metadata": {
        "id": "MEzGTqvsWaTf",
        "colab_type": "code",
        "colab": {}
      },
      "source": [
        "from sklearn.impute import KNNImputer\n",
        "from sklearn.preprocessing import StandardScaler\n",
        "from keras.models import Sequential\n",
        "from keras.layers import Dense\n",
        "from keras.wrappers.scikit_learn import KerasClassifier\n",
        "from keras.utils import np_utils\n",
        "from sklearn.model_selection import cross_val_score\n",
        "from sklearn.model_selection import KFold\n",
        "from sklearn.preprocessing import LabelEncoder\n",
        "from sklearn.pipeline import Pipeline\n",
        "from sklearn import preprocessing"
      ],
      "execution_count": null,
      "outputs": []
    },
    {
      "cell_type": "code",
      "metadata": {
        "id": "5XcE6vPnt4PB",
        "colab_type": "code",
        "colab": {}
      },
      "source": [
        "from sklearn.base import BaseEstimator, TransformerMixin\n",
        "\n",
        "\n",
        "# All sklearn Transforms must have the `transform` and `fit` methods\n",
        "class DropColumns(BaseEstimator, TransformerMixin):\n",
        "    def __init__(self, columns):\n",
        "        self.columns = columns\n",
        "\n",
        "    def fit(self, X, y=None):\n",
        "        return self\n",
        "    \n",
        "    def transform(self, X):\n",
        "        # Primero copiamos el dataframe de datos de entrada 'X'\n",
        "        data = X.copy()\n",
        "        # Devolvemos un nuevo dataframe de datos sin las columnas no deseadas\n",
        "        return data.drop(labels=self.columns, axis='columns')"
      ],
      "execution_count": null,
      "outputs": []
    },
    {
      "cell_type": "code",
      "metadata": {
        "id": "0VeNQl3jUnD9",
        "colab_type": "code",
        "colab": {}
      },
      "source": [
        "from sklearn.base import BaseEstimator, TransformerMixin\n",
        "from sklearn.impute import KNNImputer\n",
        "from sklearn.preprocessing import StandardScaler\n",
        "from sklearn.preprocessing import LabelEncoder\n",
        "from keras.utils import np_utils\n",
        "import numpy as np\n",
        "import pandas as pd\n",
        "from sklearn.model_selection import train_test_split\n",
        "\n",
        "\n",
        "# All sklearn Transforms must have the `transform` and `fit` methods\n",
        "class DropColumns(BaseEstimator, TransformerMixin):\n",
        "    def __init__(self, columns):\n",
        "        self.columns = columns\n",
        "\n",
        "    def fit(self, X, y):\n",
        "        return self\n",
        "    \n",
        "    def transform(self, X, y):\n",
        "        #imputer\n",
        "        imputer = KNNImputer()\n",
        "        #scaler\n",
        "        scaler = StandardScaler()\n",
        "        #label encoder\n",
        "        le = preprocessing.LabelEncoder()\n",
        "        # Primero copiamos el dataframe de datos de entrada 'X'\n",
        "        data = X.copy()\n",
        "        labels =y.copy()\n",
        "        # Devolvemos un nuevo dataframe de datos sin las columnas no deseadas\n",
        "        data = data.drop(labels=self.columns, axis='columns')\n",
        "\n",
        "        imp = data.copy()\n",
        "\n",
        "        imp = imputer.fit_transform(imp.iloc[:, 0:-1])\n",
        "\n",
        "        X = scaler.fit_transform(imp)\n",
        "\n",
        "        y = np.array(labels).reshape(int(len(labels)),)\n",
        "\n",
        "        le.fit(y)\n",
        "\n",
        "        y = le.transform(y)\n",
        "\n",
        "        y = np_utils.to_categorical(y)\n",
        "\n",
        "        #return pd.concat([dataframe, pd.DataFrame(dummy_y)], axis=1, join='inner')\n",
        "        return X, y"
      ],
      "execution_count": null,
      "outputs": []
    },
    {
      "cell_type": "code",
      "metadata": {
        "id": "QB-pUljpVmu6",
        "colab_type": "code",
        "colab": {}
      },
      "source": [
        "'''\n",
        "\n",
        "# Creación de instancias de una transformación DropColumns\n",
        "rm_columns = DropColumns(\n",
        "    columns=[\"USER_ID\",\"NAME\", \"Unnamed: 0\"]  # Esta transformación toma como parámetro una lista con los nombres de las columnas no deseadas\n",
        ")\n",
        "\n",
        "# Aplicar la transformación ``DropColumns`` al conjunto de datos base\n",
        "rm_columns.fit(X=df_data_1)\n",
        "\n",
        "\n",
        "\n",
        "X, y=rm_columns.transform(X=df_data_1)\n",
        "'''\n",
        "\n"
      ],
      "execution_count": null,
      "outputs": []
    },
    {
      "cell_type": "code",
      "metadata": {
        "id": "z3U2qWcIOZqJ",
        "colab_type": "code",
        "colab": {}
      },
      "source": [
        "def baseline_model():\n",
        "    # create model\n",
        "    model = Sequential()\n",
        "    model.add(Dense(128, input_dim=13, activation='relu'))\n",
        "    model.add(Dense(64, activation = 'relu'))\n",
        "    model.add(Dense(15, activation = 'linear'))\n",
        "    model.add(Dense(6, activation='softmax'))\n",
        "\n",
        "    # Compile model\n",
        "    model.compile(loss='categorical_crossentropy', optimizer='adam', metrics=['accuracy'])\n",
        "    return model"
      ],
      "execution_count": null,
      "outputs": []
    },
    {
      "cell_type": "code",
      "metadata": {
        "id": "xY217tNmsR8v",
        "colab_type": "code",
        "colab": {}
      },
      "source": [
        "rm_columns = DropColumns(columns=[\"NAME\", \"Unnamed: 0\"])"
      ],
      "execution_count": null,
      "outputs": []
    },
    {
      "cell_type": "code",
      "metadata": {
        "id": "wEApPJvUOOfO",
        "colab_type": "code",
        "colab": {}
      },
      "source": [
        "from sklearn.pipeline import Pipeline\n",
        "from sklearn.svm import SVC\n",
        "\n",
        "pipeline = Pipeline(\n",
        "    steps=[\n",
        "        ('remove_cols', rm_columns),\n",
        "        ('imputer', KNNImputer()),\n",
        "        ('scaler', StandardScaler()),\n",
        "        ('model', SVC(kernel='rbf', tol= 0.001))\n",
        "]\n",
        ")"
      ],
      "execution_count": null,
      "outputs": []
    },
    {
      "cell_type": "code",
      "metadata": {
        "id": "IikzU5RzPzV7",
        "colab_type": "code",
        "colab": {
          "base_uri": "https://localhost:8080/",
          "height": 326
        },
        "outputId": "7731deeb-c882-42f1-b8c1-b8b25e0994f6"
      },
      "source": [
        "pipeline.fit(X=X_train, y=y_train)"
      ],
      "execution_count": null,
      "outputs": [
        {
          "output_type": "stream",
          "text": [
            "/usr/local/lib/python3.6/dist-packages/sklearn/utils/validation.py:760: DataConversionWarning: A column-vector y was passed when a 1d array was expected. Please change the shape of y to (n_samples, ), for example using ravel().\n",
            "  y = column_or_1d(y, warn=True)\n"
          ],
          "name": "stderr"
        },
        {
          "output_type": "execute_result",
          "data": {
            "text/plain": [
              "Pipeline(memory=None,\n",
              "         steps=[('remove_cols', DropColumns(columns=['NAME', 'Unnamed: 0'])),\n",
              "                ('imputer',\n",
              "                 KNNImputer(add_indicator=False, copy=True,\n",
              "                            metric='nan_euclidean', missing_values=nan,\n",
              "                            n_neighbors=5, weights='uniform')),\n",
              "                ('scaler',\n",
              "                 StandardScaler(copy=True, with_mean=True, with_std=True)),\n",
              "                ('model',\n",
              "                 SVC(C=1.0, break_ties=False, cache_size=200, class_weight=None,\n",
              "                     coef0=0.0, decision_function_shape='ovr', degree=3,\n",
              "                     gamma='scale', kernel='rbf', max_iter=-1,\n",
              "                     probability=False, random_state=None, shrinking=True,\n",
              "                     tol=0.001, verbose=False))],\n",
              "         verbose=False)"
            ]
          },
          "metadata": {
            "tags": []
          },
          "execution_count": 351
        }
      ]
    },
    {
      "cell_type": "code",
      "metadata": {
        "id": "Y7DmLXD43-p1",
        "colab_type": "code",
        "colab": {
          "base_uri": "https://localhost:8080/",
          "height": 34
        },
        "outputId": "08f9aed5-2ddb-42f8-f28c-ae4f00405192"
      },
      "source": [
        "pipeline.score(X_test, y_test)"
      ],
      "execution_count": null,
      "outputs": [
        {
          "output_type": "execute_result",
          "data": {
            "text/plain": [
              "0.9451666666666667"
            ]
          },
          "metadata": {
            "tags": []
          },
          "execution_count": 352
        }
      ]
    },
    {
      "cell_type": "markdown",
      "metadata": {
        "id": "HYj646srt4PA",
        "colab_type": "text"
      },
      "source": [
        "#### Transformación 1: excluir columnas del conjunto de datos\n",
        "\n",
        "Para la creación de una transformación de datos personalizada en scikit-learn, es necesario crear una clase con los métodos ``transform`` y ``fit``. En el método de 'transform', se ejecutará la lógica de nuestra transformación.\n",
        "\n",
        "La siguiente celda muestra el código completo de una transformación ``DropColumns`` para eliminar columnas de un pandas DataFrame."
      ]
    },
    {
      "cell_type": "markdown",
      "metadata": {
        "id": "thHhTMcOt4PF",
        "colab_type": "text"
      },
      "source": [
        "Para aplicar esa transformación en un pandas DataFrame pandas, basta instanciar un objeto *DropColumns* y llamar el método transform()."
      ]
    },
    {
      "cell_type": "code",
      "metadata": {
        "id": "wAFDpneot4PG",
        "colab_type": "code",
        "colab": {
          "base_uri": "https://localhost:8080/",
          "height": 34
        },
        "outputId": "6cd472ee-dd98-4078-9f06-459b1e288fc9"
      },
      "source": [
        "# Creación de instancias de una transformación DropColumns\n",
        "rm_columns = DropColumns(\n",
        "    columns=[\"NAME\", \"Unnamed: 0\"]  # Esta transformación toma como parámetro una lista con los nombres de las columnas no deseadas\n",
        ")\n",
        "\n",
        "print(rm_columns)"
      ],
      "execution_count": null,
      "outputs": [
        {
          "output_type": "stream",
          "text": [
            "DropColumns(columns=['NAME', 'Unnamed: 0'])\n"
          ],
          "name": "stdout"
        }
      ]
    },
    {
      "cell_type": "code",
      "metadata": {
        "id": "M85Z_dlft4PJ",
        "colab_type": "code",
        "colab": {
          "base_uri": "https://localhost:8080/",
          "height": 197
        },
        "outputId": "02a20bd4-a613-4040-aea3-d46f92f46ef4"
      },
      "source": [
        "# Ver las columnas del conjunto de datos original\n",
        "print(\"Columnas del conjunto de datos original: \\n\")\n",
        "print(df_data_1.columns)"
      ],
      "execution_count": null,
      "outputs": [
        {
          "output_type": "error",
          "ename": "NameError",
          "evalue": "ignored",
          "traceback": [
            "\u001b[0;31m---------------------------------------------------------------------------\u001b[0m",
            "\u001b[0;31mNameError\u001b[0m                                 Traceback (most recent call last)",
            "\u001b[0;32m<ipython-input-215-4520ed1dda11>\u001b[0m in \u001b[0;36m<module>\u001b[0;34m()\u001b[0m\n\u001b[0;32m----> 1\u001b[0;31m \u001b[0mÇ\u001b[0m\u001b[0;31m# Ver las columnas del conjunto de datos original\u001b[0m\u001b[0;34m\u001b[0m\u001b[0;34m\u001b[0m\u001b[0m\n\u001b[0m\u001b[1;32m      2\u001b[0m \u001b[0mprint\u001b[0m\u001b[0;34m(\u001b[0m\u001b[0;34m\"Columnas del conjunto de datos original: \\n\"\u001b[0m\u001b[0;34m)\u001b[0m\u001b[0;34m\u001b[0m\u001b[0;34m\u001b[0m\u001b[0m\n\u001b[1;32m      3\u001b[0m \u001b[0mprint\u001b[0m\u001b[0;34m(\u001b[0m\u001b[0mdf_data_1\u001b[0m\u001b[0;34m.\u001b[0m\u001b[0mcolumns\u001b[0m\u001b[0;34m)\u001b[0m\u001b[0;34m\u001b[0m\u001b[0;34m\u001b[0m\u001b[0m\n",
            "\u001b[0;31mNameError\u001b[0m: name 'Ç' is not defined"
          ]
        }
      ]
    },
    {
      "cell_type": "code",
      "metadata": {
        "id": "_UtJdFucbLZR",
        "colab_type": "code",
        "colab": {
          "base_uri": "https://localhost:8080/",
          "height": 479
        },
        "outputId": "5a86184f-c489-4167-a727-637ffd8deeda"
      },
      "source": [
        "rm_columns.fit(X=df_data_1)\n",
        "data=rm_columns.transform(X=df_data_1)\n",
        "data.head()"
      ],
      "execution_count": null,
      "outputs": [
        {
          "output_type": "execute_result",
          "data": {
            "text/html": [
              "<div>\n",
              "<style scoped>\n",
              "    .dataframe tbody tr th:only-of-type {\n",
              "        vertical-align: middle;\n",
              "    }\n",
              "\n",
              "    .dataframe tbody tr th {\n",
              "        vertical-align: top;\n",
              "    }\n",
              "\n",
              "    .dataframe thead th {\n",
              "        text-align: right;\n",
              "    }\n",
              "</style>\n",
              "<table border=\"1\" class=\"dataframe\">\n",
              "  <thead>\n",
              "    <tr style=\"text-align: right;\">\n",
              "      <th></th>\n",
              "      <th>USER_ID</th>\n",
              "      <th>HOURS_DATASCIENCE</th>\n",
              "      <th>HOURS_BACKEND</th>\n",
              "      <th>HOURS_FRONTEND</th>\n",
              "      <th>NUM_COURSES_BEGINNER_DATASCIENCE</th>\n",
              "      <th>NUM_COURSES_BEGINNER_BACKEND</th>\n",
              "      <th>NUM_COURSES_BEGINNER_FRONTEND</th>\n",
              "      <th>NUM_COURSES_ADVANCED_DATASCIENCE</th>\n",
              "      <th>NUM_COURSES_ADVANCED_BACKEND</th>\n",
              "      <th>NUM_COURSES_ADVANCED_FRONTEND</th>\n",
              "      <th>AVG_SCORE_DATASCIENCE</th>\n",
              "      <th>AVG_SCORE_BACKEND</th>\n",
              "      <th>AVG_SCORE_FRONTEND</th>\n",
              "      <th>PROFILE</th>\n",
              "    </tr>\n",
              "  </thead>\n",
              "  <tbody>\n",
              "    <tr>\n",
              "      <th>0</th>\n",
              "      <td>0.283049</td>\n",
              "      <td>-1.365052</td>\n",
              "      <td>-0.203493</td>\n",
              "      <td>-0.385692</td>\n",
              "      <td>-0.849187</td>\n",
              "      <td>0.135713</td>\n",
              "      <td>-1.764804</td>\n",
              "      <td>-0.661780</td>\n",
              "      <td>0.303421</td>\n",
              "      <td>-1.695525</td>\n",
              "      <td>1.363163</td>\n",
              "      <td>0.476448</td>\n",
              "      <td>-0.230850</td>\n",
              "      <td>[0.0, 0.0, 0.0, 0.0, 0.0, 1.0]</td>\n",
              "    </tr>\n",
              "    <tr>\n",
              "      <th>1</th>\n",
              "      <td>-1.693148</td>\n",
              "      <td>-0.248414</td>\n",
              "      <td>-1.947449</td>\n",
              "      <td>0.343017</td>\n",
              "      <td>-0.849187</td>\n",
              "      <td>-1.768092</td>\n",
              "      <td>-1.764804</td>\n",
              "      <td>-1.609067</td>\n",
              "      <td>0.303421</td>\n",
              "      <td>-1.695525</td>\n",
              "      <td>0.139231</td>\n",
              "      <td>-1.567276</td>\n",
              "      <td>0.519276</td>\n",
              "      <td>[0.0, 0.0, 0.0, 0.0, 0.0, 1.0]</td>\n",
              "    </tr>\n",
              "    <tr>\n",
              "      <th>2</th>\n",
              "      <td>0.454130</td>\n",
              "      <td>0.332238</td>\n",
              "      <td>-1.947449</td>\n",
              "      <td>1.071726</td>\n",
              "      <td>-1.848906</td>\n",
              "      <td>0.611664</td>\n",
              "      <td>-0.021293</td>\n",
              "      <td>-1.609067</td>\n",
              "      <td>-0.159301</td>\n",
              "      <td>-1.192070</td>\n",
              "      <td>0.729598</td>\n",
              "      <td>-0.933017</td>\n",
              "      <td>-1.397713</td>\n",
              "      <td>[0.0, 0.0, 1.0, 0.0, 0.0, 0.0]</td>\n",
              "    </tr>\n",
              "    <tr>\n",
              "      <th>3</th>\n",
              "      <td>-0.933498</td>\n",
              "      <td>-0.069752</td>\n",
              "      <td>-1.097829</td>\n",
              "      <td>-0.434273</td>\n",
              "      <td>-1.848906</td>\n",
              "      <td>0.611664</td>\n",
              "      <td>1.286341</td>\n",
              "      <td>-1.609067</td>\n",
              "      <td>0.303421</td>\n",
              "      <td>-0.185161</td>\n",
              "      <td>-0.782318</td>\n",
              "      <td>0.265028</td>\n",
              "      <td>1.519444</td>\n",
              "      <td>[0.0, 0.0, 0.0, 0.0, 1.0, 0.0]</td>\n",
              "    </tr>\n",
              "    <tr>\n",
              "      <th>4</th>\n",
              "      <td>0.767339</td>\n",
              "      <td>1.046886</td>\n",
              "      <td>1.540463</td>\n",
              "      <td>0.051533</td>\n",
              "      <td>1.150252</td>\n",
              "      <td>3.467371</td>\n",
              "      <td>-1.764804</td>\n",
              "      <td>0.285508</td>\n",
              "      <td>-0.622023</td>\n",
              "      <td>-1.695525</td>\n",
              "      <td>0.067235</td>\n",
              "      <td>1.251653</td>\n",
              "      <td>0.102539</td>\n",
              "      <td>[0.0, 0.0, 1.0, 0.0, 0.0, 0.0]</td>\n",
              "    </tr>\n",
              "  </tbody>\n",
              "</table>\n",
              "</div>"
            ],
            "text/plain": [
              "    USER_ID  ...                         PROFILE\n",
              "0  0.283049  ...  [0.0, 0.0, 0.0, 0.0, 0.0, 1.0]\n",
              "1 -1.693148  ...  [0.0, 0.0, 0.0, 0.0, 0.0, 1.0]\n",
              "2  0.454130  ...  [0.0, 0.0, 1.0, 0.0, 0.0, 0.0]\n",
              "3 -0.933498  ...  [0.0, 0.0, 0.0, 0.0, 1.0, 0.0]\n",
              "4  0.767339  ...  [0.0, 0.0, 1.0, 0.0, 0.0, 0.0]\n",
              "\n",
              "[5 rows x 14 columns]"
            ]
          },
          "metadata": {
            "tags": []
          },
          "execution_count": 254
        }
      ]
    },
    {
      "cell_type": "code",
      "metadata": {
        "id": "mQmW_Lmlt4PO",
        "colab_type": "code",
        "colab": {}
      },
      "source": [
        "# Aplicar la transformación ``DropColumns`` al conjunto de datos base\n",
        "rm_columns.fit(X=df_data_1)\n",
        "\n",
        "# Reconstruyendo un DataFrame de Pandas con el resultado de la transformación\n",
        "df_data_2 = pd.DataFrame.from_records(\n",
        "    data=rm_columns.transform(\n",
        "        X=df_data_1\n",
        "    ),\n",
        ")"
      ],
      "execution_count": null,
      "outputs": []
    },
    {
      "cell_type": "code",
      "metadata": {
        "id": "xfZoXjGjt4PS",
        "colab_type": "code",
        "colab": {
          "base_uri": "https://localhost:8080/",
          "height": 170
        },
        "outputId": "1f07d463-2431-400e-df98-d1128f17a250"
      },
      "source": [
        "# Ver las columnas del conjunto de datos transformado\n",
        "print(\"Columnas del conjunto de datos después de la transformación ``DropColumns``: \\n\")\n",
        "print(df_data_2.columns)"
      ],
      "execution_count": null,
      "outputs": [
        {
          "output_type": "stream",
          "text": [
            "Columnas del conjunto de datos después de la transformación ``DropColumns``: \n",
            "\n",
            "Index(['USER_ID', 'HOURS_DATASCIENCE', 'HOURS_BACKEND', 'HOURS_FRONTEND',\n",
            "       'NUM_COURSES_BEGINNER_DATASCIENCE', 'NUM_COURSES_BEGINNER_BACKEND',\n",
            "       'NUM_COURSES_BEGINNER_FRONTEND', 'NUM_COURSES_ADVANCED_DATASCIENCE',\n",
            "       'NUM_COURSES_ADVANCED_BACKEND', 'NUM_COURSES_ADVANCED_FRONTEND',\n",
            "       'AVG_SCORE_DATASCIENCE', 'AVG_SCORE_BACKEND', 'AVG_SCORE_FRONTEND',\n",
            "       'PROFILE'],\n",
            "      dtype='object')\n"
          ],
          "name": "stdout"
        }
      ]
    },
    {
      "cell_type": "markdown",
      "metadata": {
        "id": "0hKNRM-wt4PX",
        "colab_type": "text"
      },
      "source": [
        "Tenga en cuenta que la columna \"NOMBRE\" se ha eliminado y nuestro conjunto de datos ahora solo tiene 14 columnas."
      ]
    },
    {
      "cell_type": "markdown",
      "metadata": {
        "id": "InSr5Kvnt4PX",
        "colab_type": "text"
      },
      "source": [
        "#### Transformación 2: tratamiento de datos faltantes\n",
        "\n",
        "Para manejar los datos que faltan en nuestro conjunto de datos, ahora usaremos una transformación lista para usar de la biblioteca scikit-learn, llamada **SimpleImputer**.\n",
        "\n",
        "Esta transformación permite varias estrategias para el tratamiento de datos faltantes. La documentación oficial se puede encontrar en: https://scikit-learn.org/stable/modules/generated/sklearn.impute.SimpleImputer.html\n",
        "\n",
        "En este ejemplo, simplemente haremos cero todos los valores faltantes."
      ]
    },
    {
      "cell_type": "code",
      "metadata": {
        "id": "yVOGvQnyt4PY",
        "colab_type": "code",
        "colab": {
          "base_uri": "https://localhost:8080/",
          "height": 688
        },
        "outputId": "6967ab26-de64-46d2-c4c0-5083e03a599e"
      },
      "source": [
        "#JAIRO HERNANDEZ\n",
        "import matplotlib.pyplot as plt\n",
        "import seaborn as sns\n",
        "plt.figure(figsize=(14,8))\n",
        "sns.heatmap(df_data_2.corr(), annot = True, cmap='coolwarm',linewidths=.1)\n",
        "plt.show()"
      ],
      "execution_count": null,
      "outputs": [
        {
          "output_type": "display_data",
          "data": {
            "image/png": "[encoded data removed]",
            "text/plain": [
              "<Figure size 1008x576 with 2 Axes>"
            ]
          },
          "metadata": {
            "tags": [],
            "needs_background": "light"
          }
        }
      ]
    },
    {
      "cell_type": "code",
      "metadata": {
        "id": "ZejDWVOxt4Pc",
        "colab_type": "code",
        "colab": {}
      },
      "source": [
        "# Crear un objeto ``SimpleImputer``\n",
        "si = SimpleImputer(\n",
        "    missing_values=np.nan,  # los valores que faltan son del tipo ``np.nan`` (Pandas estándar)\n",
        "    strategy='constant',  # la estrategia elegida es cambiar el valor faltante por una constante\n",
        "    fill_value=0,  # la constante que se usará para completar los valores faltantes es un int64 = 0\n",
        "    verbose=0,\n",
        "    copy=True\n",
        ")"
      ],
      "execution_count": null,
      "outputs": []
    },
    {
      "cell_type": "code",
      "metadata": {
        "id": "U2v7AOgTt4Pg",
        "colab_type": "code",
        "colab": {
          "base_uri": "https://localhost:8080/",
          "height": 323
        },
        "outputId": "0c2a37d7-0fca-4269-cc81-df0238ce32bd"
      },
      "source": [
        "# Ver los datos faltantes del conjunto de datos antes de la primera transformación (df_data_2)\n",
        "print(\"Valores nulos antes de la transformación SimpleImputer: \\n\\n{}\\n\".format(df_data_2.isnull().sum(axis = 0)))"
      ],
      "execution_count": null,
      "outputs": [
        {
          "output_type": "stream",
          "text": [
            "Valores nulos antes de la transformación SimpleImputer: \n",
            "\n",
            "USER_ID                               0\n",
            "HOURS_DATASCIENCE                    14\n",
            "HOURS_BACKEND                        53\n",
            "HOURS_FRONTEND                       16\n",
            "NUM_COURSES_BEGINNER_DATASCIENCE     26\n",
            "NUM_COURSES_BEGINNER_BACKEND         18\n",
            "NUM_COURSES_BEGINNER_FRONTEND        39\n",
            "NUM_COURSES_ADVANCED_DATASCIENCE      2\n",
            "NUM_COURSES_ADVANCED_BACKEND          8\n",
            "NUM_COURSES_ADVANCED_FRONTEND        37\n",
            "AVG_SCORE_DATASCIENCE               220\n",
            "AVG_SCORE_BACKEND                    84\n",
            "AVG_SCORE_FRONTEND                  168\n",
            "PROFILE                               0\n",
            "dtype: int64\n",
            "\n"
          ],
          "name": "stdout"
        }
      ]
    },
    {
      "cell_type": "code",
      "metadata": {
        "id": "NPDJD6Mnt4Pj",
        "colab_type": "code",
        "colab": {}
      },
      "source": [
        "###BEGIN JAIRO HERNANDEZ\n",
        "from sklearn.impute import KNNImputer\n",
        "from sklearn.preprocessing import StandardScaler\n",
        "from sklearn.preprocessing import MinMaxScaler\n",
        "from sklearn.neighbors import KNeighborsClassifier\n",
        "from sklearn import metrics\n",
        "import numpy as np"
      ],
      "execution_count": null,
      "outputs": []
    },
    {
      "cell_type": "code",
      "metadata": {
        "id": "Us0Cc0S4t4Pn",
        "colab_type": "code",
        "colab": {
          "base_uri": "https://localhost:8080/",
          "height": 136
        },
        "outputId": "d5a58332-1da3-4762-de28-4644da3aba1b"
      },
      "source": [
        "\n",
        "imputer = KNNImputer()\n",
        "data = df_data_2.drop(labels=['PROFILE'], axis='columns')\n",
        "data = imputer.fit_transform(data)\n",
        "data = np.append(data,np.array(df_data_2['PROFILE']).reshape(20000,1),axis=1)\n",
        "print(data)\n",
        "###END JAIRO HERNANDEZ###"
      ],
      "execution_count": null,
      "outputs": [
        {
          "output_type": "stream",
          "text": [
            "[[58283940.0 7.0 39.0 ... 74.0 63.8 'beginner_front_end']\n",
            " [1357218.0 32.0 0.0 ... 45.0 74.6 'beginner_front_end']\n",
            " [63212105.0 45.0 0.0 ... 54.0 47.0 'advanced_front_end']\n",
            " ...\n",
            " [83752787.0 32.0 50.0 ... 81.0 75.0 'advanced_backend']\n",
            " [45806698.0 0.0 96.0 ... 68.0 68.0 'advanced_front_end']\n",
            " [67068866.0 51.0 24.0 ... 61.0 87.0 'advanced_data_science']]\n"
          ],
          "name": "stdout"
        }
      ]
    },
    {
      "cell_type": "code",
      "metadata": {
        "id": "wItuLxXFt4Pq",
        "colab_type": "code",
        "colab": {}
      },
      "source": [
        "# Aplicamos el SimpleImputer ``si`` al conjunto de datos df_data_2 (resultado de la primera transformación)\n",
        "si.fit(X=df_data_2)\n",
        "\n",
        "# Reconstrucción de un nuevo DataFrame de Pandas con el conjunto imputado (df_data_3)\n",
        "df_data_3 = pd.DataFrame.from_records(\n",
        "    data=si.transform(\n",
        "        X=df_data_2\n",
        "    ),  # el resultado SimpleImputer.transform (<< pandas dataframe >>) es lista lista\n",
        "    columns=df_data_2.columns  # las columnas originales deben conservarse en esta transformación\n",
        ")"
      ],
      "execution_count": null,
      "outputs": []
    },
    {
      "cell_type": "code",
      "metadata": {
        "id": "bDgNdt_jt4Pv",
        "colab_type": "code",
        "colab": {}
      },
      "source": [
        "################################\n",
        "\n",
        "# Reconstrucción de un nuevo DataFrame de Pandas con el conjunto imputado (df_data_3)\n",
        "df_data_3 = pd.DataFrame.from_records(\n",
        "    data,  # KNNIMPUTER\n",
        "    columns=df_data_2.columns  # las columnas originales deben conservarse en esta transformación\n",
        ")\n",
        "#################################"
      ],
      "execution_count": null,
      "outputs": []
    },
    {
      "cell_type": "code",
      "metadata": {
        "id": "oeM2xzj3t4Py",
        "colab_type": "code",
        "colab": {
          "base_uri": "https://localhost:8080/",
          "height": 323
        },
        "outputId": "4147cb50-c520-4634-ed03-dfc61a49adb5"
      },
      "source": [
        "# Ver los datos faltantes del conjunto de datos después de la segunda transformación (SimpleImputer) (df_data_3)\n",
        "print(\"Valores nulos en el conjunto de datos después de la transformación SimpleImputer: \\n\\n{}\\n\".format(df_data_3.isnull().sum(axis = 0)))"
      ],
      "execution_count": null,
      "outputs": [
        {
          "output_type": "stream",
          "text": [
            "Valores nulos en el conjunto de datos después de la transformación SimpleImputer: \n",
            "\n",
            "USER_ID                             0\n",
            "HOURS_DATASCIENCE                   0\n",
            "HOURS_BACKEND                       0\n",
            "HOURS_FRONTEND                      0\n",
            "NUM_COURSES_BEGINNER_DATASCIENCE    0\n",
            "NUM_COURSES_BEGINNER_BACKEND        0\n",
            "NUM_COURSES_BEGINNER_FRONTEND       0\n",
            "NUM_COURSES_ADVANCED_DATASCIENCE    0\n",
            "NUM_COURSES_ADVANCED_BACKEND        0\n",
            "NUM_COURSES_ADVANCED_FRONTEND       0\n",
            "AVG_SCORE_DATASCIENCE               0\n",
            "AVG_SCORE_BACKEND                   0\n",
            "AVG_SCORE_FRONTEND                  0\n",
            "PROFILE                             0\n",
            "dtype: int64\n",
            "\n"
          ],
          "name": "stdout"
        }
      ]
    },
    {
      "cell_type": "markdown",
      "metadata": {
        "id": "UjRE_p7yt4P3",
        "colab_type": "text"
      },
      "source": [
        "Tenga en cuenta que ya no tenemos valores perdidos en nuestro conjunto de datos :)\n",
        "\n",
        "Vale la pena señalar que cambiar los valores perdidos por 0 no siempre es la mejor estrategia. Se anima al participante a estudiar e implementar diferentes estrategias para tratar los valores perdidos para mejorar su modelo y mejorar su puntuación final."
      ]
    },
    {
      "cell_type": "markdown",
      "metadata": {
        "id": "Iy6lt5s2t4P4",
        "colab_type": "text"
      },
      "source": [
        "### Entrenando un modelo de clasificación"
      ]
    },
    {
      "cell_type": "markdown",
      "metadata": {
        "id": "9GkDtKZ9t4P5",
        "colab_type": "text"
      },
      "source": [
        "Una vez finalizado el preprocesamiento, ya tenemos el conjunto de datos en el formato necesario para entrenar nuestro modelo:"
      ]
    },
    {
      "cell_type": "code",
      "metadata": {
        "id": "qUoPA9L5t4P5",
        "colab_type": "code",
        "colab": {
          "base_uri": "https://localhost:8080/",
          "height": 224
        },
        "outputId": "90055c4f-6193-47c5-ca6a-eb8a7dbd1281"
      },
      "source": [
        "df_data_3.head()"
      ],
      "execution_count": null,
      "outputs": [
        {
          "output_type": "execute_result",
          "data": {
            "text/html": [
              "<div>\n",
              "<style scoped>\n",
              "    .dataframe tbody tr th:only-of-type {\n",
              "        vertical-align: middle;\n",
              "    }\n",
              "\n",
              "    .dataframe tbody tr th {\n",
              "        vertical-align: top;\n",
              "    }\n",
              "\n",
              "    .dataframe thead th {\n",
              "        text-align: right;\n",
              "    }\n",
              "</style>\n",
              "<table border=\"1\" class=\"dataframe\">\n",
              "  <thead>\n",
              "    <tr style=\"text-align: right;\">\n",
              "      <th></th>\n",
              "      <th>USER_ID</th>\n",
              "      <th>HOURS_DATASCIENCE</th>\n",
              "      <th>HOURS_BACKEND</th>\n",
              "      <th>HOURS_FRONTEND</th>\n",
              "      <th>NUM_COURSES_BEGINNER_DATASCIENCE</th>\n",
              "      <th>NUM_COURSES_BEGINNER_BACKEND</th>\n",
              "      <th>NUM_COURSES_BEGINNER_FRONTEND</th>\n",
              "      <th>NUM_COURSES_ADVANCED_DATASCIENCE</th>\n",
              "      <th>NUM_COURSES_ADVANCED_BACKEND</th>\n",
              "      <th>NUM_COURSES_ADVANCED_FRONTEND</th>\n",
              "      <th>AVG_SCORE_DATASCIENCE</th>\n",
              "      <th>AVG_SCORE_BACKEND</th>\n",
              "      <th>AVG_SCORE_FRONTEND</th>\n",
              "      <th>PROFILE</th>\n",
              "    </tr>\n",
              "  </thead>\n",
              "  <tbody>\n",
              "    <tr>\n",
              "      <th>0</th>\n",
              "      <td>58283940.0</td>\n",
              "      <td>7.0</td>\n",
              "      <td>39.0</td>\n",
              "      <td>29.0</td>\n",
              "      <td>2.0</td>\n",
              "      <td>4.0</td>\n",
              "      <td>0.0</td>\n",
              "      <td>2.0</td>\n",
              "      <td>5.0</td>\n",
              "      <td>0.0</td>\n",
              "      <td>84.0</td>\n",
              "      <td>74.0</td>\n",
              "      <td>63.8</td>\n",
              "      <td>beginner_front_end</td>\n",
              "    </tr>\n",
              "    <tr>\n",
              "      <th>1</th>\n",
              "      <td>1357218.0</td>\n",
              "      <td>32.0</td>\n",
              "      <td>0.0</td>\n",
              "      <td>44.0</td>\n",
              "      <td>2.0</td>\n",
              "      <td>0.0</td>\n",
              "      <td>0.0</td>\n",
              "      <td>0.0</td>\n",
              "      <td>5.0</td>\n",
              "      <td>0.0</td>\n",
              "      <td>67.0</td>\n",
              "      <td>45.0</td>\n",
              "      <td>74.6</td>\n",
              "      <td>beginner_front_end</td>\n",
              "    </tr>\n",
              "    <tr>\n",
              "      <th>2</th>\n",
              "      <td>63212105.0</td>\n",
              "      <td>45.0</td>\n",
              "      <td>0.0</td>\n",
              "      <td>59.0</td>\n",
              "      <td>0.0</td>\n",
              "      <td>5.0</td>\n",
              "      <td>4.0</td>\n",
              "      <td>0.0</td>\n",
              "      <td>4.0</td>\n",
              "      <td>1.0</td>\n",
              "      <td>75.2</td>\n",
              "      <td>54.0</td>\n",
              "      <td>47.0</td>\n",
              "      <td>advanced_front_end</td>\n",
              "    </tr>\n",
              "    <tr>\n",
              "      <th>3</th>\n",
              "      <td>23239851.0</td>\n",
              "      <td>36.0</td>\n",
              "      <td>19.0</td>\n",
              "      <td>28.0</td>\n",
              "      <td>0.0</td>\n",
              "      <td>5.0</td>\n",
              "      <td>7.0</td>\n",
              "      <td>0.0</td>\n",
              "      <td>5.0</td>\n",
              "      <td>3.0</td>\n",
              "      <td>54.2</td>\n",
              "      <td>71.0</td>\n",
              "      <td>89.0</td>\n",
              "      <td>beginner_data_science</td>\n",
              "    </tr>\n",
              "    <tr>\n",
              "      <th>4</th>\n",
              "      <td>72234478.0</td>\n",
              "      <td>61.0</td>\n",
              "      <td>78.0</td>\n",
              "      <td>38.0</td>\n",
              "      <td>6.0</td>\n",
              "      <td>11.0</td>\n",
              "      <td>0.0</td>\n",
              "      <td>4.0</td>\n",
              "      <td>3.0</td>\n",
              "      <td>0.0</td>\n",
              "      <td>66.0</td>\n",
              "      <td>85.0</td>\n",
              "      <td>68.6</td>\n",
              "      <td>advanced_front_end</td>\n",
              "    </tr>\n",
              "  </tbody>\n",
              "</table>\n",
              "</div>"
            ],
            "text/plain": [
              "      USER_ID  HOURS_DATASCIENCE  ...  AVG_SCORE_FRONTEND                PROFILE\n",
              "0  58283940.0                7.0  ...                63.8     beginner_front_end\n",
              "1   1357218.0               32.0  ...                74.6     beginner_front_end\n",
              "2  63212105.0               45.0  ...                47.0     advanced_front_end\n",
              "3  23239851.0               36.0  ...                89.0  beginner_data_science\n",
              "4  72234478.0               61.0  ...                68.6     advanced_front_end\n",
              "\n",
              "[5 rows x 14 columns]"
            ]
          },
          "metadata": {
            "tags": []
          },
          "execution_count": 23
        }
      ]
    },
    {
      "cell_type": "markdown",
      "metadata": {
        "id": "gHIwaYkIt4P9",
        "colab_type": "text"
      },
      "source": [
        "En el ejemplo proporcionado, usaremos todas las columnas, excepto la columna **Profile** como *feautres* (variables de entrada).\n",
        "\n",
        "La variable **Profile** será la variable objetivo del modelo, como se describe en la declaración de desafío."
      ]
    },
    {
      "cell_type": "markdown",
      "metadata": {
        "id": "Fz3v52ROt4P-",
        "colab_type": "text"
      },
      "source": [
        "#### Definición de features del modelo"
      ]
    },
    {
      "cell_type": "code",
      "metadata": {
        "id": "JDHNIiqqt4P-",
        "colab_type": "code",
        "colab": {}
      },
      "source": [
        "# Definición de las columnas que seran features (Notese que la columna NOMBRE no esta presente)\n",
        "'''\n",
        "features = [\n",
        "    \"USER_ID\", \"HOURS_DATASCIENCE\", \"HOURS_BACKEND\", \"HOURS_FRONTEND\",\n",
        "    \"NUM_COURSES_BEGINNER_DATASCIENCE\", \"NUM_COURSES_BEGINNER_BACKEND\", \"NUM_COURSES_BEGINNER_FRONTEND\",\n",
        "    \"NUM_COURSES_ADVANCED_DATASCIENCE\", \"NUM_COURSES_ADVANCED_BACKEND\", \"NUM_COURSES_ADVANCED_FRONTEND\",\n",
        "    \"AVG_SCORE_DATASCIENCE\", \"AVG_SCORE_BACKEND\", \"AVG_SCORE_FRONTEND\"\n",
        "]\n",
        "'''\n",
        "\n",
        "features = [\n",
        "    \"Unnamed: 0\", \"NAME\", \"USER_ID\", \"HOURS_DATASCIENCE\", \"HOURS_BACKEND\", \"HOURS_FRONTEND\",\n",
        "    \"NUM_COURSES_BEGINNER_DATASCIENCE\", \"NUM_COURSES_BEGINNER_BACKEND\", \"NUM_COURSES_BEGINNER_FRONTEND\",\n",
        "    \"NUM_COURSES_ADVANCED_DATASCIENCE\", \"NUM_COURSES_ADVANCED_BACKEND\", \"NUM_COURSES_ADVANCED_FRONTEND\",\n",
        "    \"AVG_SCORE_DATASCIENCE\", \"AVG_SCORE_BACKEND\", \"AVG_SCORE_FRONTEND\"\n",
        "]\n",
        "\n",
        "# Definición de variable objetivo\n",
        "target = ['PROFILE']\n",
        "\n",
        "# Preparación de los argumentos para los métodos de la biblioteca ``scikit-learn``\n",
        "X = df_data_1[features]\n",
        "y = df_data_1[target]"
      ],
      "execution_count": null,
      "outputs": []
    },
    {
      "cell_type": "markdown",
      "metadata": {
        "id": "uWtiLVCqt4QB",
        "colab_type": "text"
      },
      "source": [
        "El conjunto de entrada (X):"
      ]
    },
    {
      "cell_type": "code",
      "metadata": {
        "id": "Xxbf9pWHt4QC",
        "colab_type": "code",
        "colab": {
          "base_uri": "https://localhost:8080/",
          "height": 309
        },
        "outputId": "ce262afb-9bc2-42ac-b2e4-9f554d694b40"
      },
      "source": [
        "X.head()"
      ],
      "execution_count": null,
      "outputs": [
        {
          "output_type": "execute_result",
          "data": {
            "text/html": [
              "<div>\n",
              "<style scoped>\n",
              "    .dataframe tbody tr th:only-of-type {\n",
              "        vertical-align: middle;\n",
              "    }\n",
              "\n",
              "    .dataframe tbody tr th {\n",
              "        vertical-align: top;\n",
              "    }\n",
              "\n",
              "    .dataframe thead th {\n",
              "        text-align: right;\n",
              "    }\n",
              "</style>\n",
              "<table border=\"1\" class=\"dataframe\">\n",
              "  <thead>\n",
              "    <tr style=\"text-align: right;\">\n",
              "      <th></th>\n",
              "      <th>Unnamed: 0</th>\n",
              "      <th>NAME</th>\n",
              "      <th>USER_ID</th>\n",
              "      <th>HOURS_DATASCIENCE</th>\n",
              "      <th>HOURS_BACKEND</th>\n",
              "      <th>HOURS_FRONTEND</th>\n",
              "      <th>NUM_COURSES_BEGINNER_DATASCIENCE</th>\n",
              "      <th>NUM_COURSES_BEGINNER_BACKEND</th>\n",
              "      <th>NUM_COURSES_BEGINNER_FRONTEND</th>\n",
              "      <th>NUM_COURSES_ADVANCED_DATASCIENCE</th>\n",
              "      <th>NUM_COURSES_ADVANCED_BACKEND</th>\n",
              "      <th>NUM_COURSES_ADVANCED_FRONTEND</th>\n",
              "      <th>AVG_SCORE_DATASCIENCE</th>\n",
              "      <th>AVG_SCORE_BACKEND</th>\n",
              "      <th>AVG_SCORE_FRONTEND</th>\n",
              "    </tr>\n",
              "  </thead>\n",
              "  <tbody>\n",
              "    <tr>\n",
              "      <th>0</th>\n",
              "      <td>28</td>\n",
              "      <td>Stormy Muto</td>\n",
              "      <td>58283940</td>\n",
              "      <td>7.0</td>\n",
              "      <td>39.0</td>\n",
              "      <td>29.0</td>\n",
              "      <td>2.0</td>\n",
              "      <td>4.0</td>\n",
              "      <td>0.0</td>\n",
              "      <td>2.0</td>\n",
              "      <td>5.0</td>\n",
              "      <td>0.0</td>\n",
              "      <td>84.0</td>\n",
              "      <td>74.0</td>\n",
              "      <td>NaN</td>\n",
              "    </tr>\n",
              "    <tr>\n",
              "      <th>1</th>\n",
              "      <td>81</td>\n",
              "      <td>Carlos Ferro</td>\n",
              "      <td>1357218</td>\n",
              "      <td>32.0</td>\n",
              "      <td>0.0</td>\n",
              "      <td>44.0</td>\n",
              "      <td>2.0</td>\n",
              "      <td>0.0</td>\n",
              "      <td>0.0</td>\n",
              "      <td>0.0</td>\n",
              "      <td>5.0</td>\n",
              "      <td>0.0</td>\n",
              "      <td>67.0</td>\n",
              "      <td>45.0</td>\n",
              "      <td>NaN</td>\n",
              "    </tr>\n",
              "    <tr>\n",
              "      <th>2</th>\n",
              "      <td>89</td>\n",
              "      <td>Robby Constantini</td>\n",
              "      <td>63212105</td>\n",
              "      <td>45.0</td>\n",
              "      <td>0.0</td>\n",
              "      <td>59.0</td>\n",
              "      <td>0.0</td>\n",
              "      <td>5.0</td>\n",
              "      <td>4.0</td>\n",
              "      <td>0.0</td>\n",
              "      <td>4.0</td>\n",
              "      <td>1.0</td>\n",
              "      <td>NaN</td>\n",
              "      <td>54.0</td>\n",
              "      <td>47.0</td>\n",
              "    </tr>\n",
              "    <tr>\n",
              "      <th>3</th>\n",
              "      <td>138</td>\n",
              "      <td>Paul Mckenny</td>\n",
              "      <td>23239851</td>\n",
              "      <td>36.0</td>\n",
              "      <td>19.0</td>\n",
              "      <td>28.0</td>\n",
              "      <td>0.0</td>\n",
              "      <td>5.0</td>\n",
              "      <td>7.0</td>\n",
              "      <td>0.0</td>\n",
              "      <td>5.0</td>\n",
              "      <td>3.0</td>\n",
              "      <td>NaN</td>\n",
              "      <td>71.0</td>\n",
              "      <td>89.0</td>\n",
              "    </tr>\n",
              "    <tr>\n",
              "      <th>4</th>\n",
              "      <td>143</td>\n",
              "      <td>Jean Webb</td>\n",
              "      <td>72234478</td>\n",
              "      <td>61.0</td>\n",
              "      <td>78.0</td>\n",
              "      <td>38.0</td>\n",
              "      <td>6.0</td>\n",
              "      <td>11.0</td>\n",
              "      <td>0.0</td>\n",
              "      <td>4.0</td>\n",
              "      <td>3.0</td>\n",
              "      <td>0.0</td>\n",
              "      <td>66.0</td>\n",
              "      <td>85.0</td>\n",
              "      <td>NaN</td>\n",
              "    </tr>\n",
              "  </tbody>\n",
              "</table>\n",
              "</div>"
            ],
            "text/plain": [
              "   Unnamed: 0               NAME  ...  AVG_SCORE_BACKEND  AVG_SCORE_FRONTEND\n",
              "0          28        Stormy Muto  ...               74.0                 NaN\n",
              "1          81       Carlos Ferro  ...               45.0                 NaN\n",
              "2          89  Robby Constantini  ...               54.0                47.0\n",
              "3         138       Paul Mckenny  ...               71.0                89.0\n",
              "4         143          Jean Webb  ...               85.0                 NaN\n",
              "\n",
              "[5 rows x 15 columns]"
            ]
          },
          "metadata": {
            "tags": []
          },
          "execution_count": 344
        }
      ]
    },
    {
      "cell_type": "markdown",
      "metadata": {
        "id": "JL5D6X7Ct4QF",
        "colab_type": "text"
      },
      "source": [
        "La variable objetivo (y):"
      ]
    },
    {
      "cell_type": "code",
      "metadata": {
        "id": "5y1ssGs_t4QG",
        "colab_type": "code",
        "colab": {
          "base_uri": "https://localhost:8080/",
          "height": 204
        },
        "outputId": "0e7de9a5-3d36-4791-82f0-7e33b78f290b"
      },
      "source": [
        "y.head()"
      ],
      "execution_count": null,
      "outputs": [
        {
          "output_type": "execute_result",
          "data": {
            "text/html": [
              "<div>\n",
              "<style scoped>\n",
              "    .dataframe tbody tr th:only-of-type {\n",
              "        vertical-align: middle;\n",
              "    }\n",
              "\n",
              "    .dataframe tbody tr th {\n",
              "        vertical-align: top;\n",
              "    }\n",
              "\n",
              "    .dataframe thead th {\n",
              "        text-align: right;\n",
              "    }\n",
              "</style>\n",
              "<table border=\"1\" class=\"dataframe\">\n",
              "  <thead>\n",
              "    <tr style=\"text-align: right;\">\n",
              "      <th></th>\n",
              "      <th>PROFILE</th>\n",
              "    </tr>\n",
              "  </thead>\n",
              "  <tbody>\n",
              "    <tr>\n",
              "      <th>0</th>\n",
              "      <td>beginner_front_end</td>\n",
              "    </tr>\n",
              "    <tr>\n",
              "      <th>1</th>\n",
              "      <td>beginner_front_end</td>\n",
              "    </tr>\n",
              "    <tr>\n",
              "      <th>2</th>\n",
              "      <td>advanced_front_end</td>\n",
              "    </tr>\n",
              "    <tr>\n",
              "      <th>3</th>\n",
              "      <td>beginner_data_science</td>\n",
              "    </tr>\n",
              "    <tr>\n",
              "      <th>4</th>\n",
              "      <td>advanced_front_end</td>\n",
              "    </tr>\n",
              "  </tbody>\n",
              "</table>\n",
              "</div>"
            ],
            "text/plain": [
              "                 PROFILE\n",
              "0     beginner_front_end\n",
              "1     beginner_front_end\n",
              "2     advanced_front_end\n",
              "3  beginner_data_science\n",
              "4     advanced_front_end"
            ]
          },
          "metadata": {
            "tags": []
          },
          "execution_count": 345
        }
      ]
    },
    {
      "cell_type": "markdown",
      "metadata": {
        "id": "Dghf1bpRt4QK",
        "colab_type": "text"
      },
      "source": [
        "#### Separar el conjunto de datos en un conjunto de entrenamiento y un conjunto de prueba"
      ]
    },
    {
      "cell_type": "markdown",
      "metadata": {
        "id": "TAlQQD8wt4QL",
        "colab_type": "text"
      },
      "source": [
        "Separaremos el conjunto de datos provisto en dos grupos: uno para entrenar nuestro modelo y otro para probar el resultado a través de una prueba ciega. La separación del conjunto de datos se puede hacer fácilmente con el método *train_test_split ()* de scikit-learn:"
      ]
    },
    {
      "cell_type": "code",
      "metadata": {
        "id": "8hBLJkO0t4QL",
        "colab_type": "code",
        "colab": {}
      },
      "source": [
        "# Separación de datos en conjunto de entrenamiento y conjunto de pruebas\n",
        "from sklearn.model_selection import train_test_split\n",
        "X_train, X_test, y_train, y_test = train_test_split(X, y, test_size=0.3, random_state=337)"
      ],
      "execution_count": null,
      "outputs": []
    },
    {
      "cell_type": "code",
      "metadata": {
        "id": "Iczom8Avt4QP",
        "colab_type": "code",
        "colab": {
          "base_uri": "https://localhost:8080/",
          "height": 102
        },
        "outputId": "06ddfcad-64b6-457f-983a-7f892b5a005e"
      },
      "source": [
        "!pip install scikit-learn==0.23.0"
      ],
      "execution_count": null,
      "outputs": [
        {
          "output_type": "stream",
          "text": [
            "Requirement already satisfied: scikit-learn==0.23.0 in /usr/local/lib/python3.6/dist-packages (0.23.0)\n",
            "Requirement already satisfied: joblib>=0.11 in /usr/local/lib/python3.6/dist-packages (from scikit-learn==0.23.0) (0.16.0)\n",
            "Requirement already satisfied: scipy>=0.19.1 in /usr/local/lib/python3.6/dist-packages (from scikit-learn==0.23.0) (1.4.1)\n",
            "Requirement already satisfied: threadpoolctl>=2.0.0 in /usr/local/lib/python3.6/dist-packages (from scikit-learn==0.23.0) (2.1.0)\n",
            "Requirement already satisfied: numpy>=1.13.3 in /usr/local/lib/python3.6/dist-packages (from scikit-learn==0.23.0) (1.18.5)\n"
          ],
          "name": "stdout"
        }
      ]
    },
    {
      "cell_type": "code",
      "metadata": {
        "id": "SSF_8wKRt4QS",
        "colab_type": "code",
        "colab": {
          "base_uri": "https://localhost:8080/",
          "height": 119
        },
        "outputId": "0000328a-2c9e-4d05-c2aa-dec8b381e113"
      },
      "source": [
        "!pip install lightgbm"
      ],
      "execution_count": null,
      "outputs": [
        {
          "output_type": "stream",
          "text": [
            "Requirement already satisfied: lightgbm in /usr/local/lib/python3.6/dist-packages (2.2.3)\n",
            "Requirement already satisfied: scikit-learn in /usr/local/lib/python3.6/dist-packages (from lightgbm) (0.23.0)\n",
            "Requirement already satisfied: numpy in /usr/local/lib/python3.6/dist-packages (from lightgbm) (1.18.5)\n",
            "Requirement already satisfied: scipy in /usr/local/lib/python3.6/dist-packages (from lightgbm) (1.4.1)\n",
            "Requirement already satisfied: joblib>=0.11 in /usr/local/lib/python3.6/dist-packages (from scikit-learn->lightgbm) (0.16.0)\n",
            "Requirement already satisfied: threadpoolctl>=2.0.0 in /usr/local/lib/python3.6/dist-packages (from scikit-learn->lightgbm) (2.1.0)\n"
          ],
          "name": "stdout"
        }
      ]
    },
    {
      "cell_type": "code",
      "metadata": {
        "id": "NE2wT5y9t4QV",
        "colab_type": "code",
        "colab": {}
      },
      "source": [
        "#####JAIRO HERNANDEZ######\n",
        "from sklearn.linear_model import LinearRegression, LogisticRegression, Perceptron, RidgeClassifier\n",
        "from sklearn.linear_model import SGDClassifier\n",
        "from sklearn.svm import SVC, LinearSVC, SVR\n",
        "from sklearn.ensemble import RandomForestClassifier, GradientBoostingClassifier, ExtraTreesClassifier \n",
        "from sklearn.ensemble import BaggingClassifier, AdaBoostClassifier, VotingClassifier\n",
        "from sklearn.naive_bayes import GaussianNB\n",
        "from sklearn.neighbors import KNeighborsClassifier\n",
        "from sklearn.gaussian_process import GaussianProcessClassifier\n",
        "from sklearn.neural_network import MLPClassifier\n",
        "from sklearn.tree import DecisionTreeClassifier\n",
        "from sklearn import metrics\n",
        "import xgboost as xgb\n",
        "from xgboost import XGBClassifier\n",
        "import lightgbm as lgb\n",
        "from lightgbm import LGBMClassifier\n",
        "\n",
        "# NN models\n",
        "import keras\n",
        "from keras.models import Sequential\n",
        "from keras.layers import Dense\n",
        "from keras import optimizers\n",
        "from keras.wrappers.scikit_learn import KerasClassifier\n",
        "\n",
        "import warnings\n",
        "warnings.filterwarnings(\"ignore\")"
      ],
      "execution_count": null,
      "outputs": []
    },
    {
      "cell_type": "code",
      "metadata": {
        "id": "WEQkRhHLt4QY",
        "colab_type": "code",
        "colab": {}
      },
      "source": [
        "from sklearn.model_selection import ShuffleSplit\n",
        "cv_train = ShuffleSplit(n_splits=2, test_size=0.3, random_state=337)"
      ],
      "execution_count": null,
      "outputs": []
    },
    {
      "cell_type": "code",
      "metadata": {
        "id": "fPTv2wlmt4Qc",
        "colab_type": "code",
        "colab": {
          "base_uri": "https://localhost:8080/",
          "height": 374
        },
        "outputId": "bd81b13d-e3bd-45ce-abf8-add6a7735616"
      },
      "source": [
        "scaler = StandardScaler()\n",
        "\n",
        "X_train_scaled = scaler.fit_transform(X_train)\n",
        "X_train = pd.DataFrame(X_train_scaled)\n",
        "\n",
        "X_test_scaled = scaler.transform(X_test)\n",
        "X_test = pd.DataFrame(X_test_scaled)"
      ],
      "execution_count": null,
      "outputs": [
        {
          "output_type": "error",
          "ename": "ValueError",
          "evalue": "ignored",
          "traceback": [
            "\u001b[0;31m---------------------------------------------------------------------------\u001b[0m",
            "\u001b[0;31mValueError\u001b[0m                                Traceback (most recent call last)",
            "\u001b[0;32m<ipython-input-137-e140f9f4e9db>\u001b[0m in \u001b[0;36m<module>\u001b[0;34m()\u001b[0m\n\u001b[1;32m      1\u001b[0m \u001b[0mscaler\u001b[0m \u001b[0;34m=\u001b[0m \u001b[0mStandardScaler\u001b[0m\u001b[0;34m(\u001b[0m\u001b[0;34m)\u001b[0m\u001b[0;34m\u001b[0m\u001b[0;34m\u001b[0m\u001b[0m\n\u001b[1;32m      2\u001b[0m \u001b[0;34m\u001b[0m\u001b[0m\n\u001b[0;32m----> 3\u001b[0;31m \u001b[0mX_train_scaled\u001b[0m \u001b[0;34m=\u001b[0m \u001b[0mscaler\u001b[0m\u001b[0;34m.\u001b[0m\u001b[0mfit_transform\u001b[0m\u001b[0;34m(\u001b[0m\u001b[0mX_train\u001b[0m\u001b[0;34m)\u001b[0m\u001b[0;34m\u001b[0m\u001b[0;34m\u001b[0m\u001b[0m\n\u001b[0m\u001b[1;32m      4\u001b[0m \u001b[0mX_train\u001b[0m \u001b[0;34m=\u001b[0m \u001b[0mpd\u001b[0m\u001b[0;34m.\u001b[0m\u001b[0mDataFrame\u001b[0m\u001b[0;34m(\u001b[0m\u001b[0mX_train_scaled\u001b[0m\u001b[0;34m)\u001b[0m\u001b[0;34m\u001b[0m\u001b[0;34m\u001b[0m\u001b[0m\n\u001b[1;32m      5\u001b[0m \u001b[0;34m\u001b[0m\u001b[0m\n",
            "\u001b[0;32m/usr/local/lib/python3.6/dist-packages/sklearn/base.py\u001b[0m in \u001b[0;36mfit_transform\u001b[0;34m(self, X, y, **fit_params)\u001b[0m\n\u001b[1;32m    569\u001b[0m         \u001b[0;32mif\u001b[0m \u001b[0my\u001b[0m \u001b[0;32mis\u001b[0m \u001b[0;32mNone\u001b[0m\u001b[0;34m:\u001b[0m\u001b[0;34m\u001b[0m\u001b[0;34m\u001b[0m\u001b[0m\n\u001b[1;32m    570\u001b[0m             \u001b[0;31m# fit method of arity 1 (unsupervised transformation)\u001b[0m\u001b[0;34m\u001b[0m\u001b[0;34m\u001b[0m\u001b[0;34m\u001b[0m\u001b[0m\n\u001b[0;32m--> 571\u001b[0;31m             \u001b[0;32mreturn\u001b[0m \u001b[0mself\u001b[0m\u001b[0;34m.\u001b[0m\u001b[0mfit\u001b[0m\u001b[0;34m(\u001b[0m\u001b[0mX\u001b[0m\u001b[0;34m,\u001b[0m \u001b[0;34m**\u001b[0m\u001b[0mfit_params\u001b[0m\u001b[0;34m)\u001b[0m\u001b[0;34m.\u001b[0m\u001b[0mtransform\u001b[0m\u001b[0;34m(\u001b[0m\u001b[0mX\u001b[0m\u001b[0;34m)\u001b[0m\u001b[0;34m\u001b[0m\u001b[0;34m\u001b[0m\u001b[0m\n\u001b[0m\u001b[1;32m    572\u001b[0m         \u001b[0;32melse\u001b[0m\u001b[0;34m:\u001b[0m\u001b[0;34m\u001b[0m\u001b[0;34m\u001b[0m\u001b[0m\n\u001b[1;32m    573\u001b[0m             \u001b[0;31m# fit method of arity 2 (supervised transformation)\u001b[0m\u001b[0;34m\u001b[0m\u001b[0;34m\u001b[0m\u001b[0;34m\u001b[0m\u001b[0m\n",
            "\u001b[0;32m/usr/local/lib/python3.6/dist-packages/sklearn/preprocessing/_data.py\u001b[0m in \u001b[0;36mfit\u001b[0;34m(self, X, y)\u001b[0m\n\u001b[1;32m    667\u001b[0m         \u001b[0;31m# Reset internal state before fitting\u001b[0m\u001b[0;34m\u001b[0m\u001b[0;34m\u001b[0m\u001b[0;34m\u001b[0m\u001b[0m\n\u001b[1;32m    668\u001b[0m         \u001b[0mself\u001b[0m\u001b[0;34m.\u001b[0m\u001b[0m_reset\u001b[0m\u001b[0;34m(\u001b[0m\u001b[0;34m)\u001b[0m\u001b[0;34m\u001b[0m\u001b[0;34m\u001b[0m\u001b[0m\n\u001b[0;32m--> 669\u001b[0;31m         \u001b[0;32mreturn\u001b[0m \u001b[0mself\u001b[0m\u001b[0;34m.\u001b[0m\u001b[0mpartial_fit\u001b[0m\u001b[0;34m(\u001b[0m\u001b[0mX\u001b[0m\u001b[0;34m,\u001b[0m \u001b[0my\u001b[0m\u001b[0;34m)\u001b[0m\u001b[0;34m\u001b[0m\u001b[0;34m\u001b[0m\u001b[0m\n\u001b[0m\u001b[1;32m    670\u001b[0m \u001b[0;34m\u001b[0m\u001b[0m\n\u001b[1;32m    671\u001b[0m     \u001b[0;32mdef\u001b[0m \u001b[0mpartial_fit\u001b[0m\u001b[0;34m(\u001b[0m\u001b[0mself\u001b[0m\u001b[0;34m,\u001b[0m \u001b[0mX\u001b[0m\u001b[0;34m,\u001b[0m \u001b[0my\u001b[0m\u001b[0;34m=\u001b[0m\u001b[0;32mNone\u001b[0m\u001b[0;34m)\u001b[0m\u001b[0;34m:\u001b[0m\u001b[0;34m\u001b[0m\u001b[0;34m\u001b[0m\u001b[0m\n",
            "\u001b[0;32m/usr/local/lib/python3.6/dist-packages/sklearn/preprocessing/_data.py\u001b[0m in \u001b[0;36mpartial_fit\u001b[0;34m(self, X, y)\u001b[0m\n\u001b[1;32m    698\u001b[0m         X = check_array(X, accept_sparse=('csr', 'csc'),\n\u001b[1;32m    699\u001b[0m                         \u001b[0mestimator\u001b[0m\u001b[0;34m=\u001b[0m\u001b[0mself\u001b[0m\u001b[0;34m,\u001b[0m \u001b[0mdtype\u001b[0m\u001b[0;34m=\u001b[0m\u001b[0mFLOAT_DTYPES\u001b[0m\u001b[0;34m,\u001b[0m\u001b[0;34m\u001b[0m\u001b[0;34m\u001b[0m\u001b[0m\n\u001b[0;32m--> 700\u001b[0;31m                         force_all_finite='allow-nan')\n\u001b[0m\u001b[1;32m    701\u001b[0m \u001b[0;34m\u001b[0m\u001b[0m\n\u001b[1;32m    702\u001b[0m         \u001b[0;31m# Even in the case of `with_mean=False`, we update the mean anyway\u001b[0m\u001b[0;34m\u001b[0m\u001b[0;34m\u001b[0m\u001b[0;34m\u001b[0m\u001b[0m\n",
            "\u001b[0;32m/usr/local/lib/python3.6/dist-packages/sklearn/utils/validation.py\u001b[0m in \u001b[0;36mcheck_array\u001b[0;34m(array, accept_sparse, accept_large_sparse, dtype, order, copy, force_all_finite, ensure_2d, allow_nd, ensure_min_samples, ensure_min_features, warn_on_dtype, estimator)\u001b[0m\n\u001b[1;32m    529\u001b[0m                     \u001b[0marray\u001b[0m \u001b[0;34m=\u001b[0m \u001b[0marray\u001b[0m\u001b[0;34m.\u001b[0m\u001b[0mastype\u001b[0m\u001b[0;34m(\u001b[0m\u001b[0mdtype\u001b[0m\u001b[0;34m,\u001b[0m \u001b[0mcasting\u001b[0m\u001b[0;34m=\u001b[0m\u001b[0;34m\"unsafe\"\u001b[0m\u001b[0;34m,\u001b[0m \u001b[0mcopy\u001b[0m\u001b[0;34m=\u001b[0m\u001b[0;32mFalse\u001b[0m\u001b[0;34m)\u001b[0m\u001b[0;34m\u001b[0m\u001b[0;34m\u001b[0m\u001b[0m\n\u001b[1;32m    530\u001b[0m                 \u001b[0;32melse\u001b[0m\u001b[0;34m:\u001b[0m\u001b[0;34m\u001b[0m\u001b[0;34m\u001b[0m\u001b[0m\n\u001b[0;32m--> 531\u001b[0;31m                     \u001b[0marray\u001b[0m \u001b[0;34m=\u001b[0m \u001b[0mnp\u001b[0m\u001b[0;34m.\u001b[0m\u001b[0masarray\u001b[0m\u001b[0;34m(\u001b[0m\u001b[0marray\u001b[0m\u001b[0;34m,\u001b[0m \u001b[0morder\u001b[0m\u001b[0;34m=\u001b[0m\u001b[0morder\u001b[0m\u001b[0;34m,\u001b[0m \u001b[0mdtype\u001b[0m\u001b[0;34m=\u001b[0m\u001b[0mdtype\u001b[0m\u001b[0;34m)\u001b[0m\u001b[0;34m\u001b[0m\u001b[0;34m\u001b[0m\u001b[0m\n\u001b[0m\u001b[1;32m    532\u001b[0m             \u001b[0;32mexcept\u001b[0m \u001b[0mComplexWarning\u001b[0m\u001b[0;34m:\u001b[0m\u001b[0;34m\u001b[0m\u001b[0;34m\u001b[0m\u001b[0m\n\u001b[1;32m    533\u001b[0m                 raise ValueError(\"Complex data not supported\\n\"\n",
            "\u001b[0;32m/usr/local/lib/python3.6/dist-packages/numpy/core/_asarray.py\u001b[0m in \u001b[0;36masarray\u001b[0;34m(a, dtype, order)\u001b[0m\n\u001b[1;32m     83\u001b[0m \u001b[0;34m\u001b[0m\u001b[0m\n\u001b[1;32m     84\u001b[0m     \"\"\"\n\u001b[0;32m---> 85\u001b[0;31m     \u001b[0;32mreturn\u001b[0m \u001b[0marray\u001b[0m\u001b[0;34m(\u001b[0m\u001b[0ma\u001b[0m\u001b[0;34m,\u001b[0m \u001b[0mdtype\u001b[0m\u001b[0;34m,\u001b[0m \u001b[0mcopy\u001b[0m\u001b[0;34m=\u001b[0m\u001b[0;32mFalse\u001b[0m\u001b[0;34m,\u001b[0m \u001b[0morder\u001b[0m\u001b[0;34m=\u001b[0m\u001b[0morder\u001b[0m\u001b[0;34m)\u001b[0m\u001b[0;34m\u001b[0m\u001b[0;34m\u001b[0m\u001b[0m\n\u001b[0m\u001b[1;32m     86\u001b[0m \u001b[0;34m\u001b[0m\u001b[0m\n\u001b[1;32m     87\u001b[0m \u001b[0;34m\u001b[0m\u001b[0m\n",
            "\u001b[0;31mValueError\u001b[0m: could not convert string to float: 'Brenda Beebee'"
          ]
        }
      ]
    },
    {
      "cell_type": "code",
      "metadata": {
        "id": "xYd-W9l-t4Qf",
        "colab_type": "code",
        "colab": {
          "base_uri": "https://localhost:8080/",
          "height": 52
        },
        "outputId": "72a8fbcd-b7b2-4133-fef3-b15e307ef83c"
      },
      "source": [
        "from sklearn.metrics import accuracy_score\n",
        "'''\n",
        "scaler = MinMaxScaler()\n",
        "\n",
        "X_train_scaled = scaler.fit_transform(X_train)\n",
        "X_train = pd.DataFrame(X_train_scaled)\n",
        "\n",
        "X_test_scaled = scaler.transform(X_test)\n",
        "X_test = pd.DataFrame(X_test_scaled)\n",
        "'''"
      ],
      "execution_count": null,
      "outputs": [
        {
          "output_type": "execute_result",
          "data": {
            "application/vnd.google.colaboratory.intrinsic+json": {
              "type": "string"
            },
            "text/plain": [
              "'\\nscaler = MinMaxScaler()\\n\\nX_train_scaled = scaler.fit_transform(X_train)\\nX_train = pd.DataFrame(X_train_scaled)\\n\\nX_test_scaled = scaler.transform(X_test)\\nX_test = pd.DataFrame(X_test_scaled)\\n'"
            ]
          },
          "metadata": {
            "tags": []
          },
          "execution_count": 78
        }
      ]
    },
    {
      "cell_type": "code",
      "metadata": {
        "id": "LmOv3-xM2Nfp",
        "colab_type": "code",
        "colab": {
          "base_uri": "https://localhost:8080/",
          "height": 439
        },
        "outputId": "220b5fc0-9180-4f78-f803-4f13b24a69ea"
      },
      "source": [
        "X_train.iloc[:,2:]"
      ],
      "execution_count": null,
      "outputs": [
        {
          "output_type": "execute_result",
          "data": {
            "text/html": [
              "<div>\n",
              "<style scoped>\n",
              "    .dataframe tbody tr th:only-of-type {\n",
              "        vertical-align: middle;\n",
              "    }\n",
              "\n",
              "    .dataframe tbody tr th {\n",
              "        vertical-align: top;\n",
              "    }\n",
              "\n",
              "    .dataframe thead th {\n",
              "        text-align: right;\n",
              "    }\n",
              "</style>\n",
              "<table border=\"1\" class=\"dataframe\">\n",
              "  <thead>\n",
              "    <tr style=\"text-align: right;\">\n",
              "      <th></th>\n",
              "      <th>USER_ID</th>\n",
              "      <th>HOURS_DATASCIENCE</th>\n",
              "      <th>HOURS_BACKEND</th>\n",
              "      <th>HOURS_FRONTEND</th>\n",
              "      <th>NUM_COURSES_BEGINNER_DATASCIENCE</th>\n",
              "      <th>NUM_COURSES_BEGINNER_BACKEND</th>\n",
              "      <th>NUM_COURSES_BEGINNER_FRONTEND</th>\n",
              "      <th>NUM_COURSES_ADVANCED_DATASCIENCE</th>\n",
              "      <th>NUM_COURSES_ADVANCED_BACKEND</th>\n",
              "      <th>NUM_COURSES_ADVANCED_FRONTEND</th>\n",
              "      <th>AVG_SCORE_DATASCIENCE</th>\n",
              "      <th>AVG_SCORE_BACKEND</th>\n",
              "      <th>AVG_SCORE_FRONTEND</th>\n",
              "    </tr>\n",
              "  </thead>\n",
              "  <tbody>\n",
              "    <tr>\n",
              "      <th>15979</th>\n",
              "      <td>17333576</td>\n",
              "      <td>24.0</td>\n",
              "      <td>68.0</td>\n",
              "      <td>0.0</td>\n",
              "      <td>5.0</td>\n",
              "      <td>4.0</td>\n",
              "      <td>0.0</td>\n",
              "      <td>0.0</td>\n",
              "      <td>3.0</td>\n",
              "      <td>5.0</td>\n",
              "      <td>93.0</td>\n",
              "      <td>75.0</td>\n",
              "      <td>38.0</td>\n",
              "    </tr>\n",
              "    <tr>\n",
              "      <th>7847</th>\n",
              "      <td>40778774</td>\n",
              "      <td>31.0</td>\n",
              "      <td>46.0</td>\n",
              "      <td>49.0</td>\n",
              "      <td>5.0</td>\n",
              "      <td>4.0</td>\n",
              "      <td>4.0</td>\n",
              "      <td>2.0</td>\n",
              "      <td>6.0</td>\n",
              "      <td>6.0</td>\n",
              "      <td>71.0</td>\n",
              "      <td>84.0</td>\n",
              "      <td>82.0</td>\n",
              "    </tr>\n",
              "    <tr>\n",
              "      <th>16536</th>\n",
              "      <td>97273123</td>\n",
              "      <td>31.0</td>\n",
              "      <td>57.0</td>\n",
              "      <td>23.0</td>\n",
              "      <td>3.0</td>\n",
              "      <td>3.0</td>\n",
              "      <td>4.0</td>\n",
              "      <td>3.0</td>\n",
              "      <td>6.0</td>\n",
              "      <td>6.0</td>\n",
              "      <td>61.0</td>\n",
              "      <td>54.0</td>\n",
              "      <td>79.0</td>\n",
              "    </tr>\n",
              "    <tr>\n",
              "      <th>8589</th>\n",
              "      <td>79189125</td>\n",
              "      <td>27.0</td>\n",
              "      <td>49.0</td>\n",
              "      <td>29.0</td>\n",
              "      <td>0.0</td>\n",
              "      <td>1.0</td>\n",
              "      <td>4.0</td>\n",
              "      <td>3.0</td>\n",
              "      <td>7.0</td>\n",
              "      <td>1.0</td>\n",
              "      <td>73.0</td>\n",
              "      <td>73.0</td>\n",
              "      <td>67.0</td>\n",
              "    </tr>\n",
              "    <tr>\n",
              "      <th>19964</th>\n",
              "      <td>5968712</td>\n",
              "      <td>49.0</td>\n",
              "      <td>50.0</td>\n",
              "      <td>29.0</td>\n",
              "      <td>6.0</td>\n",
              "      <td>4.0</td>\n",
              "      <td>2.0</td>\n",
              "      <td>4.0</td>\n",
              "      <td>0.0</td>\n",
              "      <td>3.0</td>\n",
              "      <td>84.0</td>\n",
              "      <td>58.0</td>\n",
              "      <td>97.0</td>\n",
              "    </tr>\n",
              "    <tr>\n",
              "      <th>...</th>\n",
              "      <td>...</td>\n",
              "      <td>...</td>\n",
              "      <td>...</td>\n",
              "      <td>...</td>\n",
              "      <td>...</td>\n",
              "      <td>...</td>\n",
              "      <td>...</td>\n",
              "      <td>...</td>\n",
              "      <td>...</td>\n",
              "      <td>...</td>\n",
              "      <td>...</td>\n",
              "      <td>...</td>\n",
              "      <td>...</td>\n",
              "    </tr>\n",
              "    <tr>\n",
              "      <th>1087</th>\n",
              "      <td>98068271</td>\n",
              "      <td>21.0</td>\n",
              "      <td>46.0</td>\n",
              "      <td>61.0</td>\n",
              "      <td>7.0</td>\n",
              "      <td>3.0</td>\n",
              "      <td>8.0</td>\n",
              "      <td>2.0</td>\n",
              "      <td>0.0</td>\n",
              "      <td>3.0</td>\n",
              "      <td>55.0</td>\n",
              "      <td>77.0</td>\n",
              "      <td>69.0</td>\n",
              "    </tr>\n",
              "    <tr>\n",
              "      <th>4539</th>\n",
              "      <td>77116211</td>\n",
              "      <td>9.0</td>\n",
              "      <td>27.0</td>\n",
              "      <td>27.0</td>\n",
              "      <td>7.0</td>\n",
              "      <td>3.0</td>\n",
              "      <td>8.0</td>\n",
              "      <td>5.0</td>\n",
              "      <td>6.0</td>\n",
              "      <td>9.0</td>\n",
              "      <td>77.0</td>\n",
              "      <td>83.0</td>\n",
              "      <td>62.0</td>\n",
              "    </tr>\n",
              "    <tr>\n",
              "      <th>12729</th>\n",
              "      <td>58770344</td>\n",
              "      <td>37.0</td>\n",
              "      <td>33.0</td>\n",
              "      <td>4.0</td>\n",
              "      <td>7.0</td>\n",
              "      <td>5.0</td>\n",
              "      <td>5.0</td>\n",
              "      <td>4.0</td>\n",
              "      <td>1.0</td>\n",
              "      <td>4.0</td>\n",
              "      <td>85.0</td>\n",
              "      <td>70.0</td>\n",
              "      <td>69.0</td>\n",
              "    </tr>\n",
              "    <tr>\n",
              "      <th>14402</th>\n",
              "      <td>52396067</td>\n",
              "      <td>28.0</td>\n",
              "      <td>45.0</td>\n",
              "      <td>21.0</td>\n",
              "      <td>4.0</td>\n",
              "      <td>2.0</td>\n",
              "      <td>0.0</td>\n",
              "      <td>1.0</td>\n",
              "      <td>8.0</td>\n",
              "      <td>7.0</td>\n",
              "      <td>89.0</td>\n",
              "      <td>35.0</td>\n",
              "      <td>37.0</td>\n",
              "    </tr>\n",
              "    <tr>\n",
              "      <th>12548</th>\n",
              "      <td>86360300</td>\n",
              "      <td>43.0</td>\n",
              "      <td>29.0</td>\n",
              "      <td>27.0</td>\n",
              "      <td>4.0</td>\n",
              "      <td>3.0</td>\n",
              "      <td>3.0</td>\n",
              "      <td>6.0</td>\n",
              "      <td>2.0</td>\n",
              "      <td>6.0</td>\n",
              "      <td>83.0</td>\n",
              "      <td>74.0</td>\n",
              "      <td>79.0</td>\n",
              "    </tr>\n",
              "  </tbody>\n",
              "</table>\n",
              "<p>14000 rows × 13 columns</p>\n",
              "</div>"
            ],
            "text/plain": [
              "        USER_ID  HOURS_DATASCIENCE  ...  AVG_SCORE_BACKEND  AVG_SCORE_FRONTEND\n",
              "15979  17333576               24.0  ...               75.0                38.0\n",
              "7847   40778774               31.0  ...               84.0                82.0\n",
              "16536  97273123               31.0  ...               54.0                79.0\n",
              "8589   79189125               27.0  ...               73.0                67.0\n",
              "19964   5968712               49.0  ...               58.0                97.0\n",
              "...         ...                ...  ...                ...                 ...\n",
              "1087   98068271               21.0  ...               77.0                69.0\n",
              "4539   77116211                9.0  ...               83.0                62.0\n",
              "12729  58770344               37.0  ...               70.0                69.0\n",
              "14402  52396067               28.0  ...               35.0                37.0\n",
              "12548  86360300               43.0  ...               74.0                79.0\n",
              "\n",
              "[14000 rows x 13 columns]"
            ]
          },
          "metadata": {
            "tags": []
          },
          "execution_count": 340
        }
      ]
    },
    {
      "cell_type": "code",
      "metadata": {
        "id": "isfOjqT-t4Qi",
        "colab_type": "code",
        "colab": {}
      },
      "source": [
        "y_train = np.array(y_train).reshape(int(len(y_train)),)\n",
        "y_test = np.array(y_test).reshape(int(len(y_test)),)"
      ],
      "execution_count": null,
      "outputs": []
    },
    {
      "cell_type": "code",
      "metadata": {
        "id": "3IXLJsoAt4Ql",
        "colab_type": "code",
        "colab": {
          "base_uri": "https://localhost:8080/",
          "height": 51
        },
        "outputId": "ca8bbabb-701e-4d1b-ba74-f82fd056721d"
      },
      "source": [
        "from sklearn import preprocessing\n",
        "le = preprocessing.LabelEncoder()\n",
        "le1 = preprocessing.LabelEncoder()\n",
        "\n",
        "le.fit(y_train)\n",
        "y_train = le.transform(y_train)\n",
        "\n",
        "le1.fit(y_test)\n",
        "y_test = le1.transform(y_test)\n",
        "print(y_train)\n",
        "print(y_test)\n"
      ],
      "execution_count": null,
      "outputs": [
        {
          "output_type": "stream",
          "text": [
            "[5 0 1 ... 0 5 0]\n",
            "[5 1 4 ... 3 0 5]\n"
          ],
          "name": "stdout"
        }
      ]
    },
    {
      "cell_type": "code",
      "metadata": {
        "id": "scWFKmuit4Qp",
        "colab_type": "code",
        "colab": {}
      },
      "source": [
        "from keras.models import Sequential\n",
        "from keras.layers import Dense\n",
        "from keras.wrappers.scikit_learn import KerasClassifier\n",
        "from keras.utils import np_utils\n",
        "from sklearn.model_selection import cross_val_score\n",
        "from sklearn.model_selection import KFold\n",
        "from sklearn.preprocessing import LabelEncoder\n",
        "from sklearn.pipeline import Pipeline"
      ],
      "execution_count": null,
      "outputs": []
    },
    {
      "cell_type": "code",
      "metadata": {
        "id": "K6_gwiLTt4Qt",
        "colab_type": "code",
        "colab": {
          "base_uri": "https://localhost:8080/",
          "height": 136
        },
        "outputId": "7867c158-78c2-4f21-9da2-989ff87087d2"
      },
      "source": [
        "dummy_y = np_utils.to_categorical(y_train)\n",
        "print(dummy_y)"
      ],
      "execution_count": null,
      "outputs": [
        {
          "output_type": "stream",
          "text": [
            "[[0. 0. 0. 0. 0. 1.]\n",
            " [1. 0. 0. 0. 0. 0.]\n",
            " [0. 1. 0. 0. 0. 0.]\n",
            " ...\n",
            " [1. 0. 0. 0. 0. 0.]\n",
            " [0. 0. 0. 0. 0. 1.]\n",
            " [1. 0. 0. 0. 0. 0.]]\n"
          ],
          "name": "stdout"
        }
      ]
    },
    {
      "cell_type": "code",
      "metadata": {
        "id": "d6ZC8rtat4Qx",
        "colab_type": "code",
        "colab": {}
      },
      "source": [
        "def baseline_model():\n",
        "    # create model\n",
        "    model = Sequential()\n",
        "    model.add(Dense(128, input_dim=len(features), activation='relu'))\n",
        "    model.add(Dense(, activation = 'relu'))\n",
        "    model.add(Dense(15, activation = 'linear'))\n",
        "    model.add(Dense(len(dummy_y[0,:]), activation='softmax'))\n",
        "\n",
        "    # Compile model\n",
        "    model.compile(loss='categorical_crossentropy', optimizer='adam', metrics=['accuracy'])\n",
        "    return model"
      ],
      "execution_count": null,
      "outputs": []
    },
    {
      "cell_type": "code",
      "metadata": {
        "id": "w0LInvz_t4Q2",
        "colab_type": "code",
        "colab": {
          "base_uri": "https://localhost:8080/",
          "height": 1000
        },
        "outputId": "151793ec-346a-4c8c-cf21-af7718ba8fae"
      },
      "source": [
        "estimator = KerasClassifier(build_fn=baseline_model, epochs=50, batch_size=4, verbose=1)\n",
        "#kfold = KFold(n_splits=10, shuffle=True)\n",
        "results = cross_val_score(estimator, X_train, dummy_y, cv=cv_train)\n",
        "print(\"Baseline: %.2f%% (%.2f%%)\" % (results.mean()*100, results.std()*100))"
      ],
      "execution_count": null,
      "outputs": [
        {
          "output_type": "stream",
          "text": [
            "Epoch 1/50\n",
            "3150/3150 [==============================] - 9s 3ms/step - loss: 0.4043 - accuracy: 0.8690\n",
            "Epoch 2/50\n",
            "3150/3150 [==============================] - 8s 3ms/step - loss: 0.2141 - accuracy: 0.9409\n",
            "Epoch 3/50\n",
            "3150/3150 [==============================] - 8s 3ms/step - loss: 0.1832 - accuracy: 0.9507\n",
            "Epoch 4/50\n",
            "3150/3150 [==============================] - 8s 3ms/step - loss: 0.1677 - accuracy: 0.9580\n",
            "Epoch 5/50\n",
            "3150/3150 [==============================] - 8s 3ms/step - loss: 0.1544 - accuracy: 0.9592\n",
            "Epoch 6/50\n",
            "3150/3150 [==============================] - 8s 3ms/step - loss: 0.1434 - accuracy: 0.9630\n",
            "Epoch 7/50\n",
            "3150/3150 [==============================] - 8s 3ms/step - loss: 0.1344 - accuracy: 0.9652\n",
            "Epoch 8/50\n",
            "3150/3150 [==============================] - 8s 3ms/step - loss: 0.1269 - accuracy: 0.9663\n",
            "Epoch 9/50\n",
            "3150/3150 [==============================] - 8s 3ms/step - loss: 0.1209 - accuracy: 0.9687\n",
            "Epoch 10/50\n",
            "3150/3150 [==============================] - 8s 3ms/step - loss: 0.1150 - accuracy: 0.9696\n",
            "Epoch 11/50\n",
            "3150/3150 [==============================] - 8s 3ms/step - loss: 0.1093 - accuracy: 0.9710\n",
            "Epoch 12/50\n",
            "3150/3150 [==============================] - 8s 3ms/step - loss: 0.1008 - accuracy: 0.9733\n",
            "Epoch 13/50\n",
            "3150/3150 [==============================] - 9s 3ms/step - loss: 0.0969 - accuracy: 0.9729\n",
            "Epoch 14/50\n",
            "3150/3150 [==============================] - 9s 3ms/step - loss: 0.0939 - accuracy: 0.9737\n",
            "Epoch 15/50\n",
            "3150/3150 [==============================] - 8s 3ms/step - loss: 0.0871 - accuracy: 0.9768\n",
            "Epoch 16/50\n",
            "3150/3150 [==============================] - 8s 3ms/step - loss: 0.0828 - accuracy: 0.9776\n",
            "Epoch 17/50\n",
            "3150/3150 [==============================] - 9s 3ms/step - loss: 0.0752 - accuracy: 0.9786\n",
            "Epoch 18/50\n",
            "3150/3150 [==============================] - 9s 3ms/step - loss: 0.0783 - accuracy: 0.9769\n",
            "Epoch 19/50\n",
            "3150/3150 [==============================] - 8s 3ms/step - loss: 0.0677 - accuracy: 0.9797\n",
            "Epoch 20/50\n",
            "3150/3150 [==============================] - 8s 3ms/step - loss: 0.0684 - accuracy: 0.9806\n",
            "Epoch 21/50\n",
            "3150/3150 [==============================] - 8s 3ms/step - loss: 0.0660 - accuracy: 0.9811\n",
            "Epoch 22/50\n",
            "3150/3150 [==============================] - 8s 3ms/step - loss: 0.0644 - accuracy: 0.9810\n",
            "Epoch 23/50\n",
            "3150/3150 [==============================] - 8s 3ms/step - loss: 0.0586 - accuracy: 0.9825\n",
            "Epoch 24/50\n",
            "3150/3150 [==============================] - 8s 3ms/step - loss: 0.0552 - accuracy: 0.9827\n",
            "Epoch 25/50\n",
            "3150/3150 [==============================] - 8s 3ms/step - loss: 0.0598 - accuracy: 0.9816\n",
            "Epoch 26/50\n",
            "3150/3150 [==============================] - 8s 3ms/step - loss: 0.0512 - accuracy: 0.9843\n",
            "Epoch 27/50\n",
            "3150/3150 [==============================] - 8s 3ms/step - loss: 0.0451 - accuracy: 0.9860\n",
            "Epoch 28/50\n",
            "3150/3150 [==============================] - 8s 3ms/step - loss: 0.0505 - accuracy: 0.9845\n",
            "Epoch 29/50\n",
            "3150/3150 [==============================] - 8s 3ms/step - loss: 0.0450 - accuracy: 0.9856\n",
            "Epoch 30/50\n",
            "3150/3150 [==============================] - 9s 3ms/step - loss: 0.0454 - accuracy: 0.9852\n",
            "Epoch 31/50\n",
            "3150/3150 [==============================] - 9s 3ms/step - loss: 0.0480 - accuracy: 0.9853\n",
            "Epoch 32/50\n",
            "3150/3150 [==============================] - 9s 3ms/step - loss: 0.0382 - accuracy: 0.9871\n",
            "Epoch 33/50\n",
            "3150/3150 [==============================] - 8s 3ms/step - loss: 0.0454 - accuracy: 0.9862\n",
            "Epoch 34/50\n",
            "3150/3150 [==============================] - 8s 3ms/step - loss: 0.0385 - accuracy: 0.9883\n",
            "Epoch 35/50\n",
            "3150/3150 [==============================] - 9s 3ms/step - loss: 0.0371 - accuracy: 0.9874\n",
            "Epoch 36/50\n",
            "3150/3150 [==============================] - 9s 3ms/step - loss: 0.0348 - accuracy: 0.9884\n",
            "Epoch 37/50\n",
            "3150/3150 [==============================] - 8s 3ms/step - loss: 0.0352 - accuracy: 0.9884\n",
            "Epoch 38/50\n",
            "3150/3150 [==============================] - 8s 3ms/step - loss: 0.0327 - accuracy: 0.9892\n",
            "Epoch 39/50\n",
            "3150/3150 [==============================] - 8s 3ms/step - loss: 0.0326 - accuracy: 0.9896\n",
            "Epoch 40/50\n",
            "3150/3150 [==============================] - 8s 3ms/step - loss: 0.0310 - accuracy: 0.9899\n",
            "Epoch 41/50\n",
            "3150/3150 [==============================] - 8s 3ms/step - loss: 0.0352 - accuracy: 0.9891\n",
            "Epoch 42/50\n",
            "3150/3150 [==============================] - 8s 3ms/step - loss: 0.0269 - accuracy: 0.9916\n",
            "Epoch 43/50\n",
            "3150/3150 [==============================] - 8s 3ms/step - loss: 0.0352 - accuracy: 0.9894\n",
            "Epoch 44/50\n",
            "3150/3150 [==============================] - 8s 3ms/step - loss: 0.0329 - accuracy: 0.9906\n",
            "Epoch 45/50\n",
            "3150/3150 [==============================] - 8s 3ms/step - loss: 0.0271 - accuracy: 0.9910\n",
            "Epoch 46/50\n",
            "3150/3150 [==============================] - 8s 3ms/step - loss: 0.0272 - accuracy: 0.9907\n",
            "Epoch 47/50\n",
            "3150/3150 [==============================] - 8s 3ms/step - loss: 0.0299 - accuracy: 0.9917\n",
            "Epoch 48/50\n",
            "3150/3150 [==============================] - 9s 3ms/step - loss: 0.0293 - accuracy: 0.9909\n",
            "Epoch 49/50\n",
            "3150/3150 [==============================] - 8s 3ms/step - loss: 0.0252 - accuracy: 0.9914\n",
            "Epoch 50/50\n",
            "3150/3150 [==============================] - 8s 3ms/step - loss: 0.0264 - accuracy: 0.9919\n",
            "350/350 [==============================] - 1s 2ms/step - loss: 0.4160 - accuracy: 0.9457\n",
            "Epoch 1/50\n",
            "3150/3150 [==============================] - 8s 3ms/step - loss: 0.4147 - accuracy: 0.8640\n",
            "Epoch 2/50\n",
            "3150/3150 [==============================] - 8s 3ms/step - loss: 0.2139 - accuracy: 0.9387\n",
            "Epoch 3/50\n",
            "3150/3150 [==============================] - 8s 3ms/step - loss: 0.1870 - accuracy: 0.9498\n",
            "Epoch 4/50\n",
            "3150/3150 [==============================] - 8s 3ms/step - loss: 0.1664 - accuracy: 0.9559\n",
            "Epoch 5/50\n",
            "3150/3150 [==============================] - 8s 3ms/step - loss: 0.1518 - accuracy: 0.9601\n",
            "Epoch 6/50\n",
            "3150/3150 [==============================] - 8s 3ms/step - loss: 0.1434 - accuracy: 0.9639\n",
            "Epoch 7/50\n",
            "3150/3150 [==============================] - 9s 3ms/step - loss: 0.1349 - accuracy: 0.9650\n",
            "Epoch 8/50\n",
            "3150/3150 [==============================] - 8s 3ms/step - loss: 0.1274 - accuracy: 0.9682\n",
            "Epoch 9/50\n",
            "3150/3150 [==============================] - 9s 3ms/step - loss: 0.1208 - accuracy: 0.9694\n",
            "Epoch 10/50\n",
            "3150/3150 [==============================] - 8s 3ms/step - loss: 0.1154 - accuracy: 0.9705\n",
            "Epoch 11/50\n",
            "3150/3150 [==============================] - 8s 3ms/step - loss: 0.1117 - accuracy: 0.9703\n",
            "Epoch 12/50\n",
            "3150/3150 [==============================] - 8s 3ms/step - loss: 0.0993 - accuracy: 0.9743\n",
            "Epoch 13/50\n",
            "3150/3150 [==============================] - 8s 3ms/step - loss: 0.0983 - accuracy: 0.9734\n",
            "Epoch 14/50\n",
            "3150/3150 [==============================] - 9s 3ms/step - loss: 0.0895 - accuracy: 0.9765\n",
            "Epoch 15/50\n",
            "3150/3150 [==============================] - 8s 3ms/step - loss: 0.0889 - accuracy: 0.9763\n",
            "Epoch 16/50\n",
            "3150/3150 [==============================] - 9s 3ms/step - loss: 0.0831 - accuracy: 0.9767\n",
            "Epoch 17/50\n",
            "3150/3150 [==============================] - 10s 3ms/step - loss: 0.0808 - accuracy: 0.9780\n",
            "Epoch 18/50\n",
            "3150/3150 [==============================] - 8s 3ms/step - loss: 0.0737 - accuracy: 0.9796\n",
            "Epoch 19/50\n",
            "3150/3150 [==============================] - 8s 3ms/step - loss: 0.0728 - accuracy: 0.9787\n",
            "Epoch 20/50\n",
            "3150/3150 [==============================] - 8s 3ms/step - loss: 0.0648 - accuracy: 0.9813\n",
            "Epoch 21/50\n",
            "3150/3150 [==============================] - 9s 3ms/step - loss: 0.0661 - accuracy: 0.9807\n",
            "Epoch 22/50\n",
            "3150/3150 [==============================] - 8s 3ms/step - loss: 0.0598 - accuracy: 0.9823\n",
            "Epoch 23/50\n",
            "3150/3150 [==============================] - 8s 3ms/step - loss: 0.0604 - accuracy: 0.9814\n",
            "Epoch 24/50\n",
            "3150/3150 [==============================] - 8s 3ms/step - loss: 0.0573 - accuracy: 0.9829\n",
            "Epoch 25/50\n",
            "3150/3150 [==============================] - 8s 3ms/step - loss: 0.0529 - accuracy: 0.9825\n",
            "Epoch 26/50\n",
            "3150/3150 [==============================] - 8s 3ms/step - loss: 0.0508 - accuracy: 0.9840\n",
            "Epoch 27/50\n",
            "3150/3150 [==============================] - 8s 3ms/step - loss: 0.0500 - accuracy: 0.9845\n",
            "Epoch 28/50\n",
            "3150/3150 [==============================] - 8s 3ms/step - loss: 0.0462 - accuracy: 0.9860\n",
            "Epoch 29/50\n",
            "3150/3150 [==============================] - 8s 3ms/step - loss: 0.0446 - accuracy: 0.9856\n",
            "Epoch 30/50\n",
            "3150/3150 [==============================] - 8s 3ms/step - loss: 0.0435 - accuracy: 0.9863\n",
            "Epoch 31/50\n",
            "3150/3150 [==============================] - 8s 3ms/step - loss: 0.0377 - accuracy: 0.9890\n",
            "Epoch 32/50\n",
            "3150/3150 [==============================] - 8s 3ms/step - loss: 0.0447 - accuracy: 0.9863\n",
            "Epoch 33/50\n",
            "3150/3150 [==============================] - 8s 3ms/step - loss: 0.0421 - accuracy: 0.9865\n",
            "Epoch 34/50\n",
            "3150/3150 [==============================] - 8s 3ms/step - loss: 0.0412 - accuracy: 0.9867\n",
            "Epoch 35/50\n",
            "3150/3150 [==============================] - 8s 3ms/step - loss: 0.0361 - accuracy: 0.9887\n",
            "Epoch 36/50\n",
            "3150/3150 [==============================] - 8s 3ms/step - loss: 0.0367 - accuracy: 0.9875\n",
            "Epoch 37/50\n",
            "3150/3150 [==============================] - 8s 3ms/step - loss: 0.0373 - accuracy: 0.9884\n",
            "Epoch 38/50\n",
            "3150/3150 [==============================] - 8s 3ms/step - loss: 0.0327 - accuracy: 0.9906\n",
            "Epoch 39/50\n",
            "3150/3150 [==============================] - 8s 3ms/step - loss: 0.0352 - accuracy: 0.9890\n",
            "Epoch 40/50\n",
            "3150/3150 [==============================] - 8s 3ms/step - loss: 0.0345 - accuracy: 0.9895\n",
            "Epoch 41/50\n",
            "3150/3150 [==============================] - 8s 3ms/step - loss: 0.0328 - accuracy: 0.9893\n",
            "Epoch 42/50\n",
            "3150/3150 [==============================] - 9s 3ms/step - loss: 0.0302 - accuracy: 0.9909\n",
            "Epoch 43/50\n",
            "3150/3150 [==============================] - 8s 3ms/step - loss: 0.0325 - accuracy: 0.9896\n",
            "Epoch 44/50\n",
            "3150/3150 [==============================] - 8s 3ms/step - loss: 0.0287 - accuracy: 0.9902\n",
            "Epoch 45/50\n",
            "3150/3150 [==============================] - 8s 3ms/step - loss: 0.0292 - accuracy: 0.9904\n",
            "Epoch 46/50\n",
            "3150/3150 [==============================] - 8s 3ms/step - loss: 0.0279 - accuracy: 0.9907\n",
            "Epoch 47/50\n",
            "3150/3150 [==============================] - 8s 3ms/step - loss: 0.0249 - accuracy: 0.9921\n",
            "Epoch 48/50\n",
            "3150/3150 [==============================] - 8s 3ms/step - loss: 0.0279 - accuracy: 0.9902\n",
            "Epoch 49/50\n",
            "3150/3150 [==============================] - 8s 3ms/step - loss: 0.0292 - accuracy: 0.9912\n",
            "Epoch 50/50\n",
            "3150/3150 [==============================] - 8s 3ms/step - loss: 0.0207 - accuracy: 0.9926\n",
            "350/350 [==============================] - 1s 2ms/step - loss: 0.4929 - accuracy: 0.9464\n",
            "Epoch 1/50\n",
            "3150/3150 [==============================] - 8s 3ms/step - loss: 0.3977 - accuracy: 0.8738\n",
            "Epoch 2/50\n",
            "3150/3150 [==============================] - 8s 3ms/step - loss: 0.2133 - accuracy: 0.9410\n",
            "Epoch 3/50\n",
            "3150/3150 [==============================] - 9s 3ms/step - loss: 0.1885 - accuracy: 0.9506\n",
            "Epoch 4/50\n",
            "3150/3150 [==============================] - 9s 3ms/step - loss: 0.1663 - accuracy: 0.9544\n",
            "Epoch 5/50\n",
            "3150/3150 [==============================] - 8s 3ms/step - loss: 0.1543 - accuracy: 0.9613\n",
            "Epoch 6/50\n",
            "3150/3150 [==============================] - 8s 3ms/step - loss: 0.1428 - accuracy: 0.9643\n",
            "Epoch 7/50\n",
            "3150/3150 [==============================] - 9s 3ms/step - loss: 0.1334 - accuracy: 0.9660\n",
            "Epoch 8/50\n",
            "3150/3150 [==============================] - 8s 3ms/step - loss: 0.1266 - accuracy: 0.9654\n",
            "Epoch 9/50\n",
            "3150/3150 [==============================] - 8s 3ms/step - loss: 0.1173 - accuracy: 0.9699\n",
            "Epoch 10/50\n",
            "3150/3150 [==============================] - 8s 3ms/step - loss: 0.1127 - accuracy: 0.9711\n",
            "Epoch 11/50\n",
            "3150/3150 [==============================] - 8s 3ms/step - loss: 0.1056 - accuracy: 0.9723\n",
            "Epoch 12/50\n",
            "3150/3150 [==============================] - 8s 3ms/step - loss: 0.1027 - accuracy: 0.9718\n",
            "Epoch 13/50\n",
            "3150/3150 [==============================] - 8s 3ms/step - loss: 0.0965 - accuracy: 0.9736\n",
            "Epoch 14/50\n",
            "3150/3150 [==============================] - 8s 3ms/step - loss: 0.0898 - accuracy: 0.9751\n",
            "Epoch 15/50\n",
            "3150/3150 [==============================] - 8s 3ms/step - loss: 0.0824 - accuracy: 0.9780\n",
            "Epoch 16/50\n",
            "3150/3150 [==============================] - 8s 3ms/step - loss: 0.0818 - accuracy: 0.9769\n",
            "Epoch 17/50\n",
            "3150/3150 [==============================] - 8s 3ms/step - loss: 0.0792 - accuracy: 0.9768\n",
            "Epoch 18/50\n",
            "3150/3150 [==============================] - 8s 3ms/step - loss: 0.0724 - accuracy: 0.9791\n",
            "Epoch 19/50\n",
            "3150/3150 [==============================] - 8s 3ms/step - loss: 0.0720 - accuracy: 0.9787\n",
            "Epoch 20/50\n",
            "3150/3150 [==============================] - 8s 3ms/step - loss: 0.0618 - accuracy: 0.9816\n",
            "Epoch 21/50\n",
            "3150/3150 [==============================] - 8s 3ms/step - loss: 0.0616 - accuracy: 0.9811\n",
            "Epoch 22/50\n",
            "3150/3150 [==============================] - 8s 3ms/step - loss: 0.0613 - accuracy: 0.9821\n",
            "Epoch 23/50\n",
            "3150/3150 [==============================] - 8s 3ms/step - loss: 0.0582 - accuracy: 0.9821\n",
            "Epoch 24/50\n",
            "3150/3150 [==============================] - 8s 3ms/step - loss: 0.0552 - accuracy: 0.9823\n",
            "Epoch 25/50\n",
            "3150/3150 [==============================] - 8s 3ms/step - loss: 0.0515 - accuracy: 0.9829\n",
            "Epoch 26/50\n",
            "3150/3150 [==============================] - 8s 3ms/step - loss: 0.0483 - accuracy: 0.9844\n",
            "Epoch 27/50\n",
            "3150/3150 [==============================] - 8s 3ms/step - loss: 0.0409 - accuracy: 0.9869\n",
            "Epoch 28/50\n",
            "3150/3150 [==============================] - 8s 3ms/step - loss: 0.0459 - accuracy: 0.9858\n",
            "Epoch 29/50\n",
            "3150/3150 [==============================] - 8s 3ms/step - loss: 0.0492 - accuracy: 0.9844\n",
            "Epoch 30/50\n",
            "3150/3150 [==============================] - 8s 3ms/step - loss: 0.0424 - accuracy: 0.9866\n",
            "Epoch 31/50\n",
            "3150/3150 [==============================] - 8s 3ms/step - loss: 0.0374 - accuracy: 0.9879\n",
            "Epoch 32/50\n",
            "3150/3150 [==============================] - 8s 3ms/step - loss: 0.0359 - accuracy: 0.9887\n",
            "Epoch 33/50\n",
            "3150/3150 [==============================] - 8s 3ms/step - loss: 0.0364 - accuracy: 0.9877\n",
            "Epoch 34/50\n",
            "3150/3150 [==============================] - 8s 3ms/step - loss: 0.0374 - accuracy: 0.9880\n",
            "Epoch 35/50\n",
            "3150/3150 [==============================] - 8s 3ms/step - loss: 0.0348 - accuracy: 0.9886\n",
            "Epoch 36/50\n",
            "3150/3150 [==============================] - 8s 3ms/step - loss: 0.0327 - accuracy: 0.9889\n",
            "Epoch 37/50\n",
            "3150/3150 [==============================] - 8s 3ms/step - loss: 0.0369 - accuracy: 0.9883\n",
            "Epoch 38/50\n",
            "3150/3150 [==============================] - 8s 3ms/step - loss: 0.0299 - accuracy: 0.9908\n",
            "Epoch 39/50\n",
            "3150/3150 [==============================] - 8s 3ms/step - loss: 0.0297 - accuracy: 0.9897\n",
            "Epoch 40/50\n",
            "3150/3150 [==============================] - 9s 3ms/step - loss: 0.0391 - accuracy: 0.9874\n",
            "Epoch 41/50\n",
            "3150/3150 [==============================] - 9s 3ms/step - loss: 0.0259 - accuracy: 0.9929\n",
            "Epoch 42/50\n",
            "3150/3150 [==============================] - 8s 3ms/step - loss: 0.0270 - accuracy: 0.9913\n",
            "Epoch 43/50\n",
            "3150/3150 [==============================] - 9s 3ms/step - loss: 0.0357 - accuracy: 0.9877\n",
            "Epoch 44/50\n",
            "3150/3150 [==============================] - 9s 3ms/step - loss: 0.0301 - accuracy: 0.9894\n",
            "Epoch 45/50\n",
            "3150/3150 [==============================] - 8s 3ms/step - loss: 0.0300 - accuracy: 0.9904\n",
            "Epoch 46/50\n",
            "3150/3150 [==============================] - 8s 3ms/step - loss: 0.0269 - accuracy: 0.9921\n",
            "Epoch 47/50\n",
            "3150/3150 [==============================] - 8s 3ms/step - loss: 0.0273 - accuracy: 0.9902\n",
            "Epoch 48/50\n",
            "3150/3150 [==============================] - 8s 3ms/step - loss: 0.0233 - accuracy: 0.9924\n",
            "Epoch 49/50\n",
            "3150/3150 [==============================] - 8s 3ms/step - loss: 0.0259 - accuracy: 0.9913\n",
            "Epoch 50/50\n",
            "3150/3150 [==============================] - 9s 3ms/step - loss: 0.0257 - accuracy: 0.9924\n",
            "350/350 [==============================] - 1s 2ms/step - loss: 0.5042 - accuracy: 0.9429\n",
            "Epoch 1/50\n",
            "3150/3150 [==============================] - 8s 3ms/step - loss: 0.4048 - accuracy: 0.8713\n",
            "Epoch 2/50\n",
            "3150/3150 [==============================] - 8s 3ms/step - loss: 0.2100 - accuracy: 0.9420\n",
            "Epoch 3/50\n",
            "3150/3150 [==============================] - 8s 3ms/step - loss: 0.1806 - accuracy: 0.9510\n",
            "Epoch 4/50\n",
            "3150/3150 [==============================] - 8s 3ms/step - loss: 0.1626 - accuracy: 0.9583\n",
            "Epoch 5/50\n",
            "3150/3150 [==============================] - 8s 3ms/step - loss: 0.1520 - accuracy: 0.9613\n",
            "Epoch 6/50\n",
            "3150/3150 [==============================] - 8s 3ms/step - loss: 0.1394 - accuracy: 0.9659\n",
            "Epoch 7/50\n",
            "3150/3150 [==============================] - 8s 3ms/step - loss: 0.1308 - accuracy: 0.9661\n",
            "Epoch 8/50\n",
            "3150/3150 [==============================] - 8s 3ms/step - loss: 0.1253 - accuracy: 0.9703\n",
            "Epoch 9/50\n",
            "3150/3150 [==============================] - 8s 3ms/step - loss: 0.1186 - accuracy: 0.9691\n",
            "Epoch 10/50\n",
            "3150/3150 [==============================] - 8s 3ms/step - loss: 0.1137 - accuracy: 0.9708\n",
            "Epoch 11/50\n",
            "3150/3150 [==============================] - 8s 3ms/step - loss: 0.1051 - accuracy: 0.9722\n",
            "Epoch 12/50\n",
            "3150/3150 [==============================] - 8s 3ms/step - loss: 0.1016 - accuracy: 0.9739\n",
            "Epoch 13/50\n",
            "3150/3150 [==============================] - 8s 3ms/step - loss: 0.0953 - accuracy: 0.9754\n",
            "Epoch 14/50\n",
            "3150/3150 [==============================] - 8s 3ms/step - loss: 0.0916 - accuracy: 0.9750\n",
            "Epoch 15/50\n",
            "3150/3150 [==============================] - 8s 3ms/step - loss: 0.0884 - accuracy: 0.9759\n",
            "Epoch 16/50\n",
            "3150/3150 [==============================] - 8s 3ms/step - loss: 0.0845 - accuracy: 0.9770\n",
            "Epoch 17/50\n",
            "3150/3150 [==============================] - 8s 3ms/step - loss: 0.0797 - accuracy: 0.9783\n",
            "Epoch 18/50\n",
            "3150/3150 [==============================] - 8s 3ms/step - loss: 0.0723 - accuracy: 0.9802\n",
            "Epoch 19/50\n",
            "3150/3150 [==============================] - 8s 3ms/step - loss: 0.0752 - accuracy: 0.9775\n",
            "Epoch 20/50\n",
            "3150/3150 [==============================] - 8s 3ms/step - loss: 0.0704 - accuracy: 0.9802\n",
            "Epoch 21/50\n",
            "3150/3150 [==============================] - 8s 3ms/step - loss: 0.0707 - accuracy: 0.9801\n",
            "Epoch 22/50\n",
            "3150/3150 [==============================] - 8s 3ms/step - loss: 0.0617 - accuracy: 0.9816\n",
            "Epoch 23/50\n",
            "3150/3150 [==============================] - 8s 3ms/step - loss: 0.0598 - accuracy: 0.9821\n",
            "Epoch 24/50\n",
            "3150/3150 [==============================] - 8s 3ms/step - loss: 0.0599 - accuracy: 0.9817\n",
            "Epoch 25/50\n",
            "3150/3150 [==============================] - 8s 3ms/step - loss: 0.0537 - accuracy: 0.9822\n",
            "Epoch 26/50\n",
            "3150/3150 [==============================] - 8s 3ms/step - loss: 0.0505 - accuracy: 0.9836\n",
            "Epoch 27/50\n",
            "3150/3150 [==============================] - 9s 3ms/step - loss: 0.0492 - accuracy: 0.9846\n",
            "Epoch 28/50\n",
            "3150/3150 [==============================] - 9s 3ms/step - loss: 0.0495 - accuracy: 0.9848\n",
            "Epoch 29/50\n",
            "3150/3150 [==============================] - 8s 3ms/step - loss: 0.0470 - accuracy: 0.9851\n",
            "Epoch 30/50\n",
            "3150/3150 [==============================] - 9s 3ms/step - loss: 0.0442 - accuracy: 0.9867\n",
            "Epoch 31/50\n",
            "3150/3150 [==============================] - 8s 3ms/step - loss: 0.0453 - accuracy: 0.9850\n",
            "Epoch 32/50\n",
            "3150/3150 [==============================] - 8s 3ms/step - loss: 0.0351 - accuracy: 0.9885\n",
            "Epoch 33/50\n",
            "3150/3150 [==============================] - 8s 3ms/step - loss: 0.0420 - accuracy: 0.9870\n",
            "Epoch 34/50\n",
            "3150/3150 [==============================] - 8s 3ms/step - loss: 0.0428 - accuracy: 0.9856\n",
            "Epoch 35/50\n",
            "3150/3150 [==============================] - 8s 3ms/step - loss: 0.0400 - accuracy: 0.9868\n",
            "Epoch 36/50\n",
            "3150/3150 [==============================] - 8s 3ms/step - loss: 0.0388 - accuracy: 0.9887\n",
            "Epoch 37/50\n",
            "3150/3150 [==============================] - 8s 3ms/step - loss: 0.0361 - accuracy: 0.9888\n",
            "Epoch 38/50\n",
            "3150/3150 [==============================] - 8s 3ms/step - loss: 0.0307 - accuracy: 0.9897\n",
            "Epoch 39/50\n",
            "3150/3150 [==============================] - 8s 3ms/step - loss: 0.0387 - accuracy: 0.9863\n",
            "Epoch 40/50\n",
            "3150/3150 [==============================] - 8s 3ms/step - loss: 0.0317 - accuracy: 0.9900\n",
            "Epoch 41/50\n",
            "3150/3150 [==============================] - 8s 3ms/step - loss: 0.0307 - accuracy: 0.9901\n",
            "Epoch 42/50\n",
            "3150/3150 [==============================] - 8s 3ms/step - loss: 0.0292 - accuracy: 0.9903\n",
            "Epoch 43/50\n",
            "3150/3150 [==============================] - 8s 3ms/step - loss: 0.0287 - accuracy: 0.9910\n",
            "Epoch 44/50\n",
            "3150/3150 [==============================] - 8s 3ms/step - loss: 0.0388 - accuracy: 0.9883\n",
            "Epoch 45/50\n",
            "3150/3150 [==============================] - 8s 3ms/step - loss: 0.0264 - accuracy: 0.9921\n",
            "Epoch 46/50\n",
            "3150/3150 [==============================] - 8s 3ms/step - loss: 0.0263 - accuracy: 0.9909\n",
            "Epoch 47/50\n",
            "3150/3150 [==============================] - 8s 3ms/step - loss: 0.0289 - accuracy: 0.9913\n",
            "Epoch 48/50\n",
            "3150/3150 [==============================] - 8s 3ms/step - loss: 0.0244 - accuracy: 0.9925\n",
            "Epoch 49/50\n",
            "3150/3150 [==============================] - 8s 3ms/step - loss: 0.0339 - accuracy: 0.9905\n",
            "Epoch 50/50\n",
            "3150/3150 [==============================] - 8s 3ms/step - loss: 0.0250 - accuracy: 0.9918\n",
            "350/350 [==============================] - 1s 2ms/step - loss: 0.4090 - accuracy: 0.9536\n",
            "Epoch 1/50\n",
            "3150/3150 [==============================] - 9s 3ms/step - loss: 0.4088 - accuracy: 0.8716\n",
            "Epoch 2/50\n",
            "3150/3150 [==============================] - 9s 3ms/step - loss: 0.2131 - accuracy: 0.9426\n",
            "Epoch 3/50\n",
            "3150/3150 [==============================] - 9s 3ms/step - loss: 0.1867 - accuracy: 0.9538\n",
            "Epoch 4/50\n",
            "3150/3150 [==============================] - 8s 3ms/step - loss: 0.1751 - accuracy: 0.9551\n",
            "Epoch 5/50\n",
            "3150/3150 [==============================] - 8s 3ms/step - loss: 0.1563 - accuracy: 0.9602\n",
            "Epoch 6/50\n",
            "3150/3150 [==============================] - 8s 3ms/step - loss: 0.1478 - accuracy: 0.9632\n",
            "Epoch 7/50\n",
            "3150/3150 [==============================] - 8s 3ms/step - loss: 0.1397 - accuracy: 0.9656\n",
            "Epoch 8/50\n",
            "3150/3150 [==============================] - 8s 3ms/step - loss: 0.1307 - accuracy: 0.9675\n",
            "Epoch 9/50\n",
            "3150/3150 [==============================] - 8s 3ms/step - loss: 0.1251 - accuracy: 0.9687\n",
            "Epoch 10/50\n",
            "3150/3150 [==============================] - 8s 3ms/step - loss: 0.1164 - accuracy: 0.9723\n",
            "Epoch 11/50\n",
            "3150/3150 [==============================] - 8s 3ms/step - loss: 0.1126 - accuracy: 0.9713\n",
            "Epoch 12/50\n",
            "3150/3150 [==============================] - 8s 3ms/step - loss: 0.1080 - accuracy: 0.9703\n",
            "Epoch 13/50\n",
            "3150/3150 [==============================] - 8s 3ms/step - loss: 0.0986 - accuracy: 0.9736\n",
            "Epoch 14/50\n",
            "3150/3150 [==============================] - 10s 3ms/step - loss: 0.0964 - accuracy: 0.9742\n",
            "Epoch 15/50\n",
            "3150/3150 [==============================] - 8s 3ms/step - loss: 0.0892 - accuracy: 0.9759\n",
            "Epoch 16/50\n",
            "3150/3150 [==============================] - 9s 3ms/step - loss: 0.0834 - accuracy: 0.9765\n",
            "Epoch 17/50\n",
            "3150/3150 [==============================] - 8s 3ms/step - loss: 0.0814 - accuracy: 0.9763\n",
            "Epoch 18/50\n",
            "3150/3150 [==============================] - 8s 3ms/step - loss: 0.0770 - accuracy: 0.9777\n",
            "Epoch 19/50\n",
            "3150/3150 [==============================] - 8s 3ms/step - loss: 0.0743 - accuracy: 0.9783\n",
            "Epoch 20/50\n",
            "3150/3150 [==============================] - 8s 3ms/step - loss: 0.0708 - accuracy: 0.9776\n",
            "Epoch 21/50\n",
            "3150/3150 [==============================] - 9s 3ms/step - loss: 0.0657 - accuracy: 0.9796\n",
            "Epoch 22/50\n",
            "3150/3150 [==============================] - 8s 3ms/step - loss: 0.0630 - accuracy: 0.9810\n",
            "Epoch 23/50\n",
            "3150/3150 [==============================] - 8s 3ms/step - loss: 0.0607 - accuracy: 0.9829\n",
            "Epoch 24/50\n",
            "3150/3150 [==============================] - 8s 3ms/step - loss: 0.0573 - accuracy: 0.9817\n",
            "Epoch 25/50\n",
            "3150/3150 [==============================] - 8s 3ms/step - loss: 0.0550 - accuracy: 0.9839\n",
            "Epoch 26/50\n",
            "3150/3150 [==============================] - 8s 3ms/step - loss: 0.0552 - accuracy: 0.9833\n",
            "Epoch 27/50\n",
            "3150/3150 [==============================] - 8s 3ms/step - loss: 0.0545 - accuracy: 0.9836\n",
            "Epoch 28/50\n",
            "3150/3150 [==============================] - 8s 3ms/step - loss: 0.0460 - accuracy: 0.9856\n",
            "Epoch 29/50\n",
            "3150/3150 [==============================] - 8s 3ms/step - loss: 0.0478 - accuracy: 0.9844\n",
            "Epoch 30/50\n",
            "3150/3150 [==============================] - 8s 3ms/step - loss: 0.0436 - accuracy: 0.9852\n",
            "Epoch 31/50\n",
            "3150/3150 [==============================] - 8s 3ms/step - loss: 0.0466 - accuracy: 0.9847\n",
            "Epoch 32/50\n",
            "3150/3150 [==============================] - 8s 3ms/step - loss: 0.0443 - accuracy: 0.9854\n",
            "Epoch 33/50\n",
            "3150/3150 [==============================] - 8s 3ms/step - loss: 0.0414 - accuracy: 0.9860\n",
            "Epoch 34/50\n",
            "3150/3150 [==============================] - 8s 3ms/step - loss: 0.0386 - accuracy: 0.9874\n",
            "Epoch 35/50\n",
            "3150/3150 [==============================] - 9s 3ms/step - loss: 0.0457 - accuracy: 0.9858\n",
            "Epoch 36/50\n",
            "3150/3150 [==============================] - 8s 3ms/step - loss: 0.0334 - accuracy: 0.9891\n",
            "Epoch 37/50\n",
            "3150/3150 [==============================] - 8s 3ms/step - loss: 0.0390 - accuracy: 0.9876\n",
            "Epoch 38/50\n",
            "3150/3150 [==============================] - 8s 3ms/step - loss: 0.0326 - accuracy: 0.9892\n",
            "Epoch 39/50\n",
            "3150/3150 [==============================] - 8s 3ms/step - loss: 0.0381 - accuracy: 0.9871\n",
            "Epoch 40/50\n",
            "3150/3150 [==============================] - 8s 3ms/step - loss: 0.0300 - accuracy: 0.9900\n",
            "Epoch 41/50\n",
            "3150/3150 [==============================] - 8s 3ms/step - loss: 0.0384 - accuracy: 0.9887\n",
            "Epoch 42/50\n",
            "3150/3150 [==============================] - 9s 3ms/step - loss: 0.0322 - accuracy: 0.9895\n",
            "Epoch 43/50\n",
            "3150/3150 [==============================] - 8s 3ms/step - loss: 0.0309 - accuracy: 0.9904\n",
            "Epoch 44/50\n",
            "3150/3150 [==============================] - 8s 3ms/step - loss: 0.0340 - accuracy: 0.9898\n",
            "Epoch 45/50\n",
            "3150/3150 [==============================] - 8s 3ms/step - loss: 0.0256 - accuracy: 0.9917\n",
            "Epoch 46/50\n",
            "3150/3150 [==============================] - 8s 3ms/step - loss: 0.0283 - accuracy: 0.9917\n",
            "Epoch 47/50\n",
            "3150/3150 [==============================] - 8s 3ms/step - loss: 0.0286 - accuracy: 0.9913\n",
            "Epoch 48/50\n",
            "3150/3150 [==============================] - 8s 3ms/step - loss: 0.0312 - accuracy: 0.9907\n",
            "Epoch 49/50\n",
            "3150/3150 [==============================] - 9s 3ms/step - loss: 0.0263 - accuracy: 0.9912\n",
            "Epoch 50/50\n",
            "3150/3150 [==============================] - 9s 3ms/step - loss: 0.0309 - accuracy: 0.9906\n",
            "350/350 [==============================] - 1s 3ms/step - loss: 0.3088 - accuracy: 0.9536\n",
            "Epoch 1/50\n",
            "3150/3150 [==============================] - 9s 3ms/step - loss: 0.4033 - accuracy: 0.8713\n",
            "Epoch 2/50\n",
            "3150/3150 [==============================] - 9s 3ms/step - loss: 0.2139 - accuracy: 0.9424\n",
            "Epoch 3/50\n",
            "3150/3150 [==============================] - 8s 3ms/step - loss: 0.1855 - accuracy: 0.9513\n",
            "Epoch 4/50\n",
            "3150/3150 [==============================] - 8s 3ms/step - loss: 0.1716 - accuracy: 0.9557\n",
            "Epoch 5/50\n",
            "3150/3150 [==============================] - 8s 3ms/step - loss: 0.1567 - accuracy: 0.9612\n",
            "Epoch 6/50\n",
            "3150/3150 [==============================] - 8s 3ms/step - loss: 0.1481 - accuracy: 0.9610\n",
            "Epoch 7/50\n",
            "3150/3150 [==============================] - 8s 3ms/step - loss: 0.1331 - accuracy: 0.9661\n",
            "Epoch 8/50\n",
            "3150/3150 [==============================] - 8s 3ms/step - loss: 0.1268 - accuracy: 0.9679\n",
            "Epoch 9/50\n",
            "3150/3150 [==============================] - 8s 3ms/step - loss: 0.1202 - accuracy: 0.9680\n",
            "Epoch 10/50\n",
            "3150/3150 [==============================] - 8s 3ms/step - loss: 0.1138 - accuracy: 0.9701\n",
            "Epoch 11/50\n",
            "3150/3150 [==============================] - 8s 3ms/step - loss: 0.1075 - accuracy: 0.9731\n",
            "Epoch 12/50\n",
            "3150/3150 [==============================] - 8s 3ms/step - loss: 0.1004 - accuracy: 0.9732\n",
            "Epoch 13/50\n",
            "3150/3150 [==============================] - 8s 3ms/step - loss: 0.0980 - accuracy: 0.9758\n",
            "Epoch 14/50\n",
            "3150/3150 [==============================] - 8s 3ms/step - loss: 0.0900 - accuracy: 0.9767\n",
            "Epoch 15/50\n",
            "3150/3150 [==============================] - 8s 3ms/step - loss: 0.0863 - accuracy: 0.9771\n",
            "Epoch 16/50\n",
            "3150/3150 [==============================] - 9s 3ms/step - loss: 0.0840 - accuracy: 0.9760\n",
            "Epoch 17/50\n",
            "3150/3150 [==============================] - 8s 3ms/step - loss: 0.0799 - accuracy: 0.9779\n",
            "Epoch 18/50\n",
            "3150/3150 [==============================] - 8s 3ms/step - loss: 0.0688 - accuracy: 0.9817\n",
            "Epoch 19/50\n",
            "3150/3150 [==============================] - 8s 3ms/step - loss: 0.0747 - accuracy: 0.9790\n",
            "Epoch 20/50\n",
            "3150/3150 [==============================] - 8s 3ms/step - loss: 0.0631 - accuracy: 0.9815\n",
            "Epoch 21/50\n",
            "3150/3150 [==============================] - 8s 3ms/step - loss: 0.0638 - accuracy: 0.9810\n",
            "Epoch 22/50\n",
            "3150/3150 [==============================] - 8s 3ms/step - loss: 0.0643 - accuracy: 0.9811\n",
            "Epoch 23/50\n",
            "3150/3150 [==============================] - 8s 3ms/step - loss: 0.0579 - accuracy: 0.9816\n",
            "Epoch 24/50\n",
            "3150/3150 [==============================] - 8s 3ms/step - loss: 0.0571 - accuracy: 0.9817\n",
            "Epoch 25/50\n",
            "3150/3150 [==============================] - 8s 3ms/step - loss: 0.0523 - accuracy: 0.9835\n",
            "Epoch 26/50\n",
            "3150/3150 [==============================] - 8s 3ms/step - loss: 0.0531 - accuracy: 0.9846\n",
            "Epoch 27/50\n",
            "3150/3150 [==============================] - 9s 3ms/step - loss: 0.0500 - accuracy: 0.9851\n",
            "Epoch 28/50\n",
            "3150/3150 [==============================] - 8s 3ms/step - loss: 0.0495 - accuracy: 0.9840\n",
            "Epoch 29/50\n",
            "3150/3150 [==============================] - 8s 3ms/step - loss: 0.0446 - accuracy: 0.9867\n",
            "Epoch 30/50\n",
            "3150/3150 [==============================] - 8s 3ms/step - loss: 0.0412 - accuracy: 0.9860\n",
            "Epoch 31/50\n",
            "3150/3150 [==============================] - 8s 3ms/step - loss: 0.0397 - accuracy: 0.9875\n",
            "Epoch 32/50\n",
            "3150/3150 [==============================] - 8s 3ms/step - loss: 0.0438 - accuracy: 0.9864\n",
            "Epoch 33/50\n",
            "3150/3150 [==============================] - 8s 3ms/step - loss: 0.0376 - accuracy: 0.9876\n",
            "Epoch 34/50\n",
            "3150/3150 [==============================] - 9s 3ms/step - loss: 0.0391 - accuracy: 0.9867\n",
            "Epoch 35/50\n",
            "3150/3150 [==============================] - 8s 3ms/step - loss: 0.0385 - accuracy: 0.9891\n",
            "Epoch 36/50\n",
            "3150/3150 [==============================] - 8s 3ms/step - loss: 0.0368 - accuracy: 0.9876\n",
            "Epoch 37/50\n",
            "3150/3150 [==============================] - 9s 3ms/step - loss: 0.0315 - accuracy: 0.9898\n",
            "Epoch 38/50\n",
            "3150/3150 [==============================] - 10s 3ms/step - loss: 0.0351 - accuracy: 0.9891\n",
            "Epoch 39/50\n",
            "3150/3150 [==============================] - 8s 3ms/step - loss: 0.0347 - accuracy: 0.9886\n",
            "Epoch 40/50\n",
            "3150/3150 [==============================] - 8s 3ms/step - loss: 0.0320 - accuracy: 0.9894\n",
            "Epoch 41/50\n",
            "3150/3150 [==============================] - 8s 3ms/step - loss: 0.0380 - accuracy: 0.9881\n",
            "Epoch 42/50\n",
            "3150/3150 [==============================] - 8s 3ms/step - loss: 0.0339 - accuracy: 0.9901\n",
            "Epoch 43/50\n",
            "3150/3150 [==============================] - 8s 3ms/step - loss: 0.0316 - accuracy: 0.9893\n",
            "Epoch 44/50\n",
            "3150/3150 [==============================] - 8s 3ms/step - loss: 0.0258 - accuracy: 0.9915\n",
            "Epoch 45/50\n",
            "3150/3150 [==============================] - 8s 3ms/step - loss: 0.0365 - accuracy: 0.9897\n",
            "Epoch 46/50\n",
            "3150/3150 [==============================] - 8s 3ms/step - loss: 0.0232 - accuracy: 0.9929\n",
            "Epoch 47/50\n",
            "3150/3150 [==============================] - 8s 3ms/step - loss: 0.0310 - accuracy: 0.9902\n",
            "Epoch 48/50\n",
            "3150/3150 [==============================] - 8s 3ms/step - loss: 0.0258 - accuracy: 0.9915\n",
            "Epoch 49/50\n",
            "3150/3150 [==============================] - 8s 3ms/step - loss: 0.0303 - accuracy: 0.9918\n",
            "Epoch 50/50\n",
            "3150/3150 [==============================] - 8s 3ms/step - loss: 0.0235 - accuracy: 0.9916\n",
            "350/350 [==============================] - 1s 2ms/step - loss: 0.5427 - accuracy: 0.9343\n",
            "Epoch 1/50\n",
            "3150/3150 [==============================] - 8s 3ms/step - loss: 0.4184 - accuracy: 0.8674\n",
            "Epoch 2/50\n",
            "3150/3150 [==============================] - 8s 3ms/step - loss: 0.2118 - accuracy: 0.9425\n",
            "Epoch 3/50\n",
            "3150/3150 [==============================] - 8s 3ms/step - loss: 0.1817 - accuracy: 0.9510\n",
            "Epoch 4/50\n",
            "3150/3150 [==============================] - 8s 3ms/step - loss: 0.1641 - accuracy: 0.9586\n",
            "Epoch 5/50\n",
            "3150/3150 [==============================] - 8s 3ms/step - loss: 0.1528 - accuracy: 0.9610\n",
            "Epoch 6/50\n",
            "3150/3150 [==============================] - 8s 3ms/step - loss: 0.1452 - accuracy: 0.9633\n",
            "Epoch 7/50\n",
            "3150/3150 [==============================] - 8s 3ms/step - loss: 0.1331 - accuracy: 0.9656\n",
            "Epoch 8/50\n",
            "3150/3150 [==============================] - 8s 3ms/step - loss: 0.1256 - accuracy: 0.9686\n",
            "Epoch 9/50\n",
            "3150/3150 [==============================] - 8s 3ms/step - loss: 0.1230 - accuracy: 0.9687\n",
            "Epoch 10/50\n",
            "3150/3150 [==============================] - 8s 3ms/step - loss: 0.1123 - accuracy: 0.9719\n",
            "Epoch 11/50\n",
            "3150/3150 [==============================] - 8s 3ms/step - loss: 0.1088 - accuracy: 0.9708\n",
            "Epoch 12/50\n",
            "3150/3150 [==============================] - 8s 3ms/step - loss: 0.1010 - accuracy: 0.9733\n",
            "Epoch 13/50\n",
            "3150/3150 [==============================] - 8s 3ms/step - loss: 0.0960 - accuracy: 0.9737\n",
            "Epoch 14/50\n",
            "3150/3150 [==============================] - 8s 3ms/step - loss: 0.0900 - accuracy: 0.9738\n",
            "Epoch 15/50\n",
            "3150/3150 [==============================] - 8s 3ms/step - loss: 0.0872 - accuracy: 0.9745\n",
            "Epoch 16/50\n",
            "3150/3150 [==============================] - 8s 3ms/step - loss: 0.0814 - accuracy: 0.9756\n",
            "Epoch 17/50\n",
            "3150/3150 [==============================] - 8s 3ms/step - loss: 0.0777 - accuracy: 0.9794\n",
            "Epoch 18/50\n",
            "3150/3150 [==============================] - 8s 3ms/step - loss: 0.0729 - accuracy: 0.9794\n",
            "Epoch 19/50\n",
            "3150/3150 [==============================] - 8s 3ms/step - loss: 0.0700 - accuracy: 0.9786\n",
            "Epoch 20/50\n",
            "3150/3150 [==============================] - 8s 3ms/step - loss: 0.0647 - accuracy: 0.9811\n",
            "Epoch 21/50\n",
            "3150/3150 [==============================] - 8s 3ms/step - loss: 0.0645 - accuracy: 0.9787\n",
            "Epoch 22/50\n",
            "3150/3150 [==============================] - 8s 3ms/step - loss: 0.0595 - accuracy: 0.9819\n",
            "Epoch 23/50\n",
            "3150/3150 [==============================] - 8s 3ms/step - loss: 0.0604 - accuracy: 0.9817\n",
            "Epoch 24/50\n",
            "3150/3150 [==============================] - 10s 3ms/step - loss: 0.0511 - accuracy: 0.9840\n",
            "Epoch 25/50\n",
            "3150/3150 [==============================] - 9s 3ms/step - loss: 0.0542 - accuracy: 0.9829\n",
            "Epoch 26/50\n",
            "3150/3150 [==============================] - 8s 3ms/step - loss: 0.0509 - accuracy: 0.9825\n",
            "Epoch 27/50\n",
            "3150/3150 [==============================] - 8s 3ms/step - loss: 0.0475 - accuracy: 0.9849\n",
            "Epoch 28/50\n",
            "3150/3150 [==============================] - 9s 3ms/step - loss: 0.0470 - accuracy: 0.9852\n",
            "Epoch 29/50\n",
            "3150/3150 [==============================] - 8s 3ms/step - loss: 0.0420 - accuracy: 0.9877\n",
            "Epoch 30/50\n",
            "3150/3150 [==============================] - 8s 3ms/step - loss: 0.0428 - accuracy: 0.9858\n",
            "Epoch 31/50\n",
            "3150/3150 [==============================] - 8s 3ms/step - loss: 0.0383 - accuracy: 0.9879\n",
            "Epoch 32/50\n",
            "3150/3150 [==============================] - 8s 3ms/step - loss: 0.0391 - accuracy: 0.9894\n",
            "Epoch 33/50\n",
            "3150/3150 [==============================] - 8s 3ms/step - loss: 0.0370 - accuracy: 0.9884\n",
            "Epoch 34/50\n",
            "3150/3150 [==============================] - 8s 3ms/step - loss: 0.0375 - accuracy: 0.9878\n",
            "Epoch 35/50\n",
            "3150/3150 [==============================] - 8s 3ms/step - loss: 0.0350 - accuracy: 0.9899\n",
            "Epoch 36/50\n",
            "3150/3150 [==============================] - 8s 3ms/step - loss: 0.0377 - accuracy: 0.9883\n",
            "Epoch 37/50\n",
            "3150/3150 [==============================] - 8s 3ms/step - loss: 0.0357 - accuracy: 0.9894\n",
            "Epoch 38/50\n",
            "3150/3150 [==============================] - 9s 3ms/step - loss: 0.0322 - accuracy: 0.9903\n",
            "Epoch 39/50\n",
            "3150/3150 [==============================] - 8s 3ms/step - loss: 0.0338 - accuracy: 0.9894\n",
            "Epoch 40/50\n",
            "3150/3150 [==============================] - 8s 3ms/step - loss: 0.0348 - accuracy: 0.9887\n",
            "Epoch 41/50\n",
            "3150/3150 [==============================] - 8s 3ms/step - loss: 0.0277 - accuracy: 0.9909\n",
            "Epoch 42/50\n",
            "3150/3150 [==============================] - 8s 3ms/step - loss: 0.0294 - accuracy: 0.9907\n",
            "Epoch 43/50\n",
            "3150/3150 [==============================] - 8s 3ms/step - loss: 0.0325 - accuracy: 0.9888\n",
            "Epoch 44/50\n",
            "3150/3150 [==============================] - 8s 3ms/step - loss: 0.0253 - accuracy: 0.9929\n",
            "Epoch 45/50\n",
            "3150/3150 [==============================] - 8s 3ms/step - loss: 0.0272 - accuracy: 0.9917\n",
            "Epoch 46/50\n",
            "3150/3150 [==============================] - 8s 3ms/step - loss: 0.0349 - accuracy: 0.9899\n",
            "Epoch 47/50\n",
            "3150/3150 [==============================] - 8s 3ms/step - loss: 0.0262 - accuracy: 0.9929\n",
            "Epoch 48/50\n",
            "3150/3150 [==============================] - 8s 3ms/step - loss: 0.0299 - accuracy: 0.9899\n",
            "Epoch 49/50\n",
            "3150/3150 [==============================] - 9s 3ms/step - loss: 0.0227 - accuracy: 0.9917\n",
            "Epoch 50/50\n",
            "3150/3150 [==============================] - 8s 3ms/step - loss: 0.0253 - accuracy: 0.9921\n",
            "350/350 [==============================] - 1s 2ms/step - loss: 0.3994 - accuracy: 0.9521\n",
            "Epoch 1/50\n",
            "3150/3150 [==============================] - 9s 3ms/step - loss: 0.3941 - accuracy: 0.8735\n",
            "Epoch 2/50\n",
            "3150/3150 [==============================] - 9s 3ms/step - loss: 0.2073 - accuracy: 0.9435\n",
            "Epoch 3/50\n",
            "3150/3150 [==============================] - 9s 3ms/step - loss: 0.1810 - accuracy: 0.9502\n",
            "Epoch 4/50\n",
            "3150/3150 [==============================] - 8s 3ms/step - loss: 0.1669 - accuracy: 0.9568\n",
            "Epoch 5/50\n",
            "3150/3150 [==============================] - 9s 3ms/step - loss: 0.1546 - accuracy: 0.9599\n",
            "Epoch 6/50\n",
            "3150/3150 [==============================] - 8s 3ms/step - loss: 0.1396 - accuracy: 0.9625\n",
            "Epoch 7/50\n",
            "3150/3150 [==============================] - 8s 3ms/step - loss: 0.1351 - accuracy: 0.9639\n",
            "Epoch 8/50\n",
            "3150/3150 [==============================] - 8s 3ms/step - loss: 0.1239 - accuracy: 0.9687\n",
            "Epoch 9/50\n",
            "3150/3150 [==============================] - 9s 3ms/step - loss: 0.1189 - accuracy: 0.9708\n",
            "Epoch 10/50\n",
            "3150/3150 [==============================] - 9s 3ms/step - loss: 0.1149 - accuracy: 0.9706\n",
            "Epoch 11/50\n",
            "3150/3150 [==============================] - 9s 3ms/step - loss: 0.1043 - accuracy: 0.9721\n",
            "Epoch 12/50\n",
            "3150/3150 [==============================] - 9s 3ms/step - loss: 0.1034 - accuracy: 0.9739\n",
            "Epoch 13/50\n",
            "3150/3150 [==============================] - 9s 3ms/step - loss: 0.0929 - accuracy: 0.9739\n",
            "Epoch 14/50\n",
            "3150/3150 [==============================] - 8s 3ms/step - loss: 0.0901 - accuracy: 0.9759\n",
            "Epoch 15/50\n",
            "3150/3150 [==============================] - 9s 3ms/step - loss: 0.0831 - accuracy: 0.9785\n",
            "Epoch 16/50\n",
            "3150/3150 [==============================] - 9s 3ms/step - loss: 0.0818 - accuracy: 0.9763\n",
            "Epoch 17/50\n",
            "3150/3150 [==============================] - 8s 3ms/step - loss: 0.0751 - accuracy: 0.9788\n",
            "Epoch 18/50\n",
            "3150/3150 [==============================] - 9s 3ms/step - loss: 0.0770 - accuracy: 0.9779\n",
            "Epoch 19/50\n",
            "3150/3150 [==============================] - 9s 3ms/step - loss: 0.0679 - accuracy: 0.9802\n",
            "Epoch 20/50\n",
            "3150/3150 [==============================] - 9s 3ms/step - loss: 0.0621 - accuracy: 0.9833\n",
            "Epoch 21/50\n",
            "3150/3150 [==============================] - 9s 3ms/step - loss: 0.0635 - accuracy: 0.9819\n",
            "Epoch 22/50\n",
            "3150/3150 [==============================] - 9s 3ms/step - loss: 0.0597 - accuracy: 0.9819\n",
            "Epoch 23/50\n",
            "3150/3150 [==============================] - 9s 3ms/step - loss: 0.0517 - accuracy: 0.9829\n",
            "Epoch 24/50\n",
            "3150/3150 [==============================] - 9s 3ms/step - loss: 0.0543 - accuracy: 0.9829\n",
            "Epoch 25/50\n",
            "3150/3150 [==============================] - 9s 3ms/step - loss: 0.0530 - accuracy: 0.9835\n",
            "Epoch 26/50\n",
            "3150/3150 [==============================] - 9s 3ms/step - loss: 0.0496 - accuracy: 0.9859\n",
            "Epoch 27/50\n",
            "3150/3150 [==============================] - 9s 3ms/step - loss: 0.0514 - accuracy: 0.9831\n",
            "Epoch 28/50\n",
            "3150/3150 [==============================] - 9s 3ms/step - loss: 0.0415 - accuracy: 0.9867\n",
            "Epoch 29/50\n",
            "3150/3150 [==============================] - 9s 3ms/step - loss: 0.0435 - accuracy: 0.9872\n",
            "Epoch 30/50\n",
            "3150/3150 [==============================] - 9s 3ms/step - loss: 0.0426 - accuracy: 0.9866\n",
            "Epoch 31/50\n",
            "3150/3150 [==============================] - 9s 3ms/step - loss: 0.0373 - accuracy: 0.9888\n",
            "Epoch 32/50\n",
            "3150/3150 [==============================] - 9s 3ms/step - loss: 0.0405 - accuracy: 0.9864\n",
            "Epoch 33/50\n",
            "3150/3150 [==============================] - 9s 3ms/step - loss: 0.0373 - accuracy: 0.9882\n",
            "Epoch 34/50\n",
            "3150/3150 [==============================] - 9s 3ms/step - loss: 0.0357 - accuracy: 0.9887\n",
            "Epoch 35/50\n",
            "3150/3150 [==============================] - 8s 3ms/step - loss: 0.0290 - accuracy: 0.9918\n",
            "Epoch 36/50\n",
            "3150/3150 [==============================] - 9s 3ms/step - loss: 0.0370 - accuracy: 0.9883\n",
            "Epoch 37/50\n",
            "3150/3150 [==============================] - 9s 3ms/step - loss: 0.0370 - accuracy: 0.9874\n",
            "Epoch 38/50\n",
            "3150/3150 [==============================] - 9s 3ms/step - loss: 0.0356 - accuracy: 0.9881\n",
            "Epoch 39/50\n",
            "3150/3150 [==============================] - 9s 3ms/step - loss: 0.0329 - accuracy: 0.9895\n",
            "Epoch 40/50\n",
            "3150/3150 [==============================] - 9s 3ms/step - loss: 0.0303 - accuracy: 0.9898\n",
            "Epoch 41/50\n",
            "3150/3150 [==============================] - 9s 3ms/step - loss: 0.0289 - accuracy: 0.9913\n",
            "Epoch 42/50\n",
            "3150/3150 [==============================] - 8s 3ms/step - loss: 0.0308 - accuracy: 0.9902\n",
            "Epoch 43/50\n",
            "3150/3150 [==============================] - 9s 3ms/step - loss: 0.0273 - accuracy: 0.9912\n",
            "Epoch 44/50\n",
            "3150/3150 [==============================] - 9s 3ms/step - loss: 0.0227 - accuracy: 0.9927\n",
            "Epoch 45/50\n",
            "3150/3150 [==============================] - 9s 3ms/step - loss: 0.0371 - accuracy: 0.9890\n",
            "Epoch 46/50\n",
            "3150/3150 [==============================] - 9s 3ms/step - loss: 0.0195 - accuracy: 0.9935\n",
            "Epoch 47/50\n",
            "3150/3150 [==============================] - 10s 3ms/step - loss: 0.0258 - accuracy: 0.9913\n",
            "Epoch 48/50\n",
            "3150/3150 [==============================] - 9s 3ms/step - loss: 0.0291 - accuracy: 0.9913\n",
            "Epoch 49/50\n",
            "3150/3150 [==============================] - 9s 3ms/step - loss: 0.0240 - accuracy: 0.9922\n",
            "Epoch 50/50\n",
            "3150/3150 [==============================] - 9s 3ms/step - loss: 0.0278 - accuracy: 0.9913\n",
            "350/350 [==============================] - 1s 2ms/step - loss: 0.5370 - accuracy: 0.9393\n",
            "Epoch 1/50\n",
            "3150/3150 [==============================] - 9s 3ms/step - loss: 0.4203 - accuracy: 0.8703\n",
            "Epoch 2/50\n",
            "3150/3150 [==============================] - 8s 3ms/step - loss: 0.2157 - accuracy: 0.9406\n",
            "Epoch 3/50\n",
            "3150/3150 [==============================] - 9s 3ms/step - loss: 0.1856 - accuracy: 0.9531\n",
            "Epoch 4/50\n",
            "3150/3150 [==============================] - 9s 3ms/step - loss: 0.1663 - accuracy: 0.9570\n",
            "Epoch 5/50\n",
            "3150/3150 [==============================] - 9s 3ms/step - loss: 0.1567 - accuracy: 0.9588\n",
            "Epoch 6/50\n",
            "3150/3150 [==============================] - 8s 3ms/step - loss: 0.1455 - accuracy: 0.9638\n",
            "Epoch 7/50\n",
            "3150/3150 [==============================] - 9s 3ms/step - loss: 0.1376 - accuracy: 0.9660\n",
            "Epoch 8/50\n",
            "3150/3150 [==============================] - 9s 3ms/step - loss: 0.1282 - accuracy: 0.9672\n",
            "Epoch 9/50\n",
            "3150/3150 [==============================] - 8s 3ms/step - loss: 0.1197 - accuracy: 0.9705\n",
            "Epoch 10/50\n",
            "3150/3150 [==============================] - 9s 3ms/step - loss: 0.1149 - accuracy: 0.9704\n",
            "Epoch 11/50\n",
            "3150/3150 [==============================] - 9s 3ms/step - loss: 0.1069 - accuracy: 0.9739\n",
            "Epoch 12/50\n",
            "3150/3150 [==============================] - 9s 3ms/step - loss: 0.1028 - accuracy: 0.9727\n",
            "Epoch 13/50\n",
            "3150/3150 [==============================] - 8s 3ms/step - loss: 0.0938 - accuracy: 0.9755\n",
            "Epoch 14/50\n",
            "3150/3150 [==============================] - 8s 3ms/step - loss: 0.0940 - accuracy: 0.9738\n",
            "Epoch 15/50\n",
            "3150/3150 [==============================] - 8s 3ms/step - loss: 0.0857 - accuracy: 0.9772\n",
            "Epoch 16/50\n",
            "3150/3150 [==============================] - 8s 3ms/step - loss: 0.0800 - accuracy: 0.9770\n",
            "Epoch 17/50\n",
            "3150/3150 [==============================] - 8s 3ms/step - loss: 0.0773 - accuracy: 0.9775\n",
            "Epoch 18/50\n",
            "3150/3150 [==============================] - 9s 3ms/step - loss: 0.0730 - accuracy: 0.9797\n",
            "Epoch 19/50\n",
            "3150/3150 [==============================] - 9s 3ms/step - loss: 0.0698 - accuracy: 0.9803\n",
            "Epoch 20/50\n",
            "3150/3150 [==============================] - 9s 3ms/step - loss: 0.0632 - accuracy: 0.9822\n",
            "Epoch 21/50\n",
            "3150/3150 [==============================] - 9s 3ms/step - loss: 0.0597 - accuracy: 0.9813\n",
            "Epoch 22/50\n",
            "3150/3150 [==============================] - 9s 3ms/step - loss: 0.0594 - accuracy: 0.9822\n",
            "Epoch 23/50\n",
            "3150/3150 [==============================] - 8s 3ms/step - loss: 0.0570 - accuracy: 0.9833\n",
            "Epoch 24/50\n",
            "3150/3150 [==============================] - 8s 3ms/step - loss: 0.0525 - accuracy: 0.9830\n",
            "Epoch 25/50\n",
            "3150/3150 [==============================] - 8s 3ms/step - loss: 0.0493 - accuracy: 0.9825\n",
            "Epoch 26/50\n",
            "3150/3150 [==============================] - 9s 3ms/step - loss: 0.0482 - accuracy: 0.9853\n",
            "Epoch 27/50\n",
            "3150/3150 [==============================] - 8s 3ms/step - loss: 0.0489 - accuracy: 0.9856\n",
            "Epoch 28/50\n",
            "3150/3150 [==============================] - 9s 3ms/step - loss: 0.0427 - accuracy: 0.9867\n",
            "Epoch 29/50\n",
            "3150/3150 [==============================] - 9s 3ms/step - loss: 0.0482 - accuracy: 0.9829\n",
            "Epoch 30/50\n",
            "3150/3150 [==============================] - 8s 3ms/step - loss: 0.0430 - accuracy: 0.9857\n",
            "Epoch 31/50\n",
            "3150/3150 [==============================] - 9s 3ms/step - loss: 0.0384 - accuracy: 0.9882\n",
            "Epoch 32/50\n",
            "3150/3150 [==============================] - 9s 3ms/step - loss: 0.0417 - accuracy: 0.9870\n",
            "Epoch 33/50\n",
            "3150/3150 [==============================] - 10s 3ms/step - loss: 0.0354 - accuracy: 0.9881\n",
            "Epoch 34/50\n",
            "3150/3150 [==============================] - 9s 3ms/step - loss: 0.0385 - accuracy: 0.9869\n",
            "Epoch 35/50\n",
            "3150/3150 [==============================] - 9s 3ms/step - loss: 0.0312 - accuracy: 0.9897\n",
            "Epoch 36/50\n",
            "3150/3150 [==============================] - 9s 3ms/step - loss: 0.0366 - accuracy: 0.9882\n",
            "Epoch 37/50\n",
            "3150/3150 [==============================] - 8s 3ms/step - loss: 0.0314 - accuracy: 0.9900\n",
            "Epoch 38/50\n",
            "3150/3150 [==============================] - 9s 3ms/step - loss: 0.0360 - accuracy: 0.9883\n",
            "Epoch 39/50\n",
            "3150/3150 [==============================] - 9s 3ms/step - loss: 0.0317 - accuracy: 0.9896\n",
            "Epoch 40/50\n",
            "3150/3150 [==============================] - 8s 3ms/step - loss: 0.0310 - accuracy: 0.9901\n",
            "Epoch 41/50\n",
            "3150/3150 [==============================] - 8s 3ms/step - loss: 0.0346 - accuracy: 0.9878\n",
            "Epoch 42/50\n",
            "3150/3150 [==============================] - 9s 3ms/step - loss: 0.0251 - accuracy: 0.9916\n",
            "Epoch 43/50\n",
            "3150/3150 [==============================] - 9s 3ms/step - loss: 0.0301 - accuracy: 0.9899\n",
            "Epoch 44/50\n",
            "3150/3150 [==============================] - 9s 3ms/step - loss: 0.0275 - accuracy: 0.9918\n",
            "Epoch 45/50\n",
            "3150/3150 [==============================] - 8s 3ms/step - loss: 0.0273 - accuracy: 0.9906\n",
            "Epoch 46/50\n",
            "3150/3150 [==============================] - 9s 3ms/step - loss: 0.0263 - accuracy: 0.9914\n",
            "Epoch 47/50\n",
            "3150/3150 [==============================] - 9s 3ms/step - loss: 0.0254 - accuracy: 0.9915\n",
            "Epoch 48/50\n",
            "3150/3150 [==============================] - 8s 3ms/step - loss: 0.0274 - accuracy: 0.9908\n",
            "Epoch 49/50\n",
            "3150/3150 [==============================] - 9s 3ms/step - loss: 0.0332 - accuracy: 0.9896\n",
            "Epoch 50/50\n",
            "3150/3150 [==============================] - 9s 3ms/step - loss: 0.0264 - accuracy: 0.9915\n",
            "350/350 [==============================] - 1s 2ms/step - loss: 0.4036 - accuracy: 0.9550\n",
            "Epoch 1/50\n",
            "3150/3150 [==============================] - 9s 3ms/step - loss: 0.4017 - accuracy: 0.8717\n",
            "Epoch 2/50\n",
            "3150/3150 [==============================] - 9s 3ms/step - loss: 0.2167 - accuracy: 0.9414\n",
            "Epoch 3/50\n",
            "3150/3150 [==============================] - 9s 3ms/step - loss: 0.1887 - accuracy: 0.9504\n",
            "Epoch 4/50\n",
            "3150/3150 [==============================] - 9s 3ms/step - loss: 0.1673 - accuracy: 0.9579\n",
            "Epoch 5/50\n",
            "3150/3150 [==============================] - 8s 3ms/step - loss: 0.1571 - accuracy: 0.9595\n",
            "Epoch 6/50\n",
            "3150/3150 [==============================] - 9s 3ms/step - loss: 0.1494 - accuracy: 0.9612\n",
            "Epoch 7/50\n",
            "3150/3150 [==============================] - 9s 3ms/step - loss: 0.1405 - accuracy: 0.9629\n",
            "Epoch 8/50\n",
            "3150/3150 [==============================] - 8s 3ms/step - loss: 0.1283 - accuracy: 0.9676\n",
            "Epoch 9/50\n",
            "3150/3150 [==============================] - 9s 3ms/step - loss: 0.1240 - accuracy: 0.9689\n",
            "Epoch 10/50\n",
            "3150/3150 [==============================] - 9s 3ms/step - loss: 0.1137 - accuracy: 0.9721\n",
            "Epoch 11/50\n",
            "3150/3150 [==============================] - 9s 3ms/step - loss: 0.1127 - accuracy: 0.9706\n",
            "Epoch 12/50\n",
            "3150/3150 [==============================] - 9s 3ms/step - loss: 0.1010 - accuracy: 0.9744\n",
            "Epoch 13/50\n",
            "3150/3150 [==============================] - 9s 3ms/step - loss: 0.0986 - accuracy: 0.9744\n",
            "Epoch 14/50\n",
            "3150/3150 [==============================] - 9s 3ms/step - loss: 0.0964 - accuracy: 0.9739\n",
            "Epoch 15/50\n",
            "3150/3150 [==============================] - 9s 3ms/step - loss: 0.0861 - accuracy: 0.9767\n",
            "Epoch 16/50\n",
            "3150/3150 [==============================] - 9s 3ms/step - loss: 0.0818 - accuracy: 0.9779\n",
            "Epoch 17/50\n",
            "3150/3150 [==============================] - 9s 3ms/step - loss: 0.0778 - accuracy: 0.9779\n",
            "Epoch 18/50\n",
            "3150/3150 [==============================] - 9s 3ms/step - loss: 0.0786 - accuracy: 0.9775\n",
            "Epoch 19/50\n",
            "3150/3150 [==============================] - 10s 3ms/step - loss: 0.0692 - accuracy: 0.9810\n",
            "Epoch 20/50\n",
            "3150/3150 [==============================] - 9s 3ms/step - loss: 0.0684 - accuracy: 0.9800\n",
            "Epoch 21/50\n",
            "3150/3150 [==============================] - 9s 3ms/step - loss: 0.0629 - accuracy: 0.9814\n",
            "Epoch 22/50\n",
            "3150/3150 [==============================] - 9s 3ms/step - loss: 0.0616 - accuracy: 0.9820\n",
            "Epoch 23/50\n",
            "3150/3150 [==============================] - 9s 3ms/step - loss: 0.0574 - accuracy: 0.9817\n",
            "Epoch 24/50\n",
            "3150/3150 [==============================] - 9s 3ms/step - loss: 0.0574 - accuracy: 0.9816\n",
            "Epoch 25/50\n",
            "3150/3150 [==============================] - 9s 3ms/step - loss: 0.0566 - accuracy: 0.9826\n",
            "Epoch 26/50\n",
            "3150/3150 [==============================] - 9s 3ms/step - loss: 0.0483 - accuracy: 0.9845\n",
            "Epoch 27/50\n",
            "3150/3150 [==============================] - 9s 3ms/step - loss: 0.0485 - accuracy: 0.9852\n",
            "Epoch 28/50\n",
            "3150/3150 [==============================] - 9s 3ms/step - loss: 0.0457 - accuracy: 0.9860\n",
            "Epoch 29/50\n",
            "3150/3150 [==============================] - 8s 3ms/step - loss: 0.0471 - accuracy: 0.9845\n",
            "Epoch 30/50\n",
            "3150/3150 [==============================] - 9s 3ms/step - loss: 0.0414 - accuracy: 0.9860\n",
            "Epoch 31/50\n",
            "3150/3150 [==============================] - 9s 3ms/step - loss: 0.0373 - accuracy: 0.9879\n",
            "Epoch 32/50\n",
            "3150/3150 [==============================] - 9s 3ms/step - loss: 0.0417 - accuracy: 0.9879\n",
            "Epoch 33/50\n",
            "3150/3150 [==============================] - 9s 3ms/step - loss: 0.0417 - accuracy: 0.9874\n",
            "Epoch 34/50\n",
            "3150/3150 [==============================] - 9s 3ms/step - loss: 0.0368 - accuracy: 0.9874\n",
            "Epoch 35/50\n",
            "3150/3150 [==============================] - 9s 3ms/step - loss: 0.0360 - accuracy: 0.9890\n",
            "Epoch 36/50\n",
            "3150/3150 [==============================] - 9s 3ms/step - loss: 0.0332 - accuracy: 0.9902\n",
            "Epoch 37/50\n",
            "3150/3150 [==============================] - 9s 3ms/step - loss: 0.0347 - accuracy: 0.9887\n",
            "Epoch 38/50\n",
            "3150/3150 [==============================] - 9s 3ms/step - loss: 0.0323 - accuracy: 0.9885\n",
            "Epoch 39/50\n",
            "3150/3150 [==============================] - 9s 3ms/step - loss: 0.0334 - accuracy: 0.9890\n",
            "Epoch 40/50\n",
            "3150/3150 [==============================] - 9s 3ms/step - loss: 0.0313 - accuracy: 0.9897\n",
            "Epoch 41/50\n",
            "3150/3150 [==============================] - 9s 3ms/step - loss: 0.0297 - accuracy: 0.9912\n",
            "Epoch 42/50\n",
            "3150/3150 [==============================] - 9s 3ms/step - loss: 0.0344 - accuracy: 0.9907\n",
            "Epoch 43/50\n",
            "3150/3150 [==============================] - 9s 3ms/step - loss: 0.0270 - accuracy: 0.9913\n",
            "Epoch 44/50\n",
            "3150/3150 [==============================] - 9s 3ms/step - loss: 0.0278 - accuracy: 0.9902\n",
            "Epoch 45/50\n",
            "3150/3150 [==============================] - 9s 3ms/step - loss: 0.0269 - accuracy: 0.9910\n",
            "Epoch 46/50\n",
            "3150/3150 [==============================] - 9s 3ms/step - loss: 0.0297 - accuracy: 0.9916\n",
            "Epoch 47/50\n",
            "3150/3150 [==============================] - 9s 3ms/step - loss: 0.0278 - accuracy: 0.9914\n",
            "Epoch 48/50\n",
            "3150/3150 [==============================] - 9s 3ms/step - loss: 0.0282 - accuracy: 0.9906\n",
            "Epoch 49/50\n",
            "3150/3150 [==============================] - 9s 3ms/step - loss: 0.0274 - accuracy: 0.9902\n",
            "Epoch 50/50\n",
            "3150/3150 [==============================] - 9s 3ms/step - loss: 0.0210 - accuracy: 0.9929\n",
            "350/350 [==============================] - 1s 2ms/step - loss: 0.4166 - accuracy: 0.9493\n",
            "Baseline: 94.72% (0.65%)\n"
          ],
          "name": "stdout"
        }
      ]
    },
    {
      "cell_type": "code",
      "metadata": {
        "id": "WpoAtBhz9Ibn",
        "colab_type": "code",
        "colab": {
          "base_uri": "https://localhost:8080/",
          "height": 1000
        },
        "outputId": "48482d2a-aaa2-453d-a3cc-fcc113647cc4"
      },
      "source": [
        "estimator.fit(X_train, y_train)\n",
        "predict = estimator.predict(X_test)\n",
        "print(\"Exactitud: {}%\".format(100*round(accuracy_score(y_test, predict), 2)))"
      ],
      "execution_count": null,
      "outputs": [
        {
          "output_type": "stream",
          "text": [
            "Epoch 1/50\n",
            "3500/3500 [==============================] - 10s 3ms/step - loss: 0.3729 - accuracy: 0.8826\n",
            "Epoch 2/50\n",
            "3500/3500 [==============================] - 9s 3ms/step - loss: 0.2051 - accuracy: 0.9418\n",
            "Epoch 3/50\n",
            "3500/3500 [==============================] - 9s 3ms/step - loss: 0.1816 - accuracy: 0.9534\n",
            "Epoch 4/50\n",
            "3500/3500 [==============================] - 9s 3ms/step - loss: 0.1659 - accuracy: 0.9570\n",
            "Epoch 5/50\n",
            "3500/3500 [==============================] - 9s 3ms/step - loss: 0.1543 - accuracy: 0.9604\n",
            "Epoch 6/50\n",
            "3500/3500 [==============================] - 9s 3ms/step - loss: 0.1432 - accuracy: 0.9648\n",
            "Epoch 7/50\n",
            "3500/3500 [==============================] - 10s 3ms/step - loss: 0.1305 - accuracy: 0.9651\n",
            "Epoch 8/50\n",
            "3500/3500 [==============================] - 9s 3ms/step - loss: 0.1265 - accuracy: 0.9681\n",
            "Epoch 9/50\n",
            "3500/3500 [==============================] - 9s 3ms/step - loss: 0.1188 - accuracy: 0.9704\n",
            "Epoch 10/50\n",
            "3500/3500 [==============================] - 9s 3ms/step - loss: 0.1138 - accuracy: 0.9701\n",
            "Epoch 11/50\n",
            "3500/3500 [==============================] - 9s 3ms/step - loss: 0.1068 - accuracy: 0.9728\n",
            "Epoch 12/50\n",
            "3500/3500 [==============================] - 9s 3ms/step - loss: 0.1002 - accuracy: 0.9740\n",
            "Epoch 13/50\n",
            "3500/3500 [==============================] - 9s 3ms/step - loss: 0.0995 - accuracy: 0.9741\n",
            "Epoch 14/50\n",
            "3500/3500 [==============================] - 9s 3ms/step - loss: 0.0928 - accuracy: 0.9756\n",
            "Epoch 15/50\n",
            "3500/3500 [==============================] - 9s 3ms/step - loss: 0.0879 - accuracy: 0.9778\n",
            "Epoch 16/50\n",
            "3500/3500 [==============================] - 9s 3ms/step - loss: 0.0857 - accuracy: 0.9767\n",
            "Epoch 17/50\n",
            "3500/3500 [==============================] - 9s 3ms/step - loss: 0.0832 - accuracy: 0.9777\n",
            "Epoch 18/50\n",
            "3500/3500 [==============================] - 9s 3ms/step - loss: 0.0781 - accuracy: 0.9781\n",
            "Epoch 19/50\n",
            "3500/3500 [==============================] - 9s 3ms/step - loss: 0.0763 - accuracy: 0.9794\n",
            "Epoch 20/50\n",
            "3500/3500 [==============================] - 9s 3ms/step - loss: 0.0718 - accuracy: 0.9802\n",
            "Epoch 21/50\n",
            "3500/3500 [==============================] - 9s 3ms/step - loss: 0.0698 - accuracy: 0.9804\n",
            "Epoch 22/50\n",
            "3500/3500 [==============================] - 9s 3ms/step - loss: 0.0669 - accuracy: 0.9802\n",
            "Epoch 23/50\n",
            "3500/3500 [==============================] - 9s 3ms/step - loss: 0.0625 - accuracy: 0.9825\n",
            "Epoch 24/50\n",
            "3500/3500 [==============================] - 9s 3ms/step - loss: 0.0604 - accuracy: 0.9826\n",
            "Epoch 25/50\n",
            "3500/3500 [==============================] - 9s 3ms/step - loss: 0.0593 - accuracy: 0.9821\n",
            "Epoch 26/50\n",
            "3500/3500 [==============================] - 9s 3ms/step - loss: 0.0542 - accuracy: 0.9836\n",
            "Epoch 27/50\n",
            "3500/3500 [==============================] - 9s 3ms/step - loss: 0.0507 - accuracy: 0.9851\n",
            "Epoch 28/50\n",
            "3500/3500 [==============================] - 9s 3ms/step - loss: 0.0539 - accuracy: 0.9839\n",
            "Epoch 29/50\n",
            "3500/3500 [==============================] - 9s 3ms/step - loss: 0.0464 - accuracy: 0.9849\n",
            "Epoch 30/50\n",
            "3500/3500 [==============================] - 9s 3ms/step - loss: 0.0518 - accuracy: 0.9829\n",
            "Epoch 31/50\n",
            "3500/3500 [==============================] - 9s 3ms/step - loss: 0.0427 - accuracy: 0.9864\n",
            "Epoch 32/50\n",
            "3500/3500 [==============================] - 9s 3ms/step - loss: 0.0424 - accuracy: 0.9861\n",
            "Epoch 33/50\n",
            "3500/3500 [==============================] - 9s 3ms/step - loss: 0.0437 - accuracy: 0.9856\n",
            "Epoch 34/50\n",
            "3500/3500 [==============================] - 11s 3ms/step - loss: 0.0405 - accuracy: 0.9871\n",
            "Epoch 35/50\n",
            "3500/3500 [==============================] - 9s 3ms/step - loss: 0.0447 - accuracy: 0.9861\n",
            "Epoch 36/50\n",
            "3500/3500 [==============================] - 9s 3ms/step - loss: 0.0413 - accuracy: 0.9874\n",
            "Epoch 37/50\n",
            "3500/3500 [==============================] - 9s 3ms/step - loss: 0.0352 - accuracy: 0.9886\n",
            "Epoch 38/50\n",
            "3500/3500 [==============================] - 9s 3ms/step - loss: 0.0359 - accuracy: 0.9890\n",
            "Epoch 39/50\n",
            "3500/3500 [==============================] - 10s 3ms/step - loss: 0.0355 - accuracy: 0.9888\n",
            "Epoch 40/50\n",
            "3500/3500 [==============================] - 10s 3ms/step - loss: 0.0361 - accuracy: 0.9886\n",
            "Epoch 41/50\n",
            "3500/3500 [==============================] - 9s 3ms/step - loss: 0.0374 - accuracy: 0.9892\n",
            "Epoch 42/50\n",
            "3500/3500 [==============================] - 9s 3ms/step - loss: 0.0308 - accuracy: 0.9910\n",
            "Epoch 43/50\n",
            "3500/3500 [==============================] - 9s 3ms/step - loss: 0.0334 - accuracy: 0.9886\n",
            "Epoch 44/50\n",
            "3500/3500 [==============================] - 9s 3ms/step - loss: 0.0342 - accuracy: 0.9891\n",
            "Epoch 45/50\n",
            "3500/3500 [==============================] - 9s 3ms/step - loss: 0.0262 - accuracy: 0.9909\n",
            "Epoch 46/50\n",
            "3500/3500 [==============================] - 9s 3ms/step - loss: 0.0312 - accuracy: 0.9890\n",
            "Epoch 47/50\n",
            "3500/3500 [==============================] - 9s 3ms/step - loss: 0.0325 - accuracy: 0.9897\n",
            "Epoch 48/50\n",
            "3500/3500 [==============================] - 9s 3ms/step - loss: 0.0278 - accuracy: 0.9906\n",
            "Epoch 49/50\n",
            "3500/3500 [==============================] - 9s 3ms/step - loss: 0.0278 - accuracy: 0.9915\n",
            "Epoch 50/50\n",
            "3500/3500 [==============================] - 9s 3ms/step - loss: 0.0281 - accuracy: 0.9906\n",
            "1500/1500 [==============================] - 2s 1ms/step\n",
            "Exactitud: 95.0%\n"
          ],
          "name": "stdout"
        }
      ]
    },
    {
      "cell_type": "code",
      "metadata": {
        "id": "Yau9JZalt4Q5",
        "colab_type": "code",
        "colab": {}
      },
      "source": [
        "#models\n",
        "from sklearn.model_selection import GridSearchCV\n",
        "##cnn##"
      ],
      "execution_count": null,
      "outputs": []
    },
    {
      "cell_type": "code",
      "metadata": {
        "id": "17GZgcDRt4Q-",
        "colab_type": "code",
        "colab": {
          "base_uri": "https://localhost:8080/",
          "height": 34
        },
        "outputId": "0fbd6330-de27-4e26-c91c-8b7c3395a46e"
      },
      "source": [
        "# Voting Classifier\n",
        "\n",
        "Voting_ens = VotingClassifier(estimators=[('log', logreg_CV), ('mlp', mlp_GS ), ('svc', linear_svc_CV)])\n",
        "Voting_ens.fit(X_train, y_train)\n",
        "predict = Voting_ens.predict(X_test)\n",
        "\n",
        "\n",
        "print(\"Exactitud: {}%\".format(100*round(accuracy_score(y_test, predict), 2)))"
      ],
      "execution_count": null,
      "outputs": [
        {
          "output_type": "stream",
          "text": [
            "Exactitud: 71.0%\n"
          ],
          "name": "stdout"
        }
      ]
    },
    {
      "cell_type": "code",
      "metadata": {
        "id": "xg-l_g2-t4RB",
        "colab_type": "code",
        "colab": {
          "base_uri": "https://localhost:8080/",
          "height": 374
        },
        "outputId": "bd6bfb32-a564-40d2-e526-9795ee2abb9b"
      },
      "source": [
        "# Gaussian Process Classification\n",
        "\n",
        "gpc = GaussianProcessClassifier()\n",
        "param_grid = {'max_iter_predict': [70, 80, 90],\n",
        "              'warm_start': [False],\n",
        "              'n_restarts_optimizer': range(2,4)}\n",
        "gpc_CV = GridSearchCV(estimator=gpc, param_grid=param_grid, cv=cv_train, verbose=False).fit(X_train,y_train)\n",
        "predict = gpc_CV.predict(X_test)\n",
        "\n",
        "\n",
        "print(gpc_CV.best_params_)\n",
        "print(\"Exactitud: {}%\".format(100*round(accuracy_score(y_test, predict), 2)))"
      ],
      "execution_count": null,
      "outputs": [
        {
          "output_type": "error",
          "ename": "KeyboardInterrupt",
          "evalue": "ignored",
          "traceback": [
            "\u001b[0;31m---------------------------------------------------------------------------\u001b[0m",
            "\u001b[0;31mKeyboardInterrupt\u001b[0m                         Traceback (most recent call last)",
            "\u001b[0;32m<ipython-input-48-af0f6bcc20b2>\u001b[0m in \u001b[0;36m<module>\u001b[0;34m()\u001b[0m\n\u001b[1;32m      5\u001b[0m               \u001b[0;34m'warm_start'\u001b[0m\u001b[0;34m:\u001b[0m \u001b[0;34m[\u001b[0m\u001b[0;32mFalse\u001b[0m\u001b[0;34m]\u001b[0m\u001b[0;34m,\u001b[0m\u001b[0;34m\u001b[0m\u001b[0;34m\u001b[0m\u001b[0m\n\u001b[1;32m      6\u001b[0m               'n_restarts_optimizer': range(2,4)}\n\u001b[0;32m----> 7\u001b[0;31m \u001b[0mgpc_CV\u001b[0m \u001b[0;34m=\u001b[0m \u001b[0mGridSearchCV\u001b[0m\u001b[0;34m(\u001b[0m\u001b[0mestimator\u001b[0m\u001b[0;34m=\u001b[0m\u001b[0mgpc\u001b[0m\u001b[0;34m,\u001b[0m \u001b[0mparam_grid\u001b[0m\u001b[0;34m=\u001b[0m\u001b[0mparam_grid\u001b[0m\u001b[0;34m,\u001b[0m \u001b[0mcv\u001b[0m\u001b[0;34m=\u001b[0m\u001b[0mcv_train\u001b[0m\u001b[0;34m,\u001b[0m \u001b[0mverbose\u001b[0m\u001b[0;34m=\u001b[0m\u001b[0;32mFalse\u001b[0m\u001b[0;34m)\u001b[0m\u001b[0;34m.\u001b[0m\u001b[0mfit\u001b[0m\u001b[0;34m(\u001b[0m\u001b[0mX_train\u001b[0m\u001b[0;34m,\u001b[0m\u001b[0my_train\u001b[0m\u001b[0;34m)\u001b[0m\u001b[0;34m\u001b[0m\u001b[0;34m\u001b[0m\u001b[0m\n\u001b[0m\u001b[1;32m      8\u001b[0m \u001b[0mpredict\u001b[0m \u001b[0;34m=\u001b[0m \u001b[0mgpc_CV\u001b[0m\u001b[0;34m.\u001b[0m\u001b[0mpredict\u001b[0m\u001b[0;34m(\u001b[0m\u001b[0mX_test\u001b[0m\u001b[0;34m)\u001b[0m\u001b[0;34m\u001b[0m\u001b[0;34m\u001b[0m\u001b[0m\n\u001b[1;32m      9\u001b[0m \u001b[0;34m\u001b[0m\u001b[0m\n",
            "\u001b[0;32m/usr/local/lib/python3.6/dist-packages/sklearn/utils/validation.py\u001b[0m in \u001b[0;36minner_f\u001b[0;34m(*args, **kwargs)\u001b[0m\n\u001b[1;32m     71\u001b[0m                           FutureWarning)\n\u001b[1;32m     72\u001b[0m         \u001b[0mkwargs\u001b[0m\u001b[0;34m.\u001b[0m\u001b[0mupdate\u001b[0m\u001b[0;34m(\u001b[0m\u001b[0;34m{\u001b[0m\u001b[0mk\u001b[0m\u001b[0;34m:\u001b[0m \u001b[0marg\u001b[0m \u001b[0;32mfor\u001b[0m \u001b[0mk\u001b[0m\u001b[0;34m,\u001b[0m \u001b[0marg\u001b[0m \u001b[0;32min\u001b[0m \u001b[0mzip\u001b[0m\u001b[0;34m(\u001b[0m\u001b[0msig\u001b[0m\u001b[0;34m.\u001b[0m\u001b[0mparameters\u001b[0m\u001b[0;34m,\u001b[0m \u001b[0margs\u001b[0m\u001b[0;34m)\u001b[0m\u001b[0;34m}\u001b[0m\u001b[0;34m)\u001b[0m\u001b[0;34m\u001b[0m\u001b[0;34m\u001b[0m\u001b[0m\n\u001b[0;32m---> 73\u001b[0;31m         \u001b[0;32mreturn\u001b[0m \u001b[0mf\u001b[0m\u001b[0;34m(\u001b[0m\u001b[0;34m**\u001b[0m\u001b[0mkwargs\u001b[0m\u001b[0;34m)\u001b[0m\u001b[0;34m\u001b[0m\u001b[0;34m\u001b[0m\u001b[0m\n\u001b[0m\u001b[1;32m     74\u001b[0m     \u001b[0;32mreturn\u001b[0m \u001b[0minner_f\u001b[0m\u001b[0;34m\u001b[0m\u001b[0;34m\u001b[0m\u001b[0m\n\u001b[1;32m     75\u001b[0m \u001b[0;34m\u001b[0m\u001b[0m\n",
            "\u001b[0;32m/usr/local/lib/python3.6/dist-packages/sklearn/model_selection/_search.py\u001b[0m in \u001b[0;36mfit\u001b[0;34m(self, X, y, groups, **fit_params)\u001b[0m\n\u001b[1;32m    734\u001b[0m                 \u001b[0;32mreturn\u001b[0m \u001b[0mresults\u001b[0m\u001b[0;34m\u001b[0m\u001b[0;34m\u001b[0m\u001b[0m\n\u001b[1;32m    735\u001b[0m \u001b[0;34m\u001b[0m\u001b[0m\n\u001b[0;32m--> 736\u001b[0;31m             \u001b[0mself\u001b[0m\u001b[0;34m.\u001b[0m\u001b[0m_run_search\u001b[0m\u001b[0;34m(\u001b[0m\u001b[0mevaluate_candidates\u001b[0m\u001b[0;34m)\u001b[0m\u001b[0;34m\u001b[0m\u001b[0;34m\u001b[0m\u001b[0m\n\u001b[0m\u001b[1;32m    737\u001b[0m \u001b[0;34m\u001b[0m\u001b[0m\n\u001b[1;32m    738\u001b[0m         \u001b[0;31m# For multi-metric evaluation, store the best_index_, best_params_ and\u001b[0m\u001b[0;34m\u001b[0m\u001b[0;34m\u001b[0m\u001b[0;34m\u001b[0m\u001b[0m\n",
            "\u001b[0;32m/usr/local/lib/python3.6/dist-packages/sklearn/model_selection/_search.py\u001b[0m in \u001b[0;36m_run_search\u001b[0;34m(self, evaluate_candidates)\u001b[0m\n\u001b[1;32m   1186\u001b[0m     \u001b[0;32mdef\u001b[0m \u001b[0m_run_search\u001b[0m\u001b[0;34m(\u001b[0m\u001b[0mself\u001b[0m\u001b[0;34m,\u001b[0m \u001b[0mevaluate_candidates\u001b[0m\u001b[0;34m)\u001b[0m\u001b[0;34m:\u001b[0m\u001b[0;34m\u001b[0m\u001b[0;34m\u001b[0m\u001b[0m\n\u001b[1;32m   1187\u001b[0m         \u001b[0;34m\"\"\"Search all candidates in param_grid\"\"\"\u001b[0m\u001b[0;34m\u001b[0m\u001b[0;34m\u001b[0m\u001b[0m\n\u001b[0;32m-> 1188\u001b[0;31m         \u001b[0mevaluate_candidates\u001b[0m\u001b[0;34m(\u001b[0m\u001b[0mParameterGrid\u001b[0m\u001b[0;34m(\u001b[0m\u001b[0mself\u001b[0m\u001b[0;34m.\u001b[0m\u001b[0mparam_grid\u001b[0m\u001b[0;34m)\u001b[0m\u001b[0;34m)\u001b[0m\u001b[0;34m\u001b[0m\u001b[0;34m\u001b[0m\u001b[0m\n\u001b[0m\u001b[1;32m   1189\u001b[0m \u001b[0;34m\u001b[0m\u001b[0m\n\u001b[1;32m   1190\u001b[0m \u001b[0;34m\u001b[0m\u001b[0m\n",
            "\u001b[0;32m/usr/local/lib/python3.6/dist-packages/sklearn/model_selection/_search.py\u001b[0m in \u001b[0;36mevaluate_candidates\u001b[0;34m(candidate_params)\u001b[0m\n\u001b[1;32m    713\u001b[0m                                \u001b[0;32mfor\u001b[0m \u001b[0mparameters\u001b[0m\u001b[0;34m,\u001b[0m \u001b[0;34m(\u001b[0m\u001b[0mtrain\u001b[0m\u001b[0;34m,\u001b[0m \u001b[0mtest\u001b[0m\u001b[0;34m)\u001b[0m\u001b[0;34m\u001b[0m\u001b[0;34m\u001b[0m\u001b[0m\n\u001b[1;32m    714\u001b[0m                                in product(candidate_params,\n\u001b[0;32m--> 715\u001b[0;31m                                           cv.split(X, y, groups)))\n\u001b[0m\u001b[1;32m    716\u001b[0m \u001b[0;34m\u001b[0m\u001b[0m\n\u001b[1;32m    717\u001b[0m                 \u001b[0;32mif\u001b[0m \u001b[0mlen\u001b[0m\u001b[0;34m(\u001b[0m\u001b[0mout\u001b[0m\u001b[0;34m)\u001b[0m \u001b[0;34m<\u001b[0m \u001b[0;36m1\u001b[0m\u001b[0;34m:\u001b[0m\u001b[0;34m\u001b[0m\u001b[0;34m\u001b[0m\u001b[0m\n",
            "\u001b[0;32m/usr/local/lib/python3.6/dist-packages/joblib/parallel.py\u001b[0m in \u001b[0;36m__call__\u001b[0;34m(self, iterable)\u001b[0m\n\u001b[1;32m   1027\u001b[0m             \u001b[0;31m# remaining jobs.\u001b[0m\u001b[0;34m\u001b[0m\u001b[0;34m\u001b[0m\u001b[0;34m\u001b[0m\u001b[0m\n\u001b[1;32m   1028\u001b[0m             \u001b[0mself\u001b[0m\u001b[0;34m.\u001b[0m\u001b[0m_iterating\u001b[0m \u001b[0;34m=\u001b[0m \u001b[0;32mFalse\u001b[0m\u001b[0;34m\u001b[0m\u001b[0;34m\u001b[0m\u001b[0m\n\u001b[0;32m-> 1029\u001b[0;31m             \u001b[0;32mif\u001b[0m \u001b[0mself\u001b[0m\u001b[0;34m.\u001b[0m\u001b[0mdispatch_one_batch\u001b[0m\u001b[0;34m(\u001b[0m\u001b[0miterator\u001b[0m\u001b[0;34m)\u001b[0m\u001b[0;34m:\u001b[0m\u001b[0;34m\u001b[0m\u001b[0;34m\u001b[0m\u001b[0m\n\u001b[0m\u001b[1;32m   1030\u001b[0m                 \u001b[0mself\u001b[0m\u001b[0;34m.\u001b[0m\u001b[0m_iterating\u001b[0m \u001b[0;34m=\u001b[0m \u001b[0mself\u001b[0m\u001b[0;34m.\u001b[0m\u001b[0m_original_iterator\u001b[0m \u001b[0;32mis\u001b[0m \u001b[0;32mnot\u001b[0m \u001b[0;32mNone\u001b[0m\u001b[0;34m\u001b[0m\u001b[0;34m\u001b[0m\u001b[0m\n\u001b[1;32m   1031\u001b[0m \u001b[0;34m\u001b[0m\u001b[0m\n",
            "\u001b[0;32m/usr/local/lib/python3.6/dist-packages/joblib/parallel.py\u001b[0m in \u001b[0;36mdispatch_one_batch\u001b[0;34m(self, iterator)\u001b[0m\n\u001b[1;32m    845\u001b[0m                 \u001b[0;32mreturn\u001b[0m \u001b[0;32mFalse\u001b[0m\u001b[0;34m\u001b[0m\u001b[0;34m\u001b[0m\u001b[0m\n\u001b[1;32m    846\u001b[0m             \u001b[0;32melse\u001b[0m\u001b[0;34m:\u001b[0m\u001b[0;34m\u001b[0m\u001b[0;34m\u001b[0m\u001b[0m\n\u001b[0;32m--> 847\u001b[0;31m                 \u001b[0mself\u001b[0m\u001b[0;34m.\u001b[0m\u001b[0m_dispatch\u001b[0m\u001b[0;34m(\u001b[0m\u001b[0mtasks\u001b[0m\u001b[0;34m)\u001b[0m\u001b[0;34m\u001b[0m\u001b[0;34m\u001b[0m\u001b[0m\n\u001b[0m\u001b[1;32m    848\u001b[0m                 \u001b[0;32mreturn\u001b[0m \u001b[0;32mTrue\u001b[0m\u001b[0;34m\u001b[0m\u001b[0;34m\u001b[0m\u001b[0m\n\u001b[1;32m    849\u001b[0m \u001b[0;34m\u001b[0m\u001b[0m\n",
            "\u001b[0;32m/usr/local/lib/python3.6/dist-packages/joblib/parallel.py\u001b[0m in \u001b[0;36m_dispatch\u001b[0;34m(self, batch)\u001b[0m\n\u001b[1;32m    763\u001b[0m         \u001b[0;32mwith\u001b[0m \u001b[0mself\u001b[0m\u001b[0;34m.\u001b[0m\u001b[0m_lock\u001b[0m\u001b[0;34m:\u001b[0m\u001b[0;34m\u001b[0m\u001b[0;34m\u001b[0m\u001b[0m\n\u001b[1;32m    764\u001b[0m             \u001b[0mjob_idx\u001b[0m \u001b[0;34m=\u001b[0m \u001b[0mlen\u001b[0m\u001b[0;34m(\u001b[0m\u001b[0mself\u001b[0m\u001b[0;34m.\u001b[0m\u001b[0m_jobs\u001b[0m\u001b[0;34m)\u001b[0m\u001b[0;34m\u001b[0m\u001b[0;34m\u001b[0m\u001b[0m\n\u001b[0;32m--> 765\u001b[0;31m             \u001b[0mjob\u001b[0m \u001b[0;34m=\u001b[0m \u001b[0mself\u001b[0m\u001b[0;34m.\u001b[0m\u001b[0m_backend\u001b[0m\u001b[0;34m.\u001b[0m\u001b[0mapply_async\u001b[0m\u001b[0;34m(\u001b[0m\u001b[0mbatch\u001b[0m\u001b[0;34m,\u001b[0m \u001b[0mcallback\u001b[0m\u001b[0;34m=\u001b[0m\u001b[0mcb\u001b[0m\u001b[0;34m)\u001b[0m\u001b[0;34m\u001b[0m\u001b[0;34m\u001b[0m\u001b[0m\n\u001b[0m\u001b[1;32m    766\u001b[0m             \u001b[0;31m# A job can complete so quickly than its callback is\u001b[0m\u001b[0;34m\u001b[0m\u001b[0;34m\u001b[0m\u001b[0;34m\u001b[0m\u001b[0m\n\u001b[1;32m    767\u001b[0m             \u001b[0;31m# called before we get here, causing self._jobs to\u001b[0m\u001b[0;34m\u001b[0m\u001b[0;34m\u001b[0m\u001b[0;34m\u001b[0m\u001b[0m\n",
            "\u001b[0;32m/usr/local/lib/python3.6/dist-packages/joblib/_parallel_backends.py\u001b[0m in \u001b[0;36mapply_async\u001b[0;34m(self, func, callback)\u001b[0m\n\u001b[1;32m    206\u001b[0m     \u001b[0;32mdef\u001b[0m \u001b[0mapply_async\u001b[0m\u001b[0;34m(\u001b[0m\u001b[0mself\u001b[0m\u001b[0;34m,\u001b[0m \u001b[0mfunc\u001b[0m\u001b[0;34m,\u001b[0m \u001b[0mcallback\u001b[0m\u001b[0;34m=\u001b[0m\u001b[0;32mNone\u001b[0m\u001b[0;34m)\u001b[0m\u001b[0;34m:\u001b[0m\u001b[0;34m\u001b[0m\u001b[0;34m\u001b[0m\u001b[0m\n\u001b[1;32m    207\u001b[0m         \u001b[0;34m\"\"\"Schedule a func to be run\"\"\"\u001b[0m\u001b[0;34m\u001b[0m\u001b[0;34m\u001b[0m\u001b[0m\n\u001b[0;32m--> 208\u001b[0;31m         \u001b[0mresult\u001b[0m \u001b[0;34m=\u001b[0m \u001b[0mImmediateResult\u001b[0m\u001b[0;34m(\u001b[0m\u001b[0mfunc\u001b[0m\u001b[0;34m)\u001b[0m\u001b[0;34m\u001b[0m\u001b[0;34m\u001b[0m\u001b[0m\n\u001b[0m\u001b[1;32m    209\u001b[0m         \u001b[0;32mif\u001b[0m \u001b[0mcallback\u001b[0m\u001b[0;34m:\u001b[0m\u001b[0;34m\u001b[0m\u001b[0;34m\u001b[0m\u001b[0m\n\u001b[1;32m    210\u001b[0m             \u001b[0mcallback\u001b[0m\u001b[0;34m(\u001b[0m\u001b[0mresult\u001b[0m\u001b[0;34m)\u001b[0m\u001b[0;34m\u001b[0m\u001b[0;34m\u001b[0m\u001b[0m\n",
            "\u001b[0;32m/usr/local/lib/python3.6/dist-packages/joblib/_parallel_backends.py\u001b[0m in \u001b[0;36m__init__\u001b[0;34m(self, batch)\u001b[0m\n\u001b[1;32m    570\u001b[0m         \u001b[0;31m# Don't delay the application, to avoid keeping the input\u001b[0m\u001b[0;34m\u001b[0m\u001b[0;34m\u001b[0m\u001b[0;34m\u001b[0m\u001b[0m\n\u001b[1;32m    571\u001b[0m         \u001b[0;31m# arguments in memory\u001b[0m\u001b[0;34m\u001b[0m\u001b[0;34m\u001b[0m\u001b[0;34m\u001b[0m\u001b[0m\n\u001b[0;32m--> 572\u001b[0;31m         \u001b[0mself\u001b[0m\u001b[0;34m.\u001b[0m\u001b[0mresults\u001b[0m \u001b[0;34m=\u001b[0m \u001b[0mbatch\u001b[0m\u001b[0;34m(\u001b[0m\u001b[0;34m)\u001b[0m\u001b[0;34m\u001b[0m\u001b[0;34m\u001b[0m\u001b[0m\n\u001b[0m\u001b[1;32m    573\u001b[0m \u001b[0;34m\u001b[0m\u001b[0m\n\u001b[1;32m    574\u001b[0m     \u001b[0;32mdef\u001b[0m \u001b[0mget\u001b[0m\u001b[0;34m(\u001b[0m\u001b[0mself\u001b[0m\u001b[0;34m)\u001b[0m\u001b[0;34m:\u001b[0m\u001b[0;34m\u001b[0m\u001b[0;34m\u001b[0m\u001b[0m\n",
            "\u001b[0;32m/usr/local/lib/python3.6/dist-packages/joblib/parallel.py\u001b[0m in \u001b[0;36m__call__\u001b[0;34m(self)\u001b[0m\n\u001b[1;32m    251\u001b[0m         \u001b[0;32mwith\u001b[0m \u001b[0mparallel_backend\u001b[0m\u001b[0;34m(\u001b[0m\u001b[0mself\u001b[0m\u001b[0;34m.\u001b[0m\u001b[0m_backend\u001b[0m\u001b[0;34m,\u001b[0m \u001b[0mn_jobs\u001b[0m\u001b[0;34m=\u001b[0m\u001b[0mself\u001b[0m\u001b[0;34m.\u001b[0m\u001b[0m_n_jobs\u001b[0m\u001b[0;34m)\u001b[0m\u001b[0;34m:\u001b[0m\u001b[0;34m\u001b[0m\u001b[0;34m\u001b[0m\u001b[0m\n\u001b[1;32m    252\u001b[0m             return [func(*args, **kwargs)\n\u001b[0;32m--> 253\u001b[0;31m                     for func, args, kwargs in self.items]\n\u001b[0m\u001b[1;32m    254\u001b[0m \u001b[0;34m\u001b[0m\u001b[0m\n\u001b[1;32m    255\u001b[0m     \u001b[0;32mdef\u001b[0m \u001b[0m__reduce__\u001b[0m\u001b[0;34m(\u001b[0m\u001b[0mself\u001b[0m\u001b[0;34m)\u001b[0m\u001b[0;34m:\u001b[0m\u001b[0;34m\u001b[0m\u001b[0;34m\u001b[0m\u001b[0m\n",
            "\u001b[0;32m/usr/local/lib/python3.6/dist-packages/joblib/parallel.py\u001b[0m in \u001b[0;36m<listcomp>\u001b[0;34m(.0)\u001b[0m\n\u001b[1;32m    251\u001b[0m         \u001b[0;32mwith\u001b[0m \u001b[0mparallel_backend\u001b[0m\u001b[0;34m(\u001b[0m\u001b[0mself\u001b[0m\u001b[0;34m.\u001b[0m\u001b[0m_backend\u001b[0m\u001b[0;34m,\u001b[0m \u001b[0mn_jobs\u001b[0m\u001b[0;34m=\u001b[0m\u001b[0mself\u001b[0m\u001b[0;34m.\u001b[0m\u001b[0m_n_jobs\u001b[0m\u001b[0;34m)\u001b[0m\u001b[0;34m:\u001b[0m\u001b[0;34m\u001b[0m\u001b[0;34m\u001b[0m\u001b[0m\n\u001b[1;32m    252\u001b[0m             return [func(*args, **kwargs)\n\u001b[0;32m--> 253\u001b[0;31m                     for func, args, kwargs in self.items]\n\u001b[0m\u001b[1;32m    254\u001b[0m \u001b[0;34m\u001b[0m\u001b[0m\n\u001b[1;32m    255\u001b[0m     \u001b[0;32mdef\u001b[0m \u001b[0m__reduce__\u001b[0m\u001b[0;34m(\u001b[0m\u001b[0mself\u001b[0m\u001b[0;34m)\u001b[0m\u001b[0;34m:\u001b[0m\u001b[0;34m\u001b[0m\u001b[0;34m\u001b[0m\u001b[0m\n",
            "\u001b[0;32m/usr/local/lib/python3.6/dist-packages/sklearn/model_selection/_validation.py\u001b[0m in \u001b[0;36m_fit_and_score\u001b[0;34m(estimator, X, y, scorer, train, test, verbose, parameters, fit_params, return_train_score, return_parameters, return_n_test_samples, return_times, return_estimator, error_score)\u001b[0m\n\u001b[1;32m    529\u001b[0m             \u001b[0mestimator\u001b[0m\u001b[0;34m.\u001b[0m\u001b[0mfit\u001b[0m\u001b[0;34m(\u001b[0m\u001b[0mX_train\u001b[0m\u001b[0;34m,\u001b[0m \u001b[0;34m**\u001b[0m\u001b[0mfit_params\u001b[0m\u001b[0;34m)\u001b[0m\u001b[0;34m\u001b[0m\u001b[0;34m\u001b[0m\u001b[0m\n\u001b[1;32m    530\u001b[0m         \u001b[0;32melse\u001b[0m\u001b[0;34m:\u001b[0m\u001b[0;34m\u001b[0m\u001b[0;34m\u001b[0m\u001b[0m\n\u001b[0;32m--> 531\u001b[0;31m             \u001b[0mestimator\u001b[0m\u001b[0;34m.\u001b[0m\u001b[0mfit\u001b[0m\u001b[0;34m(\u001b[0m\u001b[0mX_train\u001b[0m\u001b[0;34m,\u001b[0m \u001b[0my_train\u001b[0m\u001b[0;34m,\u001b[0m \u001b[0;34m**\u001b[0m\u001b[0mfit_params\u001b[0m\u001b[0;34m)\u001b[0m\u001b[0;34m\u001b[0m\u001b[0;34m\u001b[0m\u001b[0m\n\u001b[0m\u001b[1;32m    532\u001b[0m \u001b[0;34m\u001b[0m\u001b[0m\n\u001b[1;32m    533\u001b[0m     \u001b[0;32mexcept\u001b[0m \u001b[0mException\u001b[0m \u001b[0;32mas\u001b[0m \u001b[0me\u001b[0m\u001b[0;34m:\u001b[0m\u001b[0;34m\u001b[0m\u001b[0;34m\u001b[0m\u001b[0m\n",
            "\u001b[0;32m/usr/local/lib/python3.6/dist-packages/sklearn/gaussian_process/_gpc.py\u001b[0m in \u001b[0;36mfit\u001b[0;34m(self, X, y)\u001b[0m\n\u001b[1;32m    655\u001b[0m                                  % self.multi_class)\n\u001b[1;32m    656\u001b[0m \u001b[0;34m\u001b[0m\u001b[0m\n\u001b[0;32m--> 657\u001b[0;31m         \u001b[0mself\u001b[0m\u001b[0;34m.\u001b[0m\u001b[0mbase_estimator_\u001b[0m\u001b[0;34m.\u001b[0m\u001b[0mfit\u001b[0m\u001b[0;34m(\u001b[0m\u001b[0mX\u001b[0m\u001b[0;34m,\u001b[0m \u001b[0my\u001b[0m\u001b[0;34m)\u001b[0m\u001b[0;34m\u001b[0m\u001b[0;34m\u001b[0m\u001b[0m\n\u001b[0m\u001b[1;32m    658\u001b[0m \u001b[0;34m\u001b[0m\u001b[0m\n\u001b[1;32m    659\u001b[0m         \u001b[0;32mif\u001b[0m \u001b[0mself\u001b[0m\u001b[0;34m.\u001b[0m\u001b[0mn_classes_\u001b[0m \u001b[0;34m>\u001b[0m \u001b[0;36m2\u001b[0m\u001b[0;34m:\u001b[0m\u001b[0;34m\u001b[0m\u001b[0;34m\u001b[0m\u001b[0m\n",
            "\u001b[0;32m/usr/local/lib/python3.6/dist-packages/sklearn/multiclass.py\u001b[0m in \u001b[0;36mfit\u001b[0;34m(self, X, y)\u001b[0m\n\u001b[1;32m    243\u001b[0m                 \u001b[0;34m\"not %s\"\u001b[0m \u001b[0;34m%\u001b[0m \u001b[0mself\u001b[0m\u001b[0;34m.\u001b[0m\u001b[0mlabel_binarizer_\u001b[0m\u001b[0;34m.\u001b[0m\u001b[0mclasses_\u001b[0m\u001b[0;34m[\u001b[0m\u001b[0mi\u001b[0m\u001b[0;34m]\u001b[0m\u001b[0;34m,\u001b[0m\u001b[0;34m\u001b[0m\u001b[0;34m\u001b[0m\u001b[0m\n\u001b[1;32m    244\u001b[0m                 self.label_binarizer_.classes_[i]])\n\u001b[0;32m--> 245\u001b[0;31m             for i, column in enumerate(columns))\n\u001b[0m\u001b[1;32m    246\u001b[0m \u001b[0;34m\u001b[0m\u001b[0m\n\u001b[1;32m    247\u001b[0m         \u001b[0;32mreturn\u001b[0m \u001b[0mself\u001b[0m\u001b[0;34m\u001b[0m\u001b[0;34m\u001b[0m\u001b[0m\n",
            "\u001b[0;32m/usr/local/lib/python3.6/dist-packages/joblib/parallel.py\u001b[0m in \u001b[0;36m__call__\u001b[0;34m(self, iterable)\u001b[0m\n\u001b[1;32m   1030\u001b[0m                 \u001b[0mself\u001b[0m\u001b[0;34m.\u001b[0m\u001b[0m_iterating\u001b[0m \u001b[0;34m=\u001b[0m \u001b[0mself\u001b[0m\u001b[0;34m.\u001b[0m\u001b[0m_original_iterator\u001b[0m \u001b[0;32mis\u001b[0m \u001b[0;32mnot\u001b[0m \u001b[0;32mNone\u001b[0m\u001b[0;34m\u001b[0m\u001b[0;34m\u001b[0m\u001b[0m\n\u001b[1;32m   1031\u001b[0m \u001b[0;34m\u001b[0m\u001b[0m\n\u001b[0;32m-> 1032\u001b[0;31m             \u001b[0;32mwhile\u001b[0m \u001b[0mself\u001b[0m\u001b[0;34m.\u001b[0m\u001b[0mdispatch_one_batch\u001b[0m\u001b[0;34m(\u001b[0m\u001b[0miterator\u001b[0m\u001b[0;34m)\u001b[0m\u001b[0;34m:\u001b[0m\u001b[0;34m\u001b[0m\u001b[0;34m\u001b[0m\u001b[0m\n\u001b[0m\u001b[1;32m   1033\u001b[0m                 \u001b[0;32mpass\u001b[0m\u001b[0;34m\u001b[0m\u001b[0;34m\u001b[0m\u001b[0m\n\u001b[1;32m   1034\u001b[0m \u001b[0;34m\u001b[0m\u001b[0m\n",
            "\u001b[0;32m/usr/local/lib/python3.6/dist-packages/joblib/parallel.py\u001b[0m in \u001b[0;36mdispatch_one_batch\u001b[0;34m(self, iterator)\u001b[0m\n\u001b[1;32m    845\u001b[0m                 \u001b[0;32mreturn\u001b[0m \u001b[0;32mFalse\u001b[0m\u001b[0;34m\u001b[0m\u001b[0;34m\u001b[0m\u001b[0m\n\u001b[1;32m    846\u001b[0m             \u001b[0;32melse\u001b[0m\u001b[0;34m:\u001b[0m\u001b[0;34m\u001b[0m\u001b[0;34m\u001b[0m\u001b[0m\n\u001b[0;32m--> 847\u001b[0;31m                 \u001b[0mself\u001b[0m\u001b[0;34m.\u001b[0m\u001b[0m_dispatch\u001b[0m\u001b[0;34m(\u001b[0m\u001b[0mtasks\u001b[0m\u001b[0;34m)\u001b[0m\u001b[0;34m\u001b[0m\u001b[0;34m\u001b[0m\u001b[0m\n\u001b[0m\u001b[1;32m    848\u001b[0m                 \u001b[0;32mreturn\u001b[0m \u001b[0;32mTrue\u001b[0m\u001b[0;34m\u001b[0m\u001b[0;34m\u001b[0m\u001b[0m\n\u001b[1;32m    849\u001b[0m \u001b[0;34m\u001b[0m\u001b[0m\n",
            "\u001b[0;32m/usr/local/lib/python3.6/dist-packages/joblib/parallel.py\u001b[0m in \u001b[0;36m_dispatch\u001b[0;34m(self, batch)\u001b[0m\n\u001b[1;32m    763\u001b[0m         \u001b[0;32mwith\u001b[0m \u001b[0mself\u001b[0m\u001b[0;34m.\u001b[0m\u001b[0m_lock\u001b[0m\u001b[0;34m:\u001b[0m\u001b[0;34m\u001b[0m\u001b[0;34m\u001b[0m\u001b[0m\n\u001b[1;32m    764\u001b[0m             \u001b[0mjob_idx\u001b[0m \u001b[0;34m=\u001b[0m \u001b[0mlen\u001b[0m\u001b[0;34m(\u001b[0m\u001b[0mself\u001b[0m\u001b[0;34m.\u001b[0m\u001b[0m_jobs\u001b[0m\u001b[0;34m)\u001b[0m\u001b[0;34m\u001b[0m\u001b[0;34m\u001b[0m\u001b[0m\n\u001b[0;32m--> 765\u001b[0;31m             \u001b[0mjob\u001b[0m \u001b[0;34m=\u001b[0m \u001b[0mself\u001b[0m\u001b[0;34m.\u001b[0m\u001b[0m_backend\u001b[0m\u001b[0;34m.\u001b[0m\u001b[0mapply_async\u001b[0m\u001b[0;34m(\u001b[0m\u001b[0mbatch\u001b[0m\u001b[0;34m,\u001b[0m \u001b[0mcallback\u001b[0m\u001b[0;34m=\u001b[0m\u001b[0mcb\u001b[0m\u001b[0;34m)\u001b[0m\u001b[0;34m\u001b[0m\u001b[0;34m\u001b[0m\u001b[0m\n\u001b[0m\u001b[1;32m    766\u001b[0m             \u001b[0;31m# A job can complete so quickly than its callback is\u001b[0m\u001b[0;34m\u001b[0m\u001b[0;34m\u001b[0m\u001b[0;34m\u001b[0m\u001b[0m\n\u001b[1;32m    767\u001b[0m             \u001b[0;31m# called before we get here, causing self._jobs to\u001b[0m\u001b[0;34m\u001b[0m\u001b[0;34m\u001b[0m\u001b[0;34m\u001b[0m\u001b[0m\n",
            "\u001b[0;32m/usr/local/lib/python3.6/dist-packages/joblib/_parallel_backends.py\u001b[0m in \u001b[0;36mapply_async\u001b[0;34m(self, func, callback)\u001b[0m\n\u001b[1;32m    206\u001b[0m     \u001b[0;32mdef\u001b[0m \u001b[0mapply_async\u001b[0m\u001b[0;34m(\u001b[0m\u001b[0mself\u001b[0m\u001b[0;34m,\u001b[0m \u001b[0mfunc\u001b[0m\u001b[0;34m,\u001b[0m \u001b[0mcallback\u001b[0m\u001b[0;34m=\u001b[0m\u001b[0;32mNone\u001b[0m\u001b[0;34m)\u001b[0m\u001b[0;34m:\u001b[0m\u001b[0;34m\u001b[0m\u001b[0;34m\u001b[0m\u001b[0m\n\u001b[1;32m    207\u001b[0m         \u001b[0;34m\"\"\"Schedule a func to be run\"\"\"\u001b[0m\u001b[0;34m\u001b[0m\u001b[0;34m\u001b[0m\u001b[0m\n\u001b[0;32m--> 208\u001b[0;31m         \u001b[0mresult\u001b[0m \u001b[0;34m=\u001b[0m \u001b[0mImmediateResult\u001b[0m\u001b[0;34m(\u001b[0m\u001b[0mfunc\u001b[0m\u001b[0;34m)\u001b[0m\u001b[0;34m\u001b[0m\u001b[0;34m\u001b[0m\u001b[0m\n\u001b[0m\u001b[1;32m    209\u001b[0m         \u001b[0;32mif\u001b[0m \u001b[0mcallback\u001b[0m\u001b[0;34m:\u001b[0m\u001b[0;34m\u001b[0m\u001b[0;34m\u001b[0m\u001b[0m\n\u001b[1;32m    210\u001b[0m             \u001b[0mcallback\u001b[0m\u001b[0;34m(\u001b[0m\u001b[0mresult\u001b[0m\u001b[0;34m)\u001b[0m\u001b[0;34m\u001b[0m\u001b[0;34m\u001b[0m\u001b[0m\n",
            "\u001b[0;32m/usr/local/lib/python3.6/dist-packages/joblib/_parallel_backends.py\u001b[0m in \u001b[0;36m__init__\u001b[0;34m(self, batch)\u001b[0m\n\u001b[1;32m    570\u001b[0m         \u001b[0;31m# Don't delay the application, to avoid keeping the input\u001b[0m\u001b[0;34m\u001b[0m\u001b[0;34m\u001b[0m\u001b[0;34m\u001b[0m\u001b[0m\n\u001b[1;32m    571\u001b[0m         \u001b[0;31m# arguments in memory\u001b[0m\u001b[0;34m\u001b[0m\u001b[0;34m\u001b[0m\u001b[0;34m\u001b[0m\u001b[0m\n\u001b[0;32m--> 572\u001b[0;31m         \u001b[0mself\u001b[0m\u001b[0;34m.\u001b[0m\u001b[0mresults\u001b[0m \u001b[0;34m=\u001b[0m \u001b[0mbatch\u001b[0m\u001b[0;34m(\u001b[0m\u001b[0;34m)\u001b[0m\u001b[0;34m\u001b[0m\u001b[0;34m\u001b[0m\u001b[0m\n\u001b[0m\u001b[1;32m    573\u001b[0m \u001b[0;34m\u001b[0m\u001b[0m\n\u001b[1;32m    574\u001b[0m     \u001b[0;32mdef\u001b[0m \u001b[0mget\u001b[0m\u001b[0;34m(\u001b[0m\u001b[0mself\u001b[0m\u001b[0;34m)\u001b[0m\u001b[0;34m:\u001b[0m\u001b[0;34m\u001b[0m\u001b[0;34m\u001b[0m\u001b[0m\n",
            "\u001b[0;32m/usr/local/lib/python3.6/dist-packages/joblib/parallel.py\u001b[0m in \u001b[0;36m__call__\u001b[0;34m(self)\u001b[0m\n\u001b[1;32m    251\u001b[0m         \u001b[0;32mwith\u001b[0m \u001b[0mparallel_backend\u001b[0m\u001b[0;34m(\u001b[0m\u001b[0mself\u001b[0m\u001b[0;34m.\u001b[0m\u001b[0m_backend\u001b[0m\u001b[0;34m,\u001b[0m \u001b[0mn_jobs\u001b[0m\u001b[0;34m=\u001b[0m\u001b[0mself\u001b[0m\u001b[0;34m.\u001b[0m\u001b[0m_n_jobs\u001b[0m\u001b[0;34m)\u001b[0m\u001b[0;34m:\u001b[0m\u001b[0;34m\u001b[0m\u001b[0;34m\u001b[0m\u001b[0m\n\u001b[1;32m    252\u001b[0m             return [func(*args, **kwargs)\n\u001b[0;32m--> 253\u001b[0;31m                     for func, args, kwargs in self.items]\n\u001b[0m\u001b[1;32m    254\u001b[0m \u001b[0;34m\u001b[0m\u001b[0m\n\u001b[1;32m    255\u001b[0m     \u001b[0;32mdef\u001b[0m \u001b[0m__reduce__\u001b[0m\u001b[0;34m(\u001b[0m\u001b[0mself\u001b[0m\u001b[0;34m)\u001b[0m\u001b[0;34m:\u001b[0m\u001b[0;34m\u001b[0m\u001b[0;34m\u001b[0m\u001b[0m\n",
            "\u001b[0;32m/usr/local/lib/python3.6/dist-packages/joblib/parallel.py\u001b[0m in \u001b[0;36m<listcomp>\u001b[0;34m(.0)\u001b[0m\n\u001b[1;32m    251\u001b[0m         \u001b[0;32mwith\u001b[0m \u001b[0mparallel_backend\u001b[0m\u001b[0;34m(\u001b[0m\u001b[0mself\u001b[0m\u001b[0;34m.\u001b[0m\u001b[0m_backend\u001b[0m\u001b[0;34m,\u001b[0m \u001b[0mn_jobs\u001b[0m\u001b[0;34m=\u001b[0m\u001b[0mself\u001b[0m\u001b[0;34m.\u001b[0m\u001b[0m_n_jobs\u001b[0m\u001b[0;34m)\u001b[0m\u001b[0;34m:\u001b[0m\u001b[0;34m\u001b[0m\u001b[0;34m\u001b[0m\u001b[0m\n\u001b[1;32m    252\u001b[0m             return [func(*args, **kwargs)\n\u001b[0;32m--> 253\u001b[0;31m                     for func, args, kwargs in self.items]\n\u001b[0m\u001b[1;32m    254\u001b[0m \u001b[0;34m\u001b[0m\u001b[0m\n\u001b[1;32m    255\u001b[0m     \u001b[0;32mdef\u001b[0m \u001b[0m__reduce__\u001b[0m\u001b[0;34m(\u001b[0m\u001b[0mself\u001b[0m\u001b[0;34m)\u001b[0m\u001b[0;34m:\u001b[0m\u001b[0;34m\u001b[0m\u001b[0;34m\u001b[0m\u001b[0m\n",
            "\u001b[0;32m/usr/local/lib/python3.6/dist-packages/sklearn/multiclass.py\u001b[0m in \u001b[0;36m_fit_binary\u001b[0;34m(estimator, X, y, classes)\u001b[0m\n\u001b[1;32m     79\u001b[0m     \u001b[0;32melse\u001b[0m\u001b[0;34m:\u001b[0m\u001b[0;34m\u001b[0m\u001b[0;34m\u001b[0m\u001b[0m\n\u001b[1;32m     80\u001b[0m         \u001b[0mestimator\u001b[0m \u001b[0;34m=\u001b[0m \u001b[0mclone\u001b[0m\u001b[0;34m(\u001b[0m\u001b[0mestimator\u001b[0m\u001b[0;34m)\u001b[0m\u001b[0;34m\u001b[0m\u001b[0;34m\u001b[0m\u001b[0m\n\u001b[0;32m---> 81\u001b[0;31m         \u001b[0mestimator\u001b[0m\u001b[0;34m.\u001b[0m\u001b[0mfit\u001b[0m\u001b[0;34m(\u001b[0m\u001b[0mX\u001b[0m\u001b[0;34m,\u001b[0m \u001b[0my\u001b[0m\u001b[0;34m)\u001b[0m\u001b[0;34m\u001b[0m\u001b[0;34m\u001b[0m\u001b[0m\n\u001b[0m\u001b[1;32m     82\u001b[0m     \u001b[0;32mreturn\u001b[0m \u001b[0mestimator\u001b[0m\u001b[0;34m\u001b[0m\u001b[0;34m\u001b[0m\u001b[0m\n\u001b[1;32m     83\u001b[0m \u001b[0;34m\u001b[0m\u001b[0m\n",
            "\u001b[0;32m/usr/local/lib/python3.6/dist-packages/sklearn/gaussian_process/_gpc.py\u001b[0m in \u001b[0;36mfit\u001b[0;34m(self, X, y)\u001b[0m\n\u001b[1;32m    242\u001b[0m \u001b[0;34m\u001b[0m\u001b[0m\n\u001b[1;32m    243\u001b[0m         \u001b[0m_\u001b[0m\u001b[0;34m,\u001b[0m \u001b[0;34m(\u001b[0m\u001b[0mself\u001b[0m\u001b[0;34m.\u001b[0m\u001b[0mpi_\u001b[0m\u001b[0;34m,\u001b[0m \u001b[0mself\u001b[0m\u001b[0;34m.\u001b[0m\u001b[0mW_sr_\u001b[0m\u001b[0;34m,\u001b[0m \u001b[0mself\u001b[0m\u001b[0;34m.\u001b[0m\u001b[0mL_\u001b[0m\u001b[0;34m,\u001b[0m \u001b[0m_\u001b[0m\u001b[0;34m,\u001b[0m \u001b[0m_\u001b[0m\u001b[0;34m)\u001b[0m \u001b[0;34m=\u001b[0m\u001b[0;31m \u001b[0m\u001b[0;31m\\\u001b[0m\u001b[0;34m\u001b[0m\u001b[0;34m\u001b[0m\u001b[0m\n\u001b[0;32m--> 244\u001b[0;31m             \u001b[0mself\u001b[0m\u001b[0;34m.\u001b[0m\u001b[0m_posterior_mode\u001b[0m\u001b[0;34m(\u001b[0m\u001b[0mK\u001b[0m\u001b[0;34m,\u001b[0m \u001b[0mreturn_temporaries\u001b[0m\u001b[0;34m=\u001b[0m\u001b[0;32mTrue\u001b[0m\u001b[0;34m)\u001b[0m\u001b[0;34m\u001b[0m\u001b[0;34m\u001b[0m\u001b[0m\n\u001b[0m\u001b[1;32m    245\u001b[0m \u001b[0;34m\u001b[0m\u001b[0m\n\u001b[1;32m    246\u001b[0m         \u001b[0;32mreturn\u001b[0m \u001b[0mself\u001b[0m\u001b[0;34m\u001b[0m\u001b[0;34m\u001b[0m\u001b[0m\n",
            "\u001b[0;32m/usr/local/lib/python3.6/dist-packages/sklearn/gaussian_process/_gpc.py\u001b[0m in \u001b[0;36m_posterior_mode\u001b[0;34m(self, K, return_temporaries)\u001b[0m\n\u001b[1;32m    413\u001b[0m             \u001b[0mW_sr_K\u001b[0m \u001b[0;34m=\u001b[0m \u001b[0mW_sr\u001b[0m\u001b[0;34m[\u001b[0m\u001b[0;34m:\u001b[0m\u001b[0;34m,\u001b[0m \u001b[0mnp\u001b[0m\u001b[0;34m.\u001b[0m\u001b[0mnewaxis\u001b[0m\u001b[0;34m]\u001b[0m \u001b[0;34m*\u001b[0m \u001b[0mK\u001b[0m\u001b[0;34m\u001b[0m\u001b[0;34m\u001b[0m\u001b[0m\n\u001b[1;32m    414\u001b[0m             \u001b[0mB\u001b[0m \u001b[0;34m=\u001b[0m \u001b[0mnp\u001b[0m\u001b[0;34m.\u001b[0m\u001b[0meye\u001b[0m\u001b[0;34m(\u001b[0m\u001b[0mW\u001b[0m\u001b[0;34m.\u001b[0m\u001b[0mshape\u001b[0m\u001b[0;34m[\u001b[0m\u001b[0;36m0\u001b[0m\u001b[0;34m]\u001b[0m\u001b[0;34m)\u001b[0m \u001b[0;34m+\u001b[0m \u001b[0mW_sr_K\u001b[0m \u001b[0;34m*\u001b[0m \u001b[0mW_sr\u001b[0m\u001b[0;34m\u001b[0m\u001b[0;34m\u001b[0m\u001b[0m\n\u001b[0;32m--> 415\u001b[0;31m             \u001b[0mL\u001b[0m \u001b[0;34m=\u001b[0m \u001b[0mcholesky\u001b[0m\u001b[0;34m(\u001b[0m\u001b[0mB\u001b[0m\u001b[0;34m,\u001b[0m \u001b[0mlower\u001b[0m\u001b[0;34m=\u001b[0m\u001b[0;32mTrue\u001b[0m\u001b[0;34m)\u001b[0m\u001b[0;34m\u001b[0m\u001b[0;34m\u001b[0m\u001b[0m\n\u001b[0m\u001b[1;32m    416\u001b[0m             \u001b[0;31m# Line 6\u001b[0m\u001b[0;34m\u001b[0m\u001b[0;34m\u001b[0m\u001b[0;34m\u001b[0m\u001b[0m\n\u001b[1;32m    417\u001b[0m             \u001b[0mb\u001b[0m \u001b[0;34m=\u001b[0m \u001b[0mW\u001b[0m \u001b[0;34m*\u001b[0m \u001b[0mf\u001b[0m \u001b[0;34m+\u001b[0m \u001b[0;34m(\u001b[0m\u001b[0mself\u001b[0m\u001b[0;34m.\u001b[0m\u001b[0my_train_\u001b[0m \u001b[0;34m-\u001b[0m \u001b[0mpi\u001b[0m\u001b[0;34m)\u001b[0m\u001b[0;34m\u001b[0m\u001b[0;34m\u001b[0m\u001b[0m\n",
            "\u001b[0;32m/usr/local/lib/python3.6/dist-packages/scipy/linalg/decomp_cholesky.py\u001b[0m in \u001b[0;36mcholesky\u001b[0;34m(a, lower, overwrite_a, check_finite)\u001b[0m\n\u001b[1;32m     87\u001b[0m     \"\"\"\n\u001b[1;32m     88\u001b[0m     c, lower = _cholesky(a, lower=lower, overwrite_a=overwrite_a, clean=True,\n\u001b[0;32m---> 89\u001b[0;31m                          check_finite=check_finite)\n\u001b[0m\u001b[1;32m     90\u001b[0m     \u001b[0;32mreturn\u001b[0m \u001b[0mc\u001b[0m\u001b[0;34m\u001b[0m\u001b[0;34m\u001b[0m\u001b[0m\n\u001b[1;32m     91\u001b[0m \u001b[0;34m\u001b[0m\u001b[0m\n",
            "\u001b[0;32m/usr/local/lib/python3.6/dist-packages/scipy/linalg/decomp_cholesky.py\u001b[0m in \u001b[0;36m_cholesky\u001b[0;34m(a, lower, overwrite_a, clean, check_finite)\u001b[0m\n\u001b[1;32m     33\u001b[0m     \u001b[0moverwrite_a\u001b[0m \u001b[0;34m=\u001b[0m \u001b[0moverwrite_a\u001b[0m \u001b[0;32mor\u001b[0m \u001b[0m_datacopied\u001b[0m\u001b[0;34m(\u001b[0m\u001b[0ma1\u001b[0m\u001b[0;34m,\u001b[0m \u001b[0ma\u001b[0m\u001b[0;34m)\u001b[0m\u001b[0;34m\u001b[0m\u001b[0;34m\u001b[0m\u001b[0m\n\u001b[1;32m     34\u001b[0m     \u001b[0mpotrf\u001b[0m\u001b[0;34m,\u001b[0m \u001b[0;34m=\u001b[0m \u001b[0mget_lapack_funcs\u001b[0m\u001b[0;34m(\u001b[0m\u001b[0;34m(\u001b[0m\u001b[0;34m'potrf'\u001b[0m\u001b[0;34m,\u001b[0m\u001b[0;34m)\u001b[0m\u001b[0;34m,\u001b[0m \u001b[0;34m(\u001b[0m\u001b[0ma1\u001b[0m\u001b[0;34m,\u001b[0m\u001b[0;34m)\u001b[0m\u001b[0;34m)\u001b[0m\u001b[0;34m\u001b[0m\u001b[0;34m\u001b[0m\u001b[0m\n\u001b[0;32m---> 35\u001b[0;31m     \u001b[0mc\u001b[0m\u001b[0;34m,\u001b[0m \u001b[0minfo\u001b[0m \u001b[0;34m=\u001b[0m \u001b[0mpotrf\u001b[0m\u001b[0;34m(\u001b[0m\u001b[0ma1\u001b[0m\u001b[0;34m,\u001b[0m \u001b[0mlower\u001b[0m\u001b[0;34m=\u001b[0m\u001b[0mlower\u001b[0m\u001b[0;34m,\u001b[0m \u001b[0moverwrite_a\u001b[0m\u001b[0;34m=\u001b[0m\u001b[0moverwrite_a\u001b[0m\u001b[0;34m,\u001b[0m \u001b[0mclean\u001b[0m\u001b[0;34m=\u001b[0m\u001b[0mclean\u001b[0m\u001b[0;34m)\u001b[0m\u001b[0;34m\u001b[0m\u001b[0;34m\u001b[0m\u001b[0m\n\u001b[0m\u001b[1;32m     36\u001b[0m     \u001b[0;32mif\u001b[0m \u001b[0minfo\u001b[0m \u001b[0;34m>\u001b[0m \u001b[0;36m0\u001b[0m\u001b[0;34m:\u001b[0m\u001b[0;34m\u001b[0m\u001b[0;34m\u001b[0m\u001b[0m\n\u001b[1;32m     37\u001b[0m         raise LinAlgError(\"%d-th leading minor of the array is not positive \"\n",
            "\u001b[0;31mKeyboardInterrupt\u001b[0m: "
          ]
        }
      ]
    },
    {
      "cell_type": "code",
      "metadata": {
        "id": "DhgrpLmgt4RF",
        "colab_type": "code",
        "colab": {
          "base_uri": "https://localhost:8080/",
          "height": 51
        },
        "outputId": "d3344b47-f020-4c6b-ee05-f2072492e6fa"
      },
      "source": [
        "# Gaussian Naive Bayes\n",
        "gaussian = GaussianNB()\n",
        "param_grid={'var_smoothing': [1e-4, 1e-5, 1e-6]}\n",
        "gaussian_CV = GridSearchCV(estimator=gaussian, param_grid=param_grid, cv=cv_train, verbose=False).fit(X_train,y_train)\n",
        "predict = gaussian_CV.predict(X_test)\n",
        "\n",
        "\n",
        "print(gaussian_CV.best_params_)\n",
        "print(\"Exactitud: {}%\".format(100*round(accuracy_score(y_test, predict), 2)))"
      ],
      "execution_count": null,
      "outputs": [
        {
          "output_type": "stream",
          "text": [
            "{'var_smoothing': 0.0001}\n",
            "Exactitud: 71.0%\n"
          ],
          "name": "stdout"
        }
      ]
    },
    {
      "cell_type": "code",
      "metadata": {
        "id": "v994t80Ot4RI",
        "colab_type": "code",
        "colab": {
          "base_uri": "https://localhost:8080/",
          "height": 51
        },
        "outputId": "3effc8aa-74ef-48e5-ae80-59b7555787e1"
      },
      "source": [
        "# Logistic Regression\n",
        "\n",
        "logreg = LogisticRegression()\n",
        "logreg_CV = GridSearchCV(estimator=logreg, param_grid={'C' : [.1 ,.2, .3, .4, .5, .6, .7, .8, .9]}, cv=cv_train, verbose=False).fit(X_train,y_train)\n",
        "predict = logreg_CV.predict(X_test)\n",
        "\n",
        "\n",
        "print(logreg_CV.best_params_)\n",
        "print(\"Exactitud: {}%\".format(100*round(accuracy_score(y_test, predict), 2)))"
      ],
      "execution_count": null,
      "outputs": [
        {
          "output_type": "stream",
          "text": [
            "{'C': 0.1}\n",
            "Exactitud: 71.0%\n"
          ],
          "name": "stdout"
        }
      ]
    },
    {
      "cell_type": "code",
      "metadata": {
        "id": "sSuowq4Nt4RQ",
        "colab_type": "code",
        "colab": {},
        "outputId": "42853411-7374-409f-b145-f60f99db1e6b"
      },
      "source": [
        "# AdaBoost Classifier\n",
        "Ada_Boost = AdaBoostClassifier()\n",
        "Ada_Boost_CV = GridSearchCV(estimator=Ada_Boost, param_grid={'learning_rate' : [0.095, 0.1, 0.101, 0.102, 0.105]}, cv=cv_train, verbose=False).fit(X_train,y_train)\n",
        "predict = Ada_Boost_CV.predict(X_test)\n",
        "\n",
        "\n",
        "print(Ada_Boost_CV.best_params_)\n",
        "print(\"Exactitud: {}%\".format(100*round(accuracy_score(y_test, predict), 2)))"
      ],
      "execution_count": null,
      "outputs": [
        {
          "output_type": "stream",
          "text": [
            "{'learning_rate': 0.105}\n",
            "Exactitud: 57.99999999999999%\n"
          ],
          "name": "stdout"
        }
      ]
    },
    {
      "cell_type": "code",
      "metadata": {
        "id": "isRYn0DHt4RU",
        "colab_type": "code",
        "colab": {},
        "outputId": "9cef68cd-1ec8-4a1a-e368-865c6fafdd47"
      },
      "source": [
        "# Extra Trees Classifier\n",
        "\n",
        "etr = ExtraTreesClassifier()\n",
        "etr_CV = GridSearchCV(estimator=etr, param_grid={'min_samples_leaf' : [11, 12, 13, 14]}, cv=cv_train, verbose=False).fit(X_train,y_train)\n",
        "predict = etr_CV.predict(X_test)\n",
        "\n",
        "\n",
        "print(etr_CV.best_params_)\n",
        "print(\"Exactitud: {}%\".format(100*round(accuracy_score(y_test, predict), 2)))"
      ],
      "execution_count": null,
      "outputs": [
        {
          "output_type": "stream",
          "text": [
            "{'min_samples_leaf': 11}\n",
            "Exactitud: 89.0%\n"
          ],
          "name": "stdout"
        }
      ]
    },
    {
      "cell_type": "code",
      "metadata": {
        "id": "fTCMGrAbt4RX",
        "colab_type": "code",
        "colab": {},
        "outputId": "75df94cc-5850-44aa-8afe-3079c4f28c35"
      },
      "source": [
        "# Bagging Classifier\n",
        "bagging = BaggingClassifier()\n",
        "param_grid={'max_features': [0.85, 0.9, 0.95],\n",
        "            'n_estimators': [3, 4, 5, 10, 20, 50],\n",
        "            'warm_start' : [False],\n",
        "            'random_state': [14]}\n",
        "bagging_CV = GridSearchCV(estimator=bagging, param_grid=param_grid, cv=cv_train, verbose=False).fit(X_train,y_train)\n",
        "predict = bagging_CV.predict(X_test)\n",
        "\n",
        "\n",
        "print(bagging_CV.best_params_)\n",
        "print(\"Exactitud: {}%\".format(100*round(accuracy_score(y_test, predict), 2)))"
      ],
      "execution_count": null,
      "outputs": [
        {
          "output_type": "stream",
          "text": [
            "{'max_features': 0.85, 'n_estimators': 50, 'random_state': 14, 'warm_start': False}\n",
            "Exactitud: 91.0%\n"
          ],
          "name": "stdout"
        }
      ]
    },
    {
      "cell_type": "code",
      "metadata": {
        "id": "GXYFHEn5t4Rd",
        "colab_type": "code",
        "colab": {},
        "outputId": "e83532ad-0e2e-4e0a-8c19-97245e16b6b4"
      },
      "source": [
        "# Ridge Classifier\n",
        "ridge = RidgeClassifier()\n",
        "ridge_CV = GridSearchCV(estimator=ridge, param_grid={'alpha': np.linspace(.1, 1.5, 15, 100)}, cv=cv_train, verbose=False).fit(X_train,y_train)\n",
        "predict = ridge_CV.predict(X_test)\n",
        "\n",
        "\n",
        "print(ridge_CV.best_params_)\n",
        "print(\"Exactitud: {}%\".format(100*round(accuracy_score(y_test, predict), 2)))"
      ],
      "execution_count": null,
      "outputs": [
        {
          "output_type": "stream",
          "text": [
            "{'alpha': 0.1}\n",
            "Exactitud: 69.0%\n"
          ],
          "name": "stdout"
        }
      ]
    },
    {
      "cell_type": "code",
      "metadata": {
        "id": "Ueb9a9HBt4Rh",
        "colab_type": "code",
        "colab": {},
        "outputId": "e96a4636-4c11-4870-c87f-a53ad100ecca"
      },
      "source": [
        "# Gradient Boosting Classifier\n",
        "gradient_boosting = GradientBoostingClassifier()\n",
        "param_grid = {'learning_rate' : [0.05, 0.06, 0.07, 0.08],\n",
        "              'max_depth': [i for i in range(2,3)],\n",
        "              'min_samples_leaf': [i for i in range(3,8)]}\n",
        "gradient_boosting_CV = GridSearchCV(estimator=gradient_boosting, param_grid=param_grid, \n",
        "                                    cv=cv_train, verbose=False).fit(X_train,y_train)\n",
        "predict = gradient_boosting_CV.predict(X_test)\n",
        "\n",
        "\n",
        "print(gradient_boosting_CV.best_params_)\n",
        "print(\"Exactitud: {}%\".format(100*round(accuracy_score(y_test, predict), 2)))"
      ],
      "execution_count": null,
      "outputs": [
        {
          "output_type": "stream",
          "text": [
            "{'learning_rate': 0.08, 'max_depth': 2, 'min_samples_leaf': 5}\n",
            "Exactitud: 81.0%\n"
          ],
          "name": "stdout"
        }
      ]
    },
    {
      "cell_type": "code",
      "metadata": {
        "id": "Y0h-7DmYt4Rl",
        "colab_type": "code",
        "colab": {
          "base_uri": "https://localhost:8080/",
          "height": 1000
        },
        "outputId": "fb3b0cd8-426e-487d-ed5a-6a058bd1d37f"
      },
      "source": [
        "#LGBMClassifier\n",
        "modelL = lgb.LGBMClassifier(n_estimators=1000, num_leaves=20)\n",
        "modelL.fit(X_train, y_train, eval_set=[(X_test, y_test)], early_stopping_rounds=50, verbose=True)\n",
        "predict = modelL.predict(X_test)\n",
        "print(\"Exactitud: {}%\".format(100*round(accuracy_score(y_test, predict), 2)))"
      ],
      "execution_count": null,
      "outputs": [
        {
          "output_type": "stream",
          "text": [
            "[1]\tvalid_0's multi_logloss: 1.66758\n",
            "Training until validation scores don't improve for 50 rounds.\n",
            "[2]\tvalid_0's multi_logloss: 1.56474\n",
            "[3]\tvalid_0's multi_logloss: 1.47551\n",
            "[4]\tvalid_0's multi_logloss: 1.3949\n",
            "[5]\tvalid_0's multi_logloss: 1.3275\n",
            "[6]\tvalid_0's multi_logloss: 1.26457\n",
            "[7]\tvalid_0's multi_logloss: 1.2084\n",
            "[8]\tvalid_0's multi_logloss: 1.15834\n",
            "[9]\tvalid_0's multi_logloss: 1.11113\n",
            "[10]\tvalid_0's multi_logloss: 1.0678\n",
            "[11]\tvalid_0's multi_logloss: 1.02761\n",
            "[12]\tvalid_0's multi_logloss: 0.991464\n",
            "[13]\tvalid_0's multi_logloss: 0.957274\n",
            "[14]\tvalid_0's multi_logloss: 0.927093\n",
            "[15]\tvalid_0's multi_logloss: 0.897198\n",
            "[16]\tvalid_0's multi_logloss: 0.870004\n",
            "[17]\tvalid_0's multi_logloss: 0.844314\n",
            "[18]\tvalid_0's multi_logloss: 0.821296\n",
            "[19]\tvalid_0's multi_logloss: 0.798195\n",
            "[20]\tvalid_0's multi_logloss: 0.776901\n",
            "[21]\tvalid_0's multi_logloss: 0.757236\n",
            "[22]\tvalid_0's multi_logloss: 0.738095\n",
            "[23]\tvalid_0's multi_logloss: 0.720509\n",
            "[24]\tvalid_0's multi_logloss: 0.703471\n",
            "[25]\tvalid_0's multi_logloss: 0.688713\n",
            "[26]\tvalid_0's multi_logloss: 0.673692\n",
            "[27]\tvalid_0's multi_logloss: 0.659532\n",
            "[28]\tvalid_0's multi_logloss: 0.646108\n",
            "[29]\tvalid_0's multi_logloss: 0.633097\n",
            "[30]\tvalid_0's multi_logloss: 0.621759\n",
            "[31]\tvalid_0's multi_logloss: 0.609458\n",
            "[32]\tvalid_0's multi_logloss: 0.598096\n",
            "[33]\tvalid_0's multi_logloss: 0.587888\n",
            "[34]\tvalid_0's multi_logloss: 0.577475\n",
            "[35]\tvalid_0's multi_logloss: 0.568181\n",
            "[36]\tvalid_0's multi_logloss: 0.558604\n",
            "[37]\tvalid_0's multi_logloss: 0.549275\n",
            "[38]\tvalid_0's multi_logloss: 0.540578\n",
            "[39]\tvalid_0's multi_logloss: 0.531956\n",
            "[40]\tvalid_0's multi_logloss: 0.523811\n",
            "[41]\tvalid_0's multi_logloss: 0.516255\n",
            "[42]\tvalid_0's multi_logloss: 0.50908\n",
            "[43]\tvalid_0's multi_logloss: 0.502149\n",
            "[44]\tvalid_0's multi_logloss: 0.495622\n",
            "[45]\tvalid_0's multi_logloss: 0.488578\n",
            "[46]\tvalid_0's multi_logloss: 0.482408\n",
            "[47]\tvalid_0's multi_logloss: 0.476418\n",
            "[48]\tvalid_0's multi_logloss: 0.470949\n",
            "[49]\tvalid_0's multi_logloss: 0.464618\n",
            "[50]\tvalid_0's multi_logloss: 0.459352\n",
            "[51]\tvalid_0's multi_logloss: 0.45403\n",
            "[52]\tvalid_0's multi_logloss: 0.448404\n",
            "[53]\tvalid_0's multi_logloss: 0.443444\n",
            "[54]\tvalid_0's multi_logloss: 0.438521\n",
            "[55]\tvalid_0's multi_logloss: 0.434463\n",
            "[56]\tvalid_0's multi_logloss: 0.43008\n",
            "[57]\tvalid_0's multi_logloss: 0.425797\n",
            "[58]\tvalid_0's multi_logloss: 0.421776\n",
            "[59]\tvalid_0's multi_logloss: 0.41781\n",
            "[60]\tvalid_0's multi_logloss: 0.413714\n",
            "[61]\tvalid_0's multi_logloss: 0.409672\n",
            "[62]\tvalid_0's multi_logloss: 0.40554\n",
            "[63]\tvalid_0's multi_logloss: 0.401507\n",
            "[64]\tvalid_0's multi_logloss: 0.398239\n",
            "[65]\tvalid_0's multi_logloss: 0.395028\n",
            "[66]\tvalid_0's multi_logloss: 0.392234\n",
            "[67]\tvalid_0's multi_logloss: 0.389188\n",
            "[68]\tvalid_0's multi_logloss: 0.386084\n",
            "[69]\tvalid_0's multi_logloss: 0.383283\n",
            "[70]\tvalid_0's multi_logloss: 0.37998\n",
            "[71]\tvalid_0's multi_logloss: 0.377622\n",
            "[72]\tvalid_0's multi_logloss: 0.37509\n",
            "[73]\tvalid_0's multi_logloss: 0.373061\n",
            "[74]\tvalid_0's multi_logloss: 0.37053\n",
            "[75]\tvalid_0's multi_logloss: 0.368173\n",
            "[76]\tvalid_0's multi_logloss: 0.365536\n",
            "[77]\tvalid_0's multi_logloss: 0.363339\n",
            "[78]\tvalid_0's multi_logloss: 0.361528\n",
            "[79]\tvalid_0's multi_logloss: 0.359614\n",
            "[80]\tvalid_0's multi_logloss: 0.357764\n",
            "[81]\tvalid_0's multi_logloss: 0.355919\n",
            "[82]\tvalid_0's multi_logloss: 0.35366\n",
            "[83]\tvalid_0's multi_logloss: 0.35176\n",
            "[84]\tvalid_0's multi_logloss: 0.349819\n",
            "[85]\tvalid_0's multi_logloss: 0.34809\n",
            "[86]\tvalid_0's multi_logloss: 0.346609\n",
            "[87]\tvalid_0's multi_logloss: 0.34517\n",
            "[88]\tvalid_0's multi_logloss: 0.343842\n",
            "[89]\tvalid_0's multi_logloss: 0.342402\n",
            "[90]\tvalid_0's multi_logloss: 0.340744\n",
            "[91]\tvalid_0's multi_logloss: 0.339159\n",
            "[92]\tvalid_0's multi_logloss: 0.337675\n",
            "[93]\tvalid_0's multi_logloss: 0.336043\n",
            "[94]\tvalid_0's multi_logloss: 0.33474\n",
            "[95]\tvalid_0's multi_logloss: 0.33353\n",
            "[96]\tvalid_0's multi_logloss: 0.33236\n",
            "[97]\tvalid_0's multi_logloss: 0.330968\n",
            "[98]\tvalid_0's multi_logloss: 0.32984\n",
            "[99]\tvalid_0's multi_logloss: 0.328802\n",
            "[100]\tvalid_0's multi_logloss: 0.327879\n",
            "[101]\tvalid_0's multi_logloss: 0.326671\n",
            "[102]\tvalid_0's multi_logloss: 0.325819\n",
            "[103]\tvalid_0's multi_logloss: 0.324452\n",
            "[104]\tvalid_0's multi_logloss: 0.323493\n",
            "[105]\tvalid_0's multi_logloss: 0.322086\n",
            "[106]\tvalid_0's multi_logloss: 0.321126\n",
            "[107]\tvalid_0's multi_logloss: 0.320311\n",
            "[108]\tvalid_0's multi_logloss: 0.319384\n",
            "[109]\tvalid_0's multi_logloss: 0.31831\n",
            "[110]\tvalid_0's multi_logloss: 0.317445\n",
            "[111]\tvalid_0's multi_logloss: 0.316277\n",
            "[112]\tvalid_0's multi_logloss: 0.315245\n",
            "[113]\tvalid_0's multi_logloss: 0.314557\n",
            "[114]\tvalid_0's multi_logloss: 0.313746\n",
            "[115]\tvalid_0's multi_logloss: 0.312966\n",
            "[116]\tvalid_0's multi_logloss: 0.311743\n",
            "[117]\tvalid_0's multi_logloss: 0.311109\n",
            "[118]\tvalid_0's multi_logloss: 0.31008\n",
            "[119]\tvalid_0's multi_logloss: 0.309197\n",
            "[120]\tvalid_0's multi_logloss: 0.308272\n",
            "[121]\tvalid_0's multi_logloss: 0.307672\n",
            "[122]\tvalid_0's multi_logloss: 0.307122\n",
            "[123]\tvalid_0's multi_logloss: 0.306366\n",
            "[124]\tvalid_0's multi_logloss: 0.305647\n",
            "[125]\tvalid_0's multi_logloss: 0.304774\n",
            "[126]\tvalid_0's multi_logloss: 0.304129\n",
            "[127]\tvalid_0's multi_logloss: 0.303521\n",
            "[128]\tvalid_0's multi_logloss: 0.302828\n",
            "[129]\tvalid_0's multi_logloss: 0.302026\n",
            "[130]\tvalid_0's multi_logloss: 0.301565\n",
            "[131]\tvalid_0's multi_logloss: 0.300942\n",
            "[132]\tvalid_0's multi_logloss: 0.300298\n",
            "[133]\tvalid_0's multi_logloss: 0.299824\n",
            "[134]\tvalid_0's multi_logloss: 0.299102\n",
            "[135]\tvalid_0's multi_logloss: 0.298691\n",
            "[136]\tvalid_0's multi_logloss: 0.298339\n",
            "[137]\tvalid_0's multi_logloss: 0.297591\n",
            "[138]\tvalid_0's multi_logloss: 0.296993\n",
            "[139]\tvalid_0's multi_logloss: 0.296209\n",
            "[140]\tvalid_0's multi_logloss: 0.296091\n",
            "[141]\tvalid_0's multi_logloss: 0.295518\n",
            "[142]\tvalid_0's multi_logloss: 0.295035\n",
            "[143]\tvalid_0's multi_logloss: 0.294426\n",
            "[144]\tvalid_0's multi_logloss: 0.294161\n",
            "[145]\tvalid_0's multi_logloss: 0.293774\n",
            "[146]\tvalid_0's multi_logloss: 0.293266\n",
            "[147]\tvalid_0's multi_logloss: 0.292179\n",
            "[148]\tvalid_0's multi_logloss: 0.291778\n",
            "[149]\tvalid_0's multi_logloss: 0.291156\n",
            "[150]\tvalid_0's multi_logloss: 0.291029\n",
            "[151]\tvalid_0's multi_logloss: 0.290389\n",
            "[152]\tvalid_0's multi_logloss: 0.290038\n",
            "[153]\tvalid_0's multi_logloss: 0.289591\n",
            "[154]\tvalid_0's multi_logloss: 0.289056\n",
            "[155]\tvalid_0's multi_logloss: 0.288461\n",
            "[156]\tvalid_0's multi_logloss: 0.288214\n",
            "[157]\tvalid_0's multi_logloss: 0.287892\n",
            "[158]\tvalid_0's multi_logloss: 0.287513\n",
            "[159]\tvalid_0's multi_logloss: 0.286945\n",
            "[160]\tvalid_0's multi_logloss: 0.286518\n",
            "[161]\tvalid_0's multi_logloss: 0.286238\n",
            "[162]\tvalid_0's multi_logloss: 0.286065\n",
            "[163]\tvalid_0's multi_logloss: 0.285591\n",
            "[164]\tvalid_0's multi_logloss: 0.285319\n",
            "[165]\tvalid_0's multi_logloss: 0.285144\n",
            "[166]\tvalid_0's multi_logloss: 0.284834\n",
            "[167]\tvalid_0's multi_logloss: 0.284348\n",
            "[168]\tvalid_0's multi_logloss: 0.283966\n",
            "[169]\tvalid_0's multi_logloss: 0.283654\n",
            "[170]\tvalid_0's multi_logloss: 0.283186\n",
            "[171]\tvalid_0's multi_logloss: 0.282739\n",
            "[172]\tvalid_0's multi_logloss: 0.28246\n",
            "[173]\tvalid_0's multi_logloss: 0.282013\n",
            "[174]\tvalid_0's multi_logloss: 0.281418\n",
            "[175]\tvalid_0's multi_logloss: 0.281088\n",
            "[176]\tvalid_0's multi_logloss: 0.280523\n",
            "[177]\tvalid_0's multi_logloss: 0.280315\n",
            "[178]\tvalid_0's multi_logloss: 0.280065\n",
            "[179]\tvalid_0's multi_logloss: 0.279663\n",
            "[180]\tvalid_0's multi_logloss: 0.279188\n",
            "[181]\tvalid_0's multi_logloss: 0.278837\n",
            "[182]\tvalid_0's multi_logloss: 0.278689\n",
            "[183]\tvalid_0's multi_logloss: 0.27824\n",
            "[184]\tvalid_0's multi_logloss: 0.278019\n",
            "[185]\tvalid_0's multi_logloss: 0.277765\n",
            "[186]\tvalid_0's multi_logloss: 0.277321\n",
            "[187]\tvalid_0's multi_logloss: 0.277062\n",
            "[188]\tvalid_0's multi_logloss: 0.276792\n",
            "[189]\tvalid_0's multi_logloss: 0.276488\n",
            "[190]\tvalid_0's multi_logloss: 0.275962\n",
            "[191]\tvalid_0's multi_logloss: 0.275606\n",
            "[192]\tvalid_0's multi_logloss: 0.275042\n",
            "[193]\tvalid_0's multi_logloss: 0.274863\n",
            "[194]\tvalid_0's multi_logloss: 0.274714\n",
            "[195]\tvalid_0's multi_logloss: 0.274224\n",
            "[196]\tvalid_0's multi_logloss: 0.273978\n",
            "[197]\tvalid_0's multi_logloss: 0.273573\n",
            "[198]\tvalid_0's multi_logloss: 0.273191\n",
            "[199]\tvalid_0's multi_logloss: 0.272877\n",
            "[200]\tvalid_0's multi_logloss: 0.272593\n",
            "[201]\tvalid_0's multi_logloss: 0.271973\n",
            "[202]\tvalid_0's multi_logloss: 0.271846\n",
            "[203]\tvalid_0's multi_logloss: 0.27154\n",
            "[204]\tvalid_0's multi_logloss: 0.271209\n",
            "[205]\tvalid_0's multi_logloss: 0.270781\n",
            "[206]\tvalid_0's multi_logloss: 0.270519\n",
            "[207]\tvalid_0's multi_logloss: 0.270174\n",
            "[208]\tvalid_0's multi_logloss: 0.269967\n",
            "[209]\tvalid_0's multi_logloss: 0.269733\n",
            "[210]\tvalid_0's multi_logloss: 0.269567\n",
            "[211]\tvalid_0's multi_logloss: 0.269243\n",
            "[212]\tvalid_0's multi_logloss: 0.268851\n",
            "[213]\tvalid_0's multi_logloss: 0.268441\n",
            "[214]\tvalid_0's multi_logloss: 0.268285\n",
            "[215]\tvalid_0's multi_logloss: 0.267762\n",
            "[216]\tvalid_0's multi_logloss: 0.26749\n",
            "[217]\tvalid_0's multi_logloss: 0.267341\n",
            "[218]\tvalid_0's multi_logloss: 0.266984\n",
            "[219]\tvalid_0's multi_logloss: 0.266712\n",
            "[220]\tvalid_0's multi_logloss: 0.266597\n",
            "[221]\tvalid_0's multi_logloss: 0.266146\n",
            "[222]\tvalid_0's multi_logloss: 0.26591\n",
            "[223]\tvalid_0's multi_logloss: 0.265746\n",
            "[224]\tvalid_0's multi_logloss: 0.265331\n",
            "[225]\tvalid_0's multi_logloss: 0.264994\n",
            "[226]\tvalid_0's multi_logloss: 0.264635\n",
            "[227]\tvalid_0's multi_logloss: 0.264358\n",
            "[228]\tvalid_0's multi_logloss: 0.264263\n",
            "[229]\tvalid_0's multi_logloss: 0.263894\n",
            "[230]\tvalid_0's multi_logloss: 0.263721\n",
            "[231]\tvalid_0's multi_logloss: 0.263535\n",
            "[232]\tvalid_0's multi_logloss: 0.263422\n",
            "[233]\tvalid_0's multi_logloss: 0.263134\n",
            "[234]\tvalid_0's multi_logloss: 0.262932\n",
            "[235]\tvalid_0's multi_logloss: 0.262515\n",
            "[236]\tvalid_0's multi_logloss: 0.262114\n",
            "[237]\tvalid_0's multi_logloss: 0.262027\n",
            "[238]\tvalid_0's multi_logloss: 0.261964\n",
            "[239]\tvalid_0's multi_logloss: 0.261904\n",
            "[240]\tvalid_0's multi_logloss: 0.261542\n",
            "[241]\tvalid_0's multi_logloss: 0.261314\n",
            "[242]\tvalid_0's multi_logloss: 0.261109\n",
            "[243]\tvalid_0's multi_logloss: 0.260898\n",
            "[244]\tvalid_0's multi_logloss: 0.26068\n",
            "[245]\tvalid_0's multi_logloss: 0.260294\n",
            "[246]\tvalid_0's multi_logloss: 0.260097\n",
            "[247]\tvalid_0's multi_logloss: 0.259893\n",
            "[248]\tvalid_0's multi_logloss: 0.259763\n",
            "[249]\tvalid_0's multi_logloss: 0.259425\n",
            "[250]\tvalid_0's multi_logloss: 0.259076\n",
            "[251]\tvalid_0's multi_logloss: 0.258925\n",
            "[252]\tvalid_0's multi_logloss: 0.258636\n",
            "[253]\tvalid_0's multi_logloss: 0.258431\n",
            "[254]\tvalid_0's multi_logloss: 0.258273\n",
            "[255]\tvalid_0's multi_logloss: 0.258151\n",
            "[256]\tvalid_0's multi_logloss: 0.257964\n",
            "[257]\tvalid_0's multi_logloss: 0.257882\n",
            "[258]\tvalid_0's multi_logloss: 0.25767\n",
            "[259]\tvalid_0's multi_logloss: 0.257503\n",
            "[260]\tvalid_0's multi_logloss: 0.25735\n",
            "[261]\tvalid_0's multi_logloss: 0.257202\n",
            "[262]\tvalid_0's multi_logloss: 0.257114\n",
            "[263]\tvalid_0's multi_logloss: 0.257026\n",
            "[264]\tvalid_0's multi_logloss: 0.256944\n",
            "[265]\tvalid_0's multi_logloss: 0.256606\n",
            "[266]\tvalid_0's multi_logloss: 0.256412\n",
            "[267]\tvalid_0's multi_logloss: 0.256141\n",
            "[268]\tvalid_0's multi_logloss: 0.255971\n",
            "[269]\tvalid_0's multi_logloss: 0.255694\n",
            "[270]\tvalid_0's multi_logloss: 0.25538\n",
            "[271]\tvalid_0's multi_logloss: 0.255133\n",
            "[272]\tvalid_0's multi_logloss: 0.25495\n",
            "[273]\tvalid_0's multi_logloss: 0.254818\n",
            "[274]\tvalid_0's multi_logloss: 0.254617\n",
            "[275]\tvalid_0's multi_logloss: 0.254312\n",
            "[276]\tvalid_0's multi_logloss: 0.254019\n",
            "[277]\tvalid_0's multi_logloss: 0.253899\n",
            "[278]\tvalid_0's multi_logloss: 0.253716\n",
            "[279]\tvalid_0's multi_logloss: 0.25341\n",
            "[280]\tvalid_0's multi_logloss: 0.253234\n",
            "[281]\tvalid_0's multi_logloss: 0.253096\n",
            "[282]\tvalid_0's multi_logloss: 0.252967\n",
            "[283]\tvalid_0's multi_logloss: 0.252752\n",
            "[284]\tvalid_0's multi_logloss: 0.252582\n",
            "[285]\tvalid_0's multi_logloss: 0.252271\n",
            "[286]\tvalid_0's multi_logloss: 0.252189\n",
            "[287]\tvalid_0's multi_logloss: 0.252052\n",
            "[288]\tvalid_0's multi_logloss: 0.251936\n",
            "[289]\tvalid_0's multi_logloss: 0.251887\n",
            "[290]\tvalid_0's multi_logloss: 0.251705\n",
            "[291]\tvalid_0's multi_logloss: 0.251418\n",
            "[292]\tvalid_0's multi_logloss: 0.251309\n",
            "[293]\tvalid_0's multi_logloss: 0.251217\n",
            "[294]\tvalid_0's multi_logloss: 0.251164\n",
            "[295]\tvalid_0's multi_logloss: 0.250995\n",
            "[296]\tvalid_0's multi_logloss: 0.25088\n",
            "[297]\tvalid_0's multi_logloss: 0.250696\n",
            "[298]\tvalid_0's multi_logloss: 0.250627\n",
            "[299]\tvalid_0's multi_logloss: 0.250587\n",
            "[300]\tvalid_0's multi_logloss: 0.250479\n",
            "[301]\tvalid_0's multi_logloss: 0.250195\n",
            "[302]\tvalid_0's multi_logloss: 0.250058\n",
            "[303]\tvalid_0's multi_logloss: 0.249874\n",
            "[304]\tvalid_0's multi_logloss: 0.249866\n",
            "[305]\tvalid_0's multi_logloss: 0.249762\n",
            "[306]\tvalid_0's multi_logloss: 0.249683\n",
            "[307]\tvalid_0's multi_logloss: 0.249622\n",
            "[308]\tvalid_0's multi_logloss: 0.249523\n",
            "[309]\tvalid_0's multi_logloss: 0.249395\n",
            "[310]\tvalid_0's multi_logloss: 0.249154\n",
            "[311]\tvalid_0's multi_logloss: 0.24894\n",
            "[312]\tvalid_0's multi_logloss: 0.248445\n",
            "[313]\tvalid_0's multi_logloss: 0.248335\n",
            "[314]\tvalid_0's multi_logloss: 0.248217\n",
            "[315]\tvalid_0's multi_logloss: 0.247955\n",
            "[316]\tvalid_0's multi_logloss: 0.247782\n",
            "[317]\tvalid_0's multi_logloss: 0.247562\n",
            "[318]\tvalid_0's multi_logloss: 0.247518\n",
            "[319]\tvalid_0's multi_logloss: 0.24726\n",
            "[320]\tvalid_0's multi_logloss: 0.247011\n",
            "[321]\tvalid_0's multi_logloss: 0.246801\n",
            "[322]\tvalid_0's multi_logloss: 0.246651\n",
            "[323]\tvalid_0's multi_logloss: 0.246536\n",
            "[324]\tvalid_0's multi_logloss: 0.246171\n",
            "[325]\tvalid_0's multi_logloss: 0.24614\n",
            "[326]\tvalid_0's multi_logloss: 0.246062\n",
            "[327]\tvalid_0's multi_logloss: 0.246054\n",
            "[328]\tvalid_0's multi_logloss: 0.245839\n",
            "[329]\tvalid_0's multi_logloss: 0.245624\n",
            "[330]\tvalid_0's multi_logloss: 0.245475\n",
            "[331]\tvalid_0's multi_logloss: 0.245355\n",
            "[332]\tvalid_0's multi_logloss: 0.245192\n",
            "[333]\tvalid_0's multi_logloss: 0.245219\n",
            "[334]\tvalid_0's multi_logloss: 0.24502\n",
            "[335]\tvalid_0's multi_logloss: 0.244875\n",
            "[336]\tvalid_0's multi_logloss: 0.244704\n",
            "[337]\tvalid_0's multi_logloss: 0.244717\n",
            "[338]\tvalid_0's multi_logloss: 0.244645\n",
            "[339]\tvalid_0's multi_logloss: 0.244422\n",
            "[340]\tvalid_0's multi_logloss: 0.244384\n",
            "[341]\tvalid_0's multi_logloss: 0.244208\n",
            "[342]\tvalid_0's multi_logloss: 0.243974\n",
            "[343]\tvalid_0's multi_logloss: 0.243774\n",
            "[344]\tvalid_0's multi_logloss: 0.243707\n",
            "[345]\tvalid_0's multi_logloss: 0.243709\n",
            "[346]\tvalid_0's multi_logloss: 0.2435\n",
            "[347]\tvalid_0's multi_logloss: 0.243393\n",
            "[348]\tvalid_0's multi_logloss: 0.243294\n",
            "[349]\tvalid_0's multi_logloss: 0.243158\n",
            "[350]\tvalid_0's multi_logloss: 0.243056\n",
            "[351]\tvalid_0's multi_logloss: 0.24295\n",
            "[352]\tvalid_0's multi_logloss: 0.242655\n",
            "[353]\tvalid_0's multi_logloss: 0.242554\n",
            "[354]\tvalid_0's multi_logloss: 0.242504\n",
            "[355]\tvalid_0's multi_logloss: 0.242362\n",
            "[356]\tvalid_0's multi_logloss: 0.242207\n",
            "[357]\tvalid_0's multi_logloss: 0.242164\n",
            "[358]\tvalid_0's multi_logloss: 0.242079\n",
            "[359]\tvalid_0's multi_logloss: 0.241989\n",
            "[360]\tvalid_0's multi_logloss: 0.241905\n",
            "[361]\tvalid_0's multi_logloss: 0.241724\n",
            "[362]\tvalid_0's multi_logloss: 0.24156\n",
            "[363]\tvalid_0's multi_logloss: 0.241408\n",
            "[364]\tvalid_0's multi_logloss: 0.241254\n",
            "[365]\tvalid_0's multi_logloss: 0.241163\n",
            "[366]\tvalid_0's multi_logloss: 0.240915\n",
            "[367]\tvalid_0's multi_logloss: 0.240721\n",
            "[368]\tvalid_0's multi_logloss: 0.240663\n",
            "[369]\tvalid_0's multi_logloss: 0.240537\n",
            "[370]\tvalid_0's multi_logloss: 0.24056\n",
            "[371]\tvalid_0's multi_logloss: 0.240522\n",
            "[372]\tvalid_0's multi_logloss: 0.240391\n",
            "[373]\tvalid_0's multi_logloss: 0.240366\n",
            "[374]\tvalid_0's multi_logloss: 0.240249\n",
            "[375]\tvalid_0's multi_logloss: 0.240126\n",
            "[376]\tvalid_0's multi_logloss: 0.239992\n",
            "[377]\tvalid_0's multi_logloss: 0.239953\n",
            "[378]\tvalid_0's multi_logloss: 0.239999\n",
            "[379]\tvalid_0's multi_logloss: 0.239966\n",
            "[380]\tvalid_0's multi_logloss: 0.239904\n",
            "[381]\tvalid_0's multi_logloss: 0.239759\n",
            "[382]\tvalid_0's multi_logloss: 0.239655\n",
            "[383]\tvalid_0's multi_logloss: 0.239614\n",
            "[384]\tvalid_0's multi_logloss: 0.239523\n",
            "[385]\tvalid_0's multi_logloss: 0.239381\n",
            "[386]\tvalid_0's multi_logloss: 0.239413\n",
            "[387]\tvalid_0's multi_logloss: 0.239285\n",
            "[388]\tvalid_0's multi_logloss: 0.239208\n",
            "[389]\tvalid_0's multi_logloss: 0.239093\n",
            "[390]\tvalid_0's multi_logloss: 0.239067\n",
            "[391]\tvalid_0's multi_logloss: 0.238987\n",
            "[392]\tvalid_0's multi_logloss: 0.238854\n",
            "[393]\tvalid_0's multi_logloss: 0.238756\n",
            "[394]\tvalid_0's multi_logloss: 0.238584\n",
            "[395]\tvalid_0's multi_logloss: 0.238565\n",
            "[396]\tvalid_0's multi_logloss: 0.238495\n",
            "[397]\tvalid_0's multi_logloss: 0.238495\n",
            "[398]\tvalid_0's multi_logloss: 0.238441\n",
            "[399]\tvalid_0's multi_logloss: 0.238448\n",
            "[400]\tvalid_0's multi_logloss: 0.238542\n",
            "[401]\tvalid_0's multi_logloss: 0.238643\n",
            "[402]\tvalid_0's multi_logloss: 0.238552\n",
            "[403]\tvalid_0's multi_logloss: 0.238568\n",
            "[404]\tvalid_0's multi_logloss: 0.238765\n",
            "[405]\tvalid_0's multi_logloss: 0.238629\n",
            "[406]\tvalid_0's multi_logloss: 0.23849\n",
            "[407]\tvalid_0's multi_logloss: 0.238325\n",
            "[408]\tvalid_0's multi_logloss: 0.238271\n",
            "[409]\tvalid_0's multi_logloss: 0.238324\n",
            "[410]\tvalid_0's multi_logloss: 0.238329\n",
            "[411]\tvalid_0's multi_logloss: 0.238273\n",
            "[412]\tvalid_0's multi_logloss: 0.238263\n",
            "[413]\tvalid_0's multi_logloss: 0.238088\n",
            "[414]\tvalid_0's multi_logloss: 0.237975\n",
            "[415]\tvalid_0's multi_logloss: 0.238039\n",
            "[416]\tvalid_0's multi_logloss: 0.237947\n",
            "[417]\tvalid_0's multi_logloss: 0.23786\n",
            "[418]\tvalid_0's multi_logloss: 0.237822\n",
            "[419]\tvalid_0's multi_logloss: 0.237847\n",
            "[420]\tvalid_0's multi_logloss: 0.237754\n",
            "[421]\tvalid_0's multi_logloss: 0.237569\n",
            "[422]\tvalid_0's multi_logloss: 0.23744\n",
            "[423]\tvalid_0's multi_logloss: 0.237393\n",
            "[424]\tvalid_0's multi_logloss: 0.237388\n",
            "[425]\tvalid_0's multi_logloss: 0.237283\n",
            "[426]\tvalid_0's multi_logloss: 0.237188\n",
            "[427]\tvalid_0's multi_logloss: 0.23715\n",
            "[428]\tvalid_0's multi_logloss: 0.237095\n",
            "[429]\tvalid_0's multi_logloss: 0.236838\n",
            "[430]\tvalid_0's multi_logloss: 0.236761\n",
            "[431]\tvalid_0's multi_logloss: 0.236716\n",
            "[432]\tvalid_0's multi_logloss: 0.236683\n",
            "[433]\tvalid_0's multi_logloss: 0.236685\n",
            "[434]\tvalid_0's multi_logloss: 0.236534\n",
            "[435]\tvalid_0's multi_logloss: 0.236542\n",
            "[436]\tvalid_0's multi_logloss: 0.236306\n",
            "[437]\tvalid_0's multi_logloss: 0.236309\n",
            "[438]\tvalid_0's multi_logloss: 0.236328\n",
            "[439]\tvalid_0's multi_logloss: 0.236164\n",
            "[440]\tvalid_0's multi_logloss: 0.236091\n",
            "[441]\tvalid_0's multi_logloss: 0.236036\n",
            "[442]\tvalid_0's multi_logloss: 0.236098\n",
            "[443]\tvalid_0's multi_logloss: 0.23605\n",
            "[444]\tvalid_0's multi_logloss: 0.236198\n",
            "[445]\tvalid_0's multi_logloss: 0.236095\n",
            "[446]\tvalid_0's multi_logloss: 0.23615\n",
            "[447]\tvalid_0's multi_logloss: 0.236098\n",
            "[448]\tvalid_0's multi_logloss: 0.236023\n",
            "[449]\tvalid_0's multi_logloss: 0.236041\n",
            "[450]\tvalid_0's multi_logloss: 0.235819\n",
            "[451]\tvalid_0's multi_logloss: 0.235836\n",
            "[452]\tvalid_0's multi_logloss: 0.235819\n",
            "[453]\tvalid_0's multi_logloss: 0.235721\n",
            "[454]\tvalid_0's multi_logloss: 0.235641\n",
            "[455]\tvalid_0's multi_logloss: 0.235574\n",
            "[456]\tvalid_0's multi_logloss: 0.235683\n",
            "[457]\tvalid_0's multi_logloss: 0.235662\n",
            "[458]\tvalid_0's multi_logloss: 0.235605\n",
            "[459]\tvalid_0's multi_logloss: 0.235516\n",
            "[460]\tvalid_0's multi_logloss: 0.235545\n",
            "[461]\tvalid_0's multi_logloss: 0.235477\n",
            "[462]\tvalid_0's multi_logloss: 0.235427\n",
            "[463]\tvalid_0's multi_logloss: 0.235293\n",
            "[464]\tvalid_0's multi_logloss: 0.235089\n",
            "[465]\tvalid_0's multi_logloss: 0.235086\n",
            "[466]\tvalid_0's multi_logloss: 0.235054\n",
            "[467]\tvalid_0's multi_logloss: 0.234992\n",
            "[468]\tvalid_0's multi_logloss: 0.234896\n",
            "[469]\tvalid_0's multi_logloss: 0.234904\n",
            "[470]\tvalid_0's multi_logloss: 0.234922\n",
            "[471]\tvalid_0's multi_logloss: 0.234974\n",
            "[472]\tvalid_0's multi_logloss: 0.23481\n",
            "[473]\tvalid_0's multi_logloss: 0.234691\n",
            "[474]\tvalid_0's multi_logloss: 0.234694\n",
            "[475]\tvalid_0's multi_logloss: 0.234671\n",
            "[476]\tvalid_0's multi_logloss: 0.234636\n",
            "[477]\tvalid_0's multi_logloss: 0.234708\n",
            "[478]\tvalid_0's multi_logloss: 0.234705\n",
            "[479]\tvalid_0's multi_logloss: 0.234713\n",
            "[480]\tvalid_0's multi_logloss: 0.234761\n",
            "[481]\tvalid_0's multi_logloss: 0.23474\n",
            "[482]\tvalid_0's multi_logloss: 0.234674\n",
            "[483]\tvalid_0's multi_logloss: 0.234663\n",
            "[484]\tvalid_0's multi_logloss: 0.234693\n",
            "[485]\tvalid_0's multi_logloss: 0.234796\n",
            "[486]\tvalid_0's multi_logloss: 0.234632\n",
            "[487]\tvalid_0's multi_logloss: 0.234684\n",
            "[488]\tvalid_0's multi_logloss: 0.234714\n",
            "[489]\tvalid_0's multi_logloss: 0.23465\n",
            "[490]\tvalid_0's multi_logloss: 0.234636\n",
            "[491]\tvalid_0's multi_logloss: 0.234603\n",
            "[492]\tvalid_0's multi_logloss: 0.234629\n",
            "[493]\tvalid_0's multi_logloss: 0.234628\n",
            "[494]\tvalid_0's multi_logloss: 0.234664\n",
            "[495]\tvalid_0's multi_logloss: 0.234662\n",
            "[496]\tvalid_0's multi_logloss: 0.23465\n",
            "[497]\tvalid_0's multi_logloss: 0.234665\n",
            "[498]\tvalid_0's multi_logloss: 0.234691\n",
            "[499]\tvalid_0's multi_logloss: 0.234766\n",
            "[500]\tvalid_0's multi_logloss: 0.234706\n",
            "[501]\tvalid_0's multi_logloss: 0.234663\n",
            "[502]\tvalid_0's multi_logloss: 0.234705\n",
            "[503]\tvalid_0's multi_logloss: 0.234643\n",
            "[504]\tvalid_0's multi_logloss: 0.234626\n",
            "[505]\tvalid_0's multi_logloss: 0.234653\n",
            "[506]\tvalid_0's multi_logloss: 0.234606\n",
            "[507]\tvalid_0's multi_logloss: 0.234574\n",
            "[508]\tvalid_0's multi_logloss: 0.234475\n",
            "[509]\tvalid_0's multi_logloss: 0.234544\n",
            "[510]\tvalid_0's multi_logloss: 0.234631\n",
            "[511]\tvalid_0's multi_logloss: 0.234642\n",
            "[512]\tvalid_0's multi_logloss: 0.234594\n",
            "[513]\tvalid_0's multi_logloss: 0.234619\n",
            "[514]\tvalid_0's multi_logloss: 0.234708\n",
            "[515]\tvalid_0's multi_logloss: 0.234848\n",
            "[516]\tvalid_0's multi_logloss: 0.234726\n",
            "[517]\tvalid_0's multi_logloss: 0.234759\n",
            "[518]\tvalid_0's multi_logloss: 0.234711\n",
            "[519]\tvalid_0's multi_logloss: 0.234758\n",
            "[520]\tvalid_0's multi_logloss: 0.234768\n",
            "[521]\tvalid_0's multi_logloss: 0.234727\n",
            "[522]\tvalid_0's multi_logloss: 0.234698\n",
            "[523]\tvalid_0's multi_logloss: 0.234729\n",
            "[524]\tvalid_0's multi_logloss: 0.234852\n",
            "[525]\tvalid_0's multi_logloss: 0.234886\n",
            "[526]\tvalid_0's multi_logloss: 0.234865\n",
            "[527]\tvalid_0's multi_logloss: 0.23486\n",
            "[528]\tvalid_0's multi_logloss: 0.234831\n",
            "[529]\tvalid_0's multi_logloss: 0.234774\n",
            "[530]\tvalid_0's multi_logloss: 0.234765\n",
            "[531]\tvalid_0's multi_logloss: 0.234675\n",
            "[532]\tvalid_0's multi_logloss: 0.234777\n",
            "[533]\tvalid_0's multi_logloss: 0.234862\n",
            "[534]\tvalid_0's multi_logloss: 0.234921\n",
            "[535]\tvalid_0's multi_logloss: 0.234953\n",
            "[536]\tvalid_0's multi_logloss: 0.234964\n",
            "[537]\tvalid_0's multi_logloss: 0.235042\n",
            "[538]\tvalid_0's multi_logloss: 0.235083\n",
            "[539]\tvalid_0's multi_logloss: 0.235062\n",
            "[540]\tvalid_0's multi_logloss: 0.235244\n",
            "[541]\tvalid_0's multi_logloss: 0.235294\n",
            "[542]\tvalid_0's multi_logloss: 0.235275\n",
            "[543]\tvalid_0's multi_logloss: 0.235405\n",
            "[544]\tvalid_0's multi_logloss: 0.235408\n",
            "[545]\tvalid_0's multi_logloss: 0.235468\n",
            "[546]\tvalid_0's multi_logloss: 0.235464\n",
            "[547]\tvalid_0's multi_logloss: 0.235456\n",
            "[548]\tvalid_0's multi_logloss: 0.235418\n",
            "[549]\tvalid_0's multi_logloss: 0.235482\n",
            "[550]\tvalid_0's multi_logloss: 0.235584\n",
            "[551]\tvalid_0's multi_logloss: 0.235652\n",
            "[552]\tvalid_0's multi_logloss: 0.235781\n",
            "[553]\tvalid_0's multi_logloss: 0.235747\n",
            "[554]\tvalid_0's multi_logloss: 0.235612\n",
            "[555]\tvalid_0's multi_logloss: 0.235584\n",
            "[556]\tvalid_0's multi_logloss: 0.235662\n",
            "[557]\tvalid_0's multi_logloss: 0.235726\n",
            "[558]\tvalid_0's multi_logloss: 0.235823\n",
            "Early stopping, best iteration is:\n",
            "[508]\tvalid_0's multi_logloss: 0.234475\n",
            "Exactitud: 93.0%\n"
          ],
          "name": "stdout"
        }
      ]
    },
    {
      "cell_type": "code",
      "metadata": {
        "id": "ON1wmh9Ct4Ro",
        "colab_type": "code",
        "colab": {},
        "outputId": "3712b2be-d2e1-4729-f7d2-8e029aaa2778"
      },
      "source": [
        "# XGBoost Classifier\n",
        "xgb_clf = xgb.XGBClassifier(objective='reg:squarederror') \n",
        "parameters = {'n_estimators': [50, 60, 70, 80, 90], \n",
        "              'learning_rate': [0.09, 0.1, 0.15, 0.2],\n",
        "              'max_depth': [3, 4, 5]}\n",
        "xgb_reg = GridSearchCV(estimator=xgb_clf, param_grid=parameters, cv=cv_train).fit(X_train,y_train)\n",
        "predict = xgb_reg.predict(X_test)\n",
        "\n",
        "\n",
        "print(xgb_reg.best_params_)\n",
        "print(\"Exactitud: {}%\".format(100*round(accuracy_score(y_test, predict), 2)))"
      ],
      "execution_count": null,
      "outputs": [
        {
          "output_type": "stream",
          "text": [
            "{'learning_rate': 0.2, 'max_depth': 5, 'n_estimators': 90}\n",
            "Exactitud: 91.0%\n"
          ],
          "name": "stdout"
        }
      ]
    },
    {
      "cell_type": "code",
      "metadata": {
        "id": "cQ0RvZsGt4Rt",
        "colab_type": "code",
        "colab": {},
        "outputId": "758b6479-60e3-4135-d782-217f46420e4b"
      },
      "source": [
        "# Random Forest\n",
        "random_forest = RandomForestClassifier()\n",
        "param_grid = {'n_estimators': [40, 50, 60], 'min_samples_split': [40, 50, 60, 70], 'min_samples_leaf': [12, 13, 14, 15, 16, 17], \n",
        "              'max_features': ['auto'], 'max_depth': [3, 4, 5, 6], 'criterion': ['gini'], 'bootstrap': [False]}\n",
        "random_forest_CV = GridSearchCV(estimator=random_forest, param_grid=param_grid, \n",
        "                             cv=cv_train, verbose=False).fit(X_train,y_train)\n",
        "predict = random_forest_CV.predict(X_test)\n",
        "\n",
        "\n",
        "print(random_forest_CV.best_params_)\n",
        "print(\"Exactitud: {}%\".format(100*round(accuracy_score(y_test, predict), 2)))"
      ],
      "execution_count": null,
      "outputs": [
        {
          "output_type": "stream",
          "text": [
            "{'bootstrap': False, 'criterion': 'gini', 'max_depth': 6, 'max_features': 'auto', 'min_samples_leaf': 17, 'min_samples_split': 50, 'n_estimators': 50}\n",
            "Exactitud: 79.0%\n"
          ],
          "name": "stdout"
        }
      ]
    },
    {
      "cell_type": "code",
      "metadata": {
        "id": "1-J62yYit4Rw",
        "colab_type": "code",
        "colab": {},
        "outputId": "dcb52a98-5cf4-487a-c17c-e7ca8aa702f1"
      },
      "source": [
        "# Decision Tree Classifier\n",
        "decision_tree = DecisionTreeClassifier()\n",
        "param_grid = {'min_samples_leaf': [i for i in range(2,10)]}\n",
        "decision_tree_CV = GridSearchCV(decision_tree, param_grid=param_grid, cv=cv_train, verbose=False).fit(X_train,y_train)\n",
        "predict = decision_tree_CV.predict(X_test)\n",
        "\n",
        "\n",
        "print(decision_tree_CV.best_params_)\n",
        "print(\"Exactitud: {}%\".format(100*round(accuracy_score(y_test, predict), 2)))"
      ],
      "execution_count": null,
      "outputs": [
        {
          "output_type": "stream",
          "text": [
            "{'min_samples_leaf': 3}\n",
            "Exactitud: 75.0%\n"
          ],
          "name": "stdout"
        }
      ]
    },
    {
      "cell_type": "code",
      "metadata": {
        "id": "W92uUWb8t4Ry",
        "colab_type": "code",
        "colab": {},
        "outputId": "1f93129a-afb2-41fd-a0a9-17b0b3bf62c7"
      },
      "source": [
        "# Stochastic Gradient Descent\n",
        "sgd = SGDClassifier(early_stopping=True)\n",
        "param_grid = {'alpha': [0.035, 0.04, 0.45]}\n",
        "sgd_CV = GridSearchCV(sgd, param_grid=param_grid, cv=cv_train, verbose=False).fit(X_train,y_train)\n",
        "predict = sgd_CV.predict(X_test)\n",
        "\n",
        "\n",
        "print(sgd_CV.best_params_)\n",
        "print(\"Exactitud: {}%\".format(100*round(accuracy_score(y_test, predict), 2)))"
      ],
      "execution_count": null,
      "outputs": [
        {
          "output_type": "stream",
          "text": [
            "{'alpha': 0.035}\n",
            "Exactitud: 69.0%\n"
          ],
          "name": "stdout"
        }
      ]
    },
    {
      "cell_type": "code",
      "metadata": {
        "id": "V5ziV_zit4R2",
        "colab_type": "code",
        "colab": {
          "base_uri": "https://localhost:8080/",
          "height": 51
        },
        "outputId": "d985aa32-4e61-4e43-dbe8-72c7c611656c"
      },
      "source": [
        "#MLPClassif\n",
        "mlp = MLPClassifier()\n",
        "param_grid = {'hidden_layer_sizes': [i for i in range(2,5)],\n",
        "              'solver': ['sgd'],\n",
        "              'learning_rate': ['adaptive'],\n",
        "              'max_iter': [1000]\n",
        "              }\n",
        "mlp_GS = GridSearchCV(mlp, param_grid=param_grid, cv=cv_train, verbose=False).fit(X_train,y_train)\n",
        "predict = mlp_GS.predict(X_test)\n",
        "\n",
        "\n",
        "print(mlp_GS.best_params_)\n",
        "print(\"Exactitud: {}%\".format(100*round(accuracy_score(y_test, predict), 2)))"
      ],
      "execution_count": null,
      "outputs": [
        {
          "output_type": "stream",
          "text": [
            "{'hidden_layer_sizes': 4, 'learning_rate': 'adaptive', 'max_iter': 1000, 'solver': 'sgd'}\n",
            "Exactitud: 71.0%\n"
          ],
          "name": "stdout"
        }
      ]
    },
    {
      "cell_type": "code",
      "metadata": {
        "id": "QlL8Sv7xt4R6",
        "colab_type": "code",
        "colab": {
          "base_uri": "https://localhost:8080/",
          "height": 51
        },
        "outputId": "fe86a427-d6ca-45d0-e5ac-367ee29306cc"
      },
      "source": [
        "#LINEAR SVC\n",
        "linear_svc = LinearSVC()\n",
        "param_grid = {'dual':[False],\n",
        "              'C': np.linspace(1, 15, 15)}\n",
        "linear_svc_CV = GridSearchCV(linear_svc, param_grid=param_grid, cv=cv_train, verbose=False).fit(X_train,y_train)\n",
        "predict = linear_svc_CV.predict(X_test)\n",
        "\n",
        "\n",
        "print(linear_svc_CV.best_params_)\n",
        "print(\"Exactitud: {}%\".format(100*round(accuracy_score(y_test, predict), 2)))"
      ],
      "execution_count": null,
      "outputs": [
        {
          "output_type": "stream",
          "text": [
            "{'C': 3.0, 'dual': False}\n",
            "Exactitud: 71.0%\n"
          ],
          "name": "stdout"
        }
      ]
    },
    {
      "cell_type": "code",
      "metadata": {
        "id": "U-TfV6qst4R9",
        "colab_type": "code",
        "colab": {},
        "outputId": "63677d69-da97-4dfb-8d10-5ac6c9812ee6"
      },
      "source": [
        "#SVR\n",
        "svr = SVC()\n",
        "svr_CV = GridSearchCV(svr, param_grid={'kernel': ['linear', 'poly', 'rbf', 'sigmoid'],\n",
        "                                       'tol': [1e-3]}, \n",
        "                      cv=cv_train, verbose=False).fit(X_train,y_train)\n",
        "predict = svr_CV.predict(X_test)\n",
        "\n",
        "\n",
        "print(svr_CV.best_params_)\n",
        "print(\"Exactitud: {}%\".format(100*round(accuracy_score(y_test, predict), 2)))"
      ],
      "execution_count": null,
      "outputs": [
        {
          "output_type": "stream",
          "text": [
            "{'kernel': 'rbf', 'tol': 0.001}\n",
            "Exactitud: 94.0%\n"
          ],
          "name": "stdout"
        }
      ]
    },
    {
      "cell_type": "code",
      "metadata": {
        "id": "LIviw1Ett4SA",
        "colab_type": "code",
        "colab": {},
        "outputId": "16523c1c-9fe3-4fb6-cf1a-b863af52decd"
      },
      "source": [
        "##KNN\n",
        "knn = KNeighborsClassifier()\n",
        "knn_CV = GridSearchCV(estimator=knn, param_grid={'n_neighbors': range(1, 100)}, \n",
        "                      cv=cv_train, verbose=False).fit(X_train,y_train)\n",
        "predict = knn_CV.predict(X_test)\n",
        "\n",
        "# Precisión lograda por knn con gridsearchcv\n",
        "print(knn_CV.best_params_)\n",
        "print(\"Exactitud: {}%\".format(100*round(accuracy_score(y_test, predict), 2)))\n",
        "###########END JAIRO HERNANDEZ###################"
      ],
      "execution_count": null,
      "outputs": [
        {
          "output_type": "stream",
          "text": [
            "{'n_neighbors': 14}\n",
            "Exactitud: 93.0%\n"
          ],
          "name": "stdout"
        }
      ]
    },
    {
      "cell_type": "markdown",
      "metadata": {
        "id": "kKakzWnVt4SD",
        "colab_type": "text"
      },
      "source": [
        "#### Creando un modelo basado en árboles de decisión"
      ]
    },
    {
      "cell_type": "markdown",
      "metadata": {
        "id": "Fo-wI6OEt4SD",
        "colab_type": "text"
      },
      "source": [
        "En el ejemplo proporcionado, crearemos un clasificador basado en **árboles de decisión**.\n",
        "\n",
        "El primer paso es básicamente crear una instancia de un objeto *DecisionTreeClassifier ()* de la biblioteca scikit-learn."
      ]
    },
    {
      "cell_type": "code",
      "metadata": {
        "id": "8312Y4WBt4SE",
        "colab_type": "code",
        "colab": {}
      },
      "source": [
        "# Creando el árbol de decisiones con la biblioteca ``scikit-learn``:\n",
        "dtc_model = DecisionTreeClassifier()  # El modelo se creará con los parámetros estándar de la biblioteca"
      ],
      "execution_count": null,
      "outputs": []
    },
    {
      "cell_type": "markdown",
      "metadata": {
        "id": "tax4wNuCt4SH",
        "colab_type": "text"
      },
      "source": [
        "Material teórico sobre árboles de decisión en la documentación oficial de scikit-learn: https://scikit-learn.org/stable/modules/tree.html\n",
        "\n",
        "Una guía para principiantes del mundo del aprendizaje automático: https://developer.ibm.com/es/patterns/use-icp4d-to-build-the-machine-learning-model-for-return-propensity/"
      ]
    },
    {
      "cell_type": "markdown",
      "metadata": {
        "id": "W8jXsDSbt4SH",
        "colab_type": "text"
      },
      "source": [
        "#### Ejecucion del entrenamiento del árbol de descisión "
      ]
    },
    {
      "cell_type": "code",
      "metadata": {
        "id": "jpx5MHBkt4SI",
        "colab_type": "code",
        "colab": {},
        "outputId": "df66dce4-4352-4af6-959a-0937cdae162d"
      },
      "source": [
        "# Entrenamiento de modelos (llamado método *fit ()* con conjuntos de entrenamiento)\n",
        "dtc_model.fit(\n",
        "    X_train,\n",
        "    y_train\n",
        ")"
      ],
      "execution_count": null,
      "outputs": [
        {
          "output_type": "execute_result",
          "data": {
            "text/plain": [
              "DecisionTreeClassifier()"
            ]
          },
          "metadata": {
            "tags": []
          },
          "execution_count": 30
        }
      ]
    },
    {
      "cell_type": "markdown",
      "metadata": {
        "id": "F8YEiv0it4SK",
        "colab_type": "text"
      },
      "source": [
        "#### Ejecución de predicciones y evaluación del modelo creado"
      ]
    },
    {
      "cell_type": "code",
      "metadata": {
        "id": "7fBgWwOat4SL",
        "colab_type": "code",
        "colab": {}
      },
      "source": [
        "# Realización de una prueba a ciegas en el modelo creado\n",
        "y_pred = dtc_model.predict(X_test)"
      ],
      "execution_count": null,
      "outputs": []
    },
    {
      "cell_type": "code",
      "metadata": {
        "id": "-jWrENMct4SN",
        "colab_type": "code",
        "colab": {},
        "outputId": "b29cd4f7-f83f-468e-a20b-91429f5a45e6"
      },
      "source": [
        "X_test.head()"
      ],
      "execution_count": null,
      "outputs": [
        {
          "output_type": "execute_result",
          "data": {
            "text/plain": [
              "         0         1         2         3         4         5         6   \\\n",
              "0  0.320898 -1.060326  0.431051 -0.234615  0.649361  0.616990  0.416144   \n",
              "1 -0.188413  0.559245  1.016509 -0.916357  0.151516  0.616990 -1.323639   \n",
              "2 -0.629980 -0.520469 -1.955816 -0.526790 -0.844175 -0.339637 -0.453748   \n",
              "3  0.599449  1.638960  0.881403 -0.721574  2.142898  0.138677 -0.018802   \n",
              "4 -0.552408  1.099102 -0.649795 -0.867662  2.142898 -1.774576  1.720981   \n",
              "\n",
              "         7         8         9         10        11        12  \n",
              "0 -0.658677  1.701570  0.318352  2.006331  0.475715 -0.497647  \n",
              "1  1.711128  2.629413 -0.681835 -0.578143 -1.288428 -0.705198  \n",
              "2  0.763206 -1.081957  0.318352  1.934540  0.899109  0.540106  \n",
              "3  1.711128  1.701570 -1.682022 -0.793515 -1.358994 -1.397034  \n",
              "4 -1.606600 -1.081957  0.818446 -0.649934 -0.935600  1.854595  "
            ],
            "text/html": [
              "<div>\n",
              "<style scoped>\n",
              "    .dataframe tbody tr th:only-of-type {\n",
              "        vertical-align: middle;\n",
              "    }\n",
              "\n",
              "    .dataframe tbody tr th {\n",
              "        vertical-align: top;\n",
              "    }\n",
              "\n",
              "    .dataframe thead th {\n",
              "        text-align: right;\n",
              "    }\n",
              "</style>\n",
              "<table border=\"1\" class=\"dataframe\">\n",
              "  <thead>\n",
              "    <tr style=\"text-align: right;\">\n",
              "      <th></th>\n",
              "      <th>0</th>\n",
              "      <th>1</th>\n",
              "      <th>2</th>\n",
              "      <th>3</th>\n",
              "      <th>4</th>\n",
              "      <th>5</th>\n",
              "      <th>6</th>\n",
              "      <th>7</th>\n",
              "      <th>8</th>\n",
              "      <th>9</th>\n",
              "      <th>10</th>\n",
              "      <th>11</th>\n",
              "      <th>12</th>\n",
              "    </tr>\n",
              "  </thead>\n",
              "  <tbody>\n",
              "    <tr>\n",
              "      <th>0</th>\n",
              "      <td>0.320898</td>\n",
              "      <td>-1.060326</td>\n",
              "      <td>0.431051</td>\n",
              "      <td>-0.234615</td>\n",
              "      <td>0.649361</td>\n",
              "      <td>0.616990</td>\n",
              "      <td>0.416144</td>\n",
              "      <td>-0.658677</td>\n",
              "      <td>1.701570</td>\n",
              "      <td>0.318352</td>\n",
              "      <td>2.006331</td>\n",
              "      <td>0.475715</td>\n",
              "      <td>-0.497647</td>\n",
              "    </tr>\n",
              "    <tr>\n",
              "      <th>1</th>\n",
              "      <td>-0.188413</td>\n",
              "      <td>0.559245</td>\n",
              "      <td>1.016509</td>\n",
              "      <td>-0.916357</td>\n",
              "      <td>0.151516</td>\n",
              "      <td>0.616990</td>\n",
              "      <td>-1.323639</td>\n",
              "      <td>1.711128</td>\n",
              "      <td>2.629413</td>\n",
              "      <td>-0.681835</td>\n",
              "      <td>-0.578143</td>\n",
              "      <td>-1.288428</td>\n",
              "      <td>-0.705198</td>\n",
              "    </tr>\n",
              "    <tr>\n",
              "      <th>2</th>\n",
              "      <td>-0.629980</td>\n",
              "      <td>-0.520469</td>\n",
              "      <td>-1.955816</td>\n",
              "      <td>-0.526790</td>\n",
              "      <td>-0.844175</td>\n",
              "      <td>-0.339637</td>\n",
              "      <td>-0.453748</td>\n",
              "      <td>0.763206</td>\n",
              "      <td>-1.081957</td>\n",
              "      <td>0.318352</td>\n",
              "      <td>1.934540</td>\n",
              "      <td>0.899109</td>\n",
              "      <td>0.540106</td>\n",
              "    </tr>\n",
              "    <tr>\n",
              "      <th>3</th>\n",
              "      <td>0.599449</td>\n",
              "      <td>1.638960</td>\n",
              "      <td>0.881403</td>\n",
              "      <td>-0.721574</td>\n",
              "      <td>2.142898</td>\n",
              "      <td>0.138677</td>\n",
              "      <td>-0.018802</td>\n",
              "      <td>1.711128</td>\n",
              "      <td>1.701570</td>\n",
              "      <td>-1.682022</td>\n",
              "      <td>-0.793515</td>\n",
              "      <td>-1.358994</td>\n",
              "      <td>-1.397034</td>\n",
              "    </tr>\n",
              "    <tr>\n",
              "      <th>4</th>\n",
              "      <td>-0.552408</td>\n",
              "      <td>1.099102</td>\n",
              "      <td>-0.649795</td>\n",
              "      <td>-0.867662</td>\n",
              "      <td>2.142898</td>\n",
              "      <td>-1.774576</td>\n",
              "      <td>1.720981</td>\n",
              "      <td>-1.606600</td>\n",
              "      <td>-1.081957</td>\n",
              "      <td>0.818446</td>\n",
              "      <td>-0.649934</td>\n",
              "      <td>-0.935600</td>\n",
              "      <td>1.854595</td>\n",
              "    </tr>\n",
              "  </tbody>\n",
              "</table>\n",
              "</div>"
            ]
          },
          "metadata": {
            "tags": []
          },
          "execution_count": 32
        }
      ]
    },
    {
      "cell_type": "code",
      "metadata": {
        "id": "TYF9Jl8tt4SQ",
        "colab_type": "code",
        "colab": {},
        "outputId": "136dfb31-bb49-427b-d8b1-ad8f2f75f863"
      },
      "source": [
        "print(y_pred)"
      ],
      "execution_count": null,
      "outputs": [
        {
          "output_type": "stream",
          "text": [
            "['beginner_front_end' 'advanced_data_science' 'beginner_data_science' ...\n",
            " 'beginner_backend' 'advanced_backend' 'beginner_front_end']\n"
          ],
          "name": "stdout"
        }
      ]
    },
    {
      "cell_type": "code",
      "metadata": {
        "id": "CLuRh-1St4ST",
        "colab_type": "code",
        "colab": {},
        "outputId": "b7d54f7a-ec3c-44b2-af65-6ce8286025ca"
      },
      "source": [
        "from sklearn.metrics import accuracy_score\n",
        "\n",
        "# Precisión lograda por el árbol de decisiones\n",
        "print(\"Exactitud: {}%\".format(100*round(accuracy_score(y_test, y_pred), 2)))"
      ],
      "execution_count": null,
      "outputs": [
        {
          "output_type": "stream",
          "text": [
            "Exactitud: 75.0%\n"
          ],
          "name": "stdout"
        }
      ]
    },
    {
      "cell_type": "markdown",
      "metadata": {
        "id": "nxcD3HMwt4SY",
        "colab_type": "text"
      },
      "source": [
        "<hr>"
      ]
    },
    {
      "cell_type": "markdown",
      "metadata": {
        "id": "p7La9og5t4SY",
        "colab_type": "text"
      },
      "source": [
        "Este notebook demostró cómo trabajar con transformaciones y modelos con la biblioteca scikit-learn. Se recomienda que el participante realice sus experimentos editando el código proporcionado aquí hasta lograr un modelo con alta precisión.\n",
        "\n",
        "Cuando esté satisfecho con su modelo, puede pasar al segundo paso del desafío: encapsular su modelo como una API REST lista para usar con Watson Machine Learning.\n",
        "\n",
        "El notebook para la segunda etapa ya está en este proyecto, simplemente acceda a la pestaña **ASSETS** e inícielo. No olvide apagar primero el Kernel en este portátil para reducir el consumo de su nivel gratuito de IBM Cloud Pak for Data."
      ]
    }
  ]
}